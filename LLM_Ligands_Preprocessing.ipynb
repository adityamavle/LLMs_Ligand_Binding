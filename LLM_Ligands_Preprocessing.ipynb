{
  "cells": [
    {
      "cell_type": "markdown",
      "metadata": {
        "id": "view-in-github",
        "colab_type": "text"
      },
      "source": [
        "<a href=\"https://colab.research.google.com/github/adityamavle/LLMs_Ligand_Binding/blob/master/LLM_Ligands_Preprocessing.ipynb\" target=\"_parent\"><img src=\"https://colab.research.google.com/assets/colab-badge.svg\" alt=\"Open In Colab\"/></a>"
      ]
    },
    {
      "cell_type": "markdown",
      "source": [
        "## Processing csv"
      ],
      "metadata": {
        "id": "nh0hoKq9Dco1"
      }
    },
    {
      "cell_type": "markdown",
      "metadata": {
        "id": "UVVhutQ2VD22"
      },
      "source": [
        "Processing the csv and the .pkt descriptions to extract a unique long string of .pkt files to submit to https://www.rcsb.org/downloads/fasta to extract 3DI sequences in Fasta format."
      ]
    },
    {
      "cell_type": "code",
      "execution_count": null,
      "metadata": {
        "id": "8UaiskswabrC"
      },
      "outputs": [],
      "source": [
        "import pandas as pd"
      ]
    },
    {
      "cell_type": "code",
      "execution_count": null,
      "metadata": {
        "colab": {
          "base_uri": "https://localhost:8080/",
          "height": 504
        },
        "id": "4xM48bT1ae2W",
        "outputId": "bb6c6683-55be-4656-98e1-bcdf35c59db9"
      },
      "outputs": [
        {
          "data": {
            "application/vnd.google.colaboratory.intrinsic+json": {
              "summary": "{\n  \"name\": \"df\",\n  \"rows\": 54236,\n  \"fields\": [\n    {\n      \"column\": \"Pocket Description\",\n      \"properties\": {\n        \"dtype\": \"string\",\n        \"num_unique_values\": 27118,\n        \"samples\": [\n          \"3T8ND00.pkt\",\n          \"2C03B08.pkt\",\n          \"3K6VA00.pkt\"\n        ],\n        \"semantic_type\": \"\",\n        \"description\": \"\"\n      }\n    },\n    {\n      \"column\": \"Extracted Positions\",\n      \"properties\": {\n        \"dtype\": \"category\",\n        \"num_unique_values\": 26518,\n        \"samples\": [\n          \"['1', '2', '3', '67', '71', '72', '73', '74', '75', '76', '98', '99', '100', '101']\",\n          \"['59', '60', '63', '90', '105', '127', '128', '129', '130', '134', '135', '136', '139', '140', '141', '142', '165', '166', '167', '168', '169', '170', '172', '190', '239', '241', '250', '251', '252', '254', '255', '256']\",\n          \"['71', '72', '221', '222', '223', '224', '226', '229', '230', '250', '271', '272', '273', '297', '319', '320', '321', '391', '453', '454', '471']\"\n        ],\n        \"semantic_type\": \"\",\n        \"description\": \"\"\n      }\n    },\n    {\n      \"column\": \"Amino Acid\",\n      \"properties\": {\n        \"dtype\": \"category\",\n        \"num_unique_values\": 26785,\n        \"samples\": [\n          \"MGVSGSGKSAVAVCSIRLARIDQPLEGVV\",\n          \"KYGAAPLAIRIAVEDGATMTSNETY\",\n          \"LKFPLTHNVG\"\n        ],\n        \"semantic_type\": \"\",\n        \"description\": \"\"\n      }\n    },\n    {\n      \"column\": \"Ligand Name\",\n      \"properties\": {\n        \"dtype\": \"category\",\n        \"num_unique_values\": 2781,\n        \"samples\": [\n          \"SHV\",\n          \"EPY\",\n          \"ZPA\"\n        ],\n        \"semantic_type\": \"\",\n        \"description\": \"\"\n      }\n    },\n    {\n      \"column\": \"SMILES\",\n      \"properties\": {\n        \"dtype\": \"category\",\n        \"num_unique_values\": 2745,\n        \"samples\": [\n          \"CC(C)CN(C[C@H]([C@H](CC1=CC=CC=C1)NC(=O)O[C@H]2CO[C@@H]3[C@H]2[C@H]4CCO[C@H]4O3)O)S(=O)(=O)C5=CC=C(C=C5)OC\",\n          \"C1CN(CC2=C1N=CS2)CC3=CC(=CC=C3)C4=CC=CC(=C4)CNCCC5=CN=CC=C5\",\n          \"CP(=O)(N[C@H](CCC(=O)O)C(=O)O)O\"\n        ],\n        \"semantic_type\": \"\",\n        \"description\": \"\"\n      }\n    },\n    {\n      \"column\": \"Ground Truth\",\n      \"properties\": {\n        \"dtype\": \"category\",\n        \"num_unique_values\": 2,\n        \"samples\": [\n          \"No\",\n          \"Yes\"\n        ],\n        \"semantic_type\": \"\",\n        \"description\": \"\"\n      }\n    }\n  ]\n}",
              "type": "dataframe",
              "variable_name": "df"
            },
            "text/html": [
              "\n",
              "  <div id=\"df-d8e3c798-0f45-42db-acb2-b061c508b8f8\" class=\"colab-df-container\">\n",
              "    <div>\n",
              "<style scoped>\n",
              "    .dataframe tbody tr th:only-of-type {\n",
              "        vertical-align: middle;\n",
              "    }\n",
              "\n",
              "    .dataframe tbody tr th {\n",
              "        vertical-align: top;\n",
              "    }\n",
              "\n",
              "    .dataframe thead th {\n",
              "        text-align: right;\n",
              "    }\n",
              "</style>\n",
              "<table border=\"1\" class=\"dataframe\">\n",
              "  <thead>\n",
              "    <tr style=\"text-align: right;\">\n",
              "      <th></th>\n",
              "      <th>Pocket Description</th>\n",
              "      <th>Extracted Positions</th>\n",
              "      <th>Amino Acid</th>\n",
              "      <th>Ligand Name</th>\n",
              "      <th>SMILES</th>\n",
              "      <th>Ground Truth</th>\n",
              "    </tr>\n",
              "  </thead>\n",
              "  <tbody>\n",
              "    <tr>\n",
              "      <th>0</th>\n",
              "      <td>2Y2BA01.pkt</td>\n",
              "      <td>['18', '19', '20', '34', '35', '36', '51', '52...</td>\n",
              "      <td>HYDHNILFLRVSARAWHAGVSNGEHARKD</td>\n",
              "      <td>MHI</td>\n",
              "      <td>C[C@@H](C(=O)N[C@H](CCC(=O)N[C@@H](CCC[C@H](C(...</td>\n",
              "      <td>Yes</td>\n",
              "    </tr>\n",
              "    <tr>\n",
              "      <th>1</th>\n",
              "      <td>2Y24A05.pkt</td>\n",
              "      <td>['327', '328', '329', '330', '371', '373', '374']</td>\n",
              "      <td>SDQMWNP</td>\n",
              "      <td>PG4</td>\n",
              "      <td>C(COCCOCCOCCO)O</td>\n",
              "      <td>Yes</td>\n",
              "    </tr>\n",
              "    <tr>\n",
              "      <th>2</th>\n",
              "      <td>2Y24A04.pkt</td>\n",
              "      <td>['233', '234', '235', '236', '237', '238', '23...</td>\n",
              "      <td>NNWTSAIETDSASLS</td>\n",
              "      <td>PG4</td>\n",
              "      <td>C(COCCOCCOCCO)O</td>\n",
              "      <td>Yes</td>\n",
              "    </tr>\n",
              "    <tr>\n",
              "      <th>3</th>\n",
              "      <td>2Y24A06.pkt</td>\n",
              "      <td>['107', '108', '110', '111', '112', '113', '11...</td>\n",
              "      <td>SATSHLLDFSKQSKFG</td>\n",
              "      <td>PGE</td>\n",
              "      <td>C1C(O1)COC2=CC=CC=C2</td>\n",
              "      <td>Yes</td>\n",
              "    </tr>\n",
              "    <tr>\n",
              "      <th>4</th>\n",
              "      <td>1Y2UA01.pkt</td>\n",
              "      <td>['26', '27', '28', '29', '30', '45', '46', '47...</td>\n",
              "      <td>KYANGGGSGTN</td>\n",
              "      <td>GAL</td>\n",
              "      <td>C([C@@H]1[C@@H]([C@@H]([C@H](C(O1)O)O)O)O)O</td>\n",
              "      <td>Yes</td>\n",
              "    </tr>\n",
              "  </tbody>\n",
              "</table>\n",
              "</div>\n",
              "    <div class=\"colab-df-buttons\">\n",
              "\n",
              "  <div class=\"colab-df-container\">\n",
              "    <button class=\"colab-df-convert\" onclick=\"convertToInteractive('df-d8e3c798-0f45-42db-acb2-b061c508b8f8')\"\n",
              "            title=\"Convert this dataframe to an interactive table.\"\n",
              "            style=\"display:none;\">\n",
              "\n",
              "  <svg xmlns=\"http://www.w3.org/2000/svg\" height=\"24px\" viewBox=\"0 -960 960 960\">\n",
              "    <path d=\"M120-120v-720h720v720H120Zm60-500h600v-160H180v160Zm220 220h160v-160H400v160Zm0 220h160v-160H400v160ZM180-400h160v-160H180v160Zm440 0h160v-160H620v160ZM180-180h160v-160H180v160Zm440 0h160v-160H620v160Z\"/>\n",
              "  </svg>\n",
              "    </button>\n",
              "\n",
              "  <style>\n",
              "    .colab-df-container {\n",
              "      display:flex;\n",
              "      gap: 12px;\n",
              "    }\n",
              "\n",
              "    .colab-df-convert {\n",
              "      background-color: #E8F0FE;\n",
              "      border: none;\n",
              "      border-radius: 50%;\n",
              "      cursor: pointer;\n",
              "      display: none;\n",
              "      fill: #1967D2;\n",
              "      height: 32px;\n",
              "      padding: 0 0 0 0;\n",
              "      width: 32px;\n",
              "    }\n",
              "\n",
              "    .colab-df-convert:hover {\n",
              "      background-color: #E2EBFA;\n",
              "      box-shadow: 0px 1px 2px rgba(60, 64, 67, 0.3), 0px 1px 3px 1px rgba(60, 64, 67, 0.15);\n",
              "      fill: #174EA6;\n",
              "    }\n",
              "\n",
              "    .colab-df-buttons div {\n",
              "      margin-bottom: 4px;\n",
              "    }\n",
              "\n",
              "    [theme=dark] .colab-df-convert {\n",
              "      background-color: #3B4455;\n",
              "      fill: #D2E3FC;\n",
              "    }\n",
              "\n",
              "    [theme=dark] .colab-df-convert:hover {\n",
              "      background-color: #434B5C;\n",
              "      box-shadow: 0px 1px 3px 1px rgba(0, 0, 0, 0.15);\n",
              "      filter: drop-shadow(0px 1px 2px rgba(0, 0, 0, 0.3));\n",
              "      fill: #FFFFFF;\n",
              "    }\n",
              "  </style>\n",
              "\n",
              "    <script>\n",
              "      const buttonEl =\n",
              "        document.querySelector('#df-d8e3c798-0f45-42db-acb2-b061c508b8f8 button.colab-df-convert');\n",
              "      buttonEl.style.display =\n",
              "        google.colab.kernel.accessAllowed ? 'block' : 'none';\n",
              "\n",
              "      async function convertToInteractive(key) {\n",
              "        const element = document.querySelector('#df-d8e3c798-0f45-42db-acb2-b061c508b8f8');\n",
              "        const dataTable =\n",
              "          await google.colab.kernel.invokeFunction('convertToInteractive',\n",
              "                                                    [key], {});\n",
              "        if (!dataTable) return;\n",
              "\n",
              "        const docLinkHtml = 'Like what you see? Visit the ' +\n",
              "          '<a target=\"_blank\" href=https://colab.research.google.com/notebooks/data_table.ipynb>data table notebook</a>'\n",
              "          + ' to learn more about interactive tables.';\n",
              "        element.innerHTML = '';\n",
              "        dataTable['output_type'] = 'display_data';\n",
              "        await google.colab.output.renderOutput(dataTable, element);\n",
              "        const docLink = document.createElement('div');\n",
              "        docLink.innerHTML = docLinkHtml;\n",
              "        element.appendChild(docLink);\n",
              "      }\n",
              "    </script>\n",
              "  </div>\n",
              "\n",
              "\n",
              "<div id=\"df-d3e14042-2978-45e0-96e6-74be72513e5f\">\n",
              "  <button class=\"colab-df-quickchart\" onclick=\"quickchart('df-d3e14042-2978-45e0-96e6-74be72513e5f')\"\n",
              "            title=\"Suggest charts\"\n",
              "            style=\"display:none;\">\n",
              "\n",
              "<svg xmlns=\"http://www.w3.org/2000/svg\" height=\"24px\"viewBox=\"0 0 24 24\"\n",
              "     width=\"24px\">\n",
              "    <g>\n",
              "        <path d=\"M19 3H5c-1.1 0-2 .9-2 2v14c0 1.1.9 2 2 2h14c1.1 0 2-.9 2-2V5c0-1.1-.9-2-2-2zM9 17H7v-7h2v7zm4 0h-2V7h2v10zm4 0h-2v-4h2v4z\"/>\n",
              "    </g>\n",
              "</svg>\n",
              "  </button>\n",
              "\n",
              "<style>\n",
              "  .colab-df-quickchart {\n",
              "      --bg-color: #E8F0FE;\n",
              "      --fill-color: #1967D2;\n",
              "      --hover-bg-color: #E2EBFA;\n",
              "      --hover-fill-color: #174EA6;\n",
              "      --disabled-fill-color: #AAA;\n",
              "      --disabled-bg-color: #DDD;\n",
              "  }\n",
              "\n",
              "  [theme=dark] .colab-df-quickchart {\n",
              "      --bg-color: #3B4455;\n",
              "      --fill-color: #D2E3FC;\n",
              "      --hover-bg-color: #434B5C;\n",
              "      --hover-fill-color: #FFFFFF;\n",
              "      --disabled-bg-color: #3B4455;\n",
              "      --disabled-fill-color: #666;\n",
              "  }\n",
              "\n",
              "  .colab-df-quickchart {\n",
              "    background-color: var(--bg-color);\n",
              "    border: none;\n",
              "    border-radius: 50%;\n",
              "    cursor: pointer;\n",
              "    display: none;\n",
              "    fill: var(--fill-color);\n",
              "    height: 32px;\n",
              "    padding: 0;\n",
              "    width: 32px;\n",
              "  }\n",
              "\n",
              "  .colab-df-quickchart:hover {\n",
              "    background-color: var(--hover-bg-color);\n",
              "    box-shadow: 0 1px 2px rgba(60, 64, 67, 0.3), 0 1px 3px 1px rgba(60, 64, 67, 0.15);\n",
              "    fill: var(--button-hover-fill-color);\n",
              "  }\n",
              "\n",
              "  .colab-df-quickchart-complete:disabled,\n",
              "  .colab-df-quickchart-complete:disabled:hover {\n",
              "    background-color: var(--disabled-bg-color);\n",
              "    fill: var(--disabled-fill-color);\n",
              "    box-shadow: none;\n",
              "  }\n",
              "\n",
              "  .colab-df-spinner {\n",
              "    border: 2px solid var(--fill-color);\n",
              "    border-color: transparent;\n",
              "    border-bottom-color: var(--fill-color);\n",
              "    animation:\n",
              "      spin 1s steps(1) infinite;\n",
              "  }\n",
              "\n",
              "  @keyframes spin {\n",
              "    0% {\n",
              "      border-color: transparent;\n",
              "      border-bottom-color: var(--fill-color);\n",
              "      border-left-color: var(--fill-color);\n",
              "    }\n",
              "    20% {\n",
              "      border-color: transparent;\n",
              "      border-left-color: var(--fill-color);\n",
              "      border-top-color: var(--fill-color);\n",
              "    }\n",
              "    30% {\n",
              "      border-color: transparent;\n",
              "      border-left-color: var(--fill-color);\n",
              "      border-top-color: var(--fill-color);\n",
              "      border-right-color: var(--fill-color);\n",
              "    }\n",
              "    40% {\n",
              "      border-color: transparent;\n",
              "      border-right-color: var(--fill-color);\n",
              "      border-top-color: var(--fill-color);\n",
              "    }\n",
              "    60% {\n",
              "      border-color: transparent;\n",
              "      border-right-color: var(--fill-color);\n",
              "    }\n",
              "    80% {\n",
              "      border-color: transparent;\n",
              "      border-right-color: var(--fill-color);\n",
              "      border-bottom-color: var(--fill-color);\n",
              "    }\n",
              "    90% {\n",
              "      border-color: transparent;\n",
              "      border-bottom-color: var(--fill-color);\n",
              "    }\n",
              "  }\n",
              "</style>\n",
              "\n",
              "  <script>\n",
              "    async function quickchart(key) {\n",
              "      const quickchartButtonEl =\n",
              "        document.querySelector('#' + key + ' button');\n",
              "      quickchartButtonEl.disabled = true;  // To prevent multiple clicks.\n",
              "      quickchartButtonEl.classList.add('colab-df-spinner');\n",
              "      try {\n",
              "        const charts = await google.colab.kernel.invokeFunction(\n",
              "            'suggestCharts', [key], {});\n",
              "      } catch (error) {\n",
              "        console.error('Error during call to suggestCharts:', error);\n",
              "      }\n",
              "      quickchartButtonEl.classList.remove('colab-df-spinner');\n",
              "      quickchartButtonEl.classList.add('colab-df-quickchart-complete');\n",
              "    }\n",
              "    (() => {\n",
              "      let quickchartButtonEl =\n",
              "        document.querySelector('#df-d3e14042-2978-45e0-96e6-74be72513e5f button');\n",
              "      quickchartButtonEl.style.display =\n",
              "        google.colab.kernel.accessAllowed ? 'block' : 'none';\n",
              "    })();\n",
              "  </script>\n",
              "</div>\n",
              "\n",
              "    </div>\n",
              "  </div>\n"
            ],
            "text/plain": [
              "  Pocket Description                                Extracted Positions  \\\n",
              "0        2Y2BA01.pkt  ['18', '19', '20', '34', '35', '36', '51', '52...   \n",
              "1        2Y24A05.pkt  ['327', '328', '329', '330', '371', '373', '374']   \n",
              "2        2Y24A04.pkt  ['233', '234', '235', '236', '237', '238', '23...   \n",
              "3        2Y24A06.pkt  ['107', '108', '110', '111', '112', '113', '11...   \n",
              "4        1Y2UA01.pkt  ['26', '27', '28', '29', '30', '45', '46', '47...   \n",
              "\n",
              "                      Amino Acid Ligand Name  \\\n",
              "0  HYDHNILFLRVSARAWHAGVSNGEHARKD         MHI   \n",
              "1                        SDQMWNP         PG4   \n",
              "2                NNWTSAIETDSASLS         PG4   \n",
              "3               SATSHLLDFSKQSKFG         PGE   \n",
              "4                    KYANGGGSGTN         GAL   \n",
              "\n",
              "                                              SMILES Ground Truth  \n",
              "0  C[C@@H](C(=O)N[C@H](CCC(=O)N[C@@H](CCC[C@H](C(...          Yes  \n",
              "1                                    C(COCCOCCOCCO)O          Yes  \n",
              "2                                    C(COCCOCCOCCO)O          Yes  \n",
              "3                               C1C(O1)COC2=CC=CC=C2          Yes  \n",
              "4        C([C@@H]1[C@@H]([C@@H]([C@H](C(O1)O)O)O)O)O          Yes  "
            ]
          },
          "execution_count": 9,
          "metadata": {},
          "output_type": "execute_result"
        }
      ],
      "source": [
        "df = pd.read_csv('data_with_pocketligand_SMILES.csv')\n",
        "df.head()"
      ]
    },
    {
      "cell_type": "code",
      "execution_count": null,
      "metadata": {
        "colab": {
          "base_uri": "https://localhost:8080/"
        },
        "id": "btNwpu5rcJxd",
        "outputId": "9580014d-0ae8-4ff1-df70-19ac1a5bfa45"
      },
      "outputs": [
        {
          "name": "stdout",
          "output_type": "stream",
          "text": [
            "4ABI\n"
          ]
        }
      ],
      "source": [
        "string = '4ABIA06.pkt'\n",
        "print(string[0:4])"
      ]
    },
    {
      "cell_type": "code",
      "execution_count": null,
      "metadata": {
        "id": "pr-rvpVNazvl"
      },
      "outputs": [],
      "source": [
        "pdb_id_set = set()\n",
        "for i,row in df.iterrows():\n",
        "  string = row['Pocket Description']\n",
        "  pdb_id_set.add(string[0:4])"
      ]
    },
    {
      "cell_type": "markdown",
      "source": [
        "Total Entries: 54236\n",
        "Unique PDB IDs: 14015"
      ],
      "metadata": {
        "id": "ofXcosJMSqEz"
      }
    },
    {
      "cell_type": "code",
      "execution_count": null,
      "metadata": {
        "colab": {
          "base_uri": "https://localhost:8080/"
        },
        "id": "f4x977EtbsCh",
        "outputId": "ca59c375-d9ad-48cc-c7af-222f6e75fb62"
      },
      "outputs": [
        {
          "name": "stdout",
          "output_type": "stream",
          "text": [
            "54236\n",
            "14015\n"
          ]
        }
      ],
      "source": [
        "print(len(df))\n",
        "print(len(pdb_id_set))\n"
      ]
    },
    {
      "cell_type": "code",
      "execution_count": null,
      "metadata": {
        "id": "2hC3AgqXcslD"
      },
      "outputs": [],
      "source": [
        "pdb_id_list = list(pdb_id_set)"
      ]
    },
    {
      "cell_type": "code",
      "execution_count": null,
      "metadata": {
        "id": "Ssn8_5mhd8Hn"
      },
      "outputs": [],
      "source": [
        "formatted_string = \", \".join(pdb_id_list)\n",
        "with open(\"pdb_ids.txt\", \"w\") as file:\n",
        "    file.write(formatted_string)"
      ]
    },
    {
      "cell_type": "code",
      "execution_count": null,
      "metadata": {
        "colab": {
          "base_uri": "https://localhost:8080/"
        },
        "id": "5dpmI0bIeCuW",
        "outputId": "6cb89a3c-9552-4e2c-98da-82ecfece5191"
      },
      "outputs": [
        {
          "name": "stdout",
          "output_type": "stream",
          "text": [
            "3GL1, 4BHE, 3PPS, 4EEI, 3TD4, 3S64, 3EHE, 1CLE, 3WH4, 1WTD, 3H2A, 3UPB, 1VRQ, 1SSQ, 2VXV, 3ZQV, 3TJM, 1ME7, 3TO3, 4JZP, 4LPS, 3L80, 4RDZ, 1VRP, 1M9N, 4JRL, 4I4I, 3T0J, 4EOJ, 4GEF, 3KWW, 1BR1, 4MVN, 1ICP, 2Y7H, 3KV4, 1XRS, 3CGG, 3G25, 2X3J, 3AFO, 2HDF, 3FDH, 2EIS, 2IOP, 2R5D, 3I4S, 4HXF, 1AJ8, 4BGL, 1SDI, 3PNN, 3LWK, 4BQK, 1WD5, 3NQN, 1J3R, 2CYE, 3UZQ, 2JHN, 3QPH, 4LOW, 3W9F, 4H83, 1NXJ, 2R7H, 3EF2, 2HQY, 2XQR, 3WB9, 2HTA, 3BE8, 1B4B, 3NK4, 1ZA5, 3LWZ, 4X0T, 3E0Z, 2BEZ, 2PE4, 4IGK, 2ZPL, 4K7I, 4AXW, 3AQX, 3T2L, 3S5L, 4HB2, 3EQL, 4WPD, 3TO8, 3MH6, 4B21, 1W33, 1Y9I, 4ADG, 4CGO, 3CDU, 4HYZ, 3UXD, 2GEW, 1P3E, 4WZR, 4NG6, 4FZA, 1G3I, 3RIH, 2ELC, 3F1J, 3M4P, 4LZL, 4HUT, 4NMY, 4BQN, 2RIO, 3S6T, 1AEC, 1FLZ, 4GXO, 3MCV, 2UVQ, 2YN1, 1LYW, 1PDZ, 1BZS, 4L5P, 3UNG, 3L9R, 2HNL, 3B0U, 3KFE, 3SPG, 1G9N, 4NKP, 3EQV, 4CGP, 2WQU, 3FSY, 3KH2, 4WSQ, 2HZP, 4C81, 1LTQ, 1F5N, 3CD3, 2JE9, 4J9N, 2JEK, 3IBO, 2C1Q, 3GKH, 1A5Z, 3HGM, 1HPB, 3OA4, 3STU, 4XDL, 2A5J, 1VQW, 3BUS, 4KC7, 1XTJ, 1Z3N, 2X9K, 3A3D, 1Q3K, 4OOE, 3VPL, 2YYZ, 3F51, 3L5A, 2J0B, 3FFB, 2WAM, 3GD7, 1U4J, 1FMW, 3ATP, 3MZS, 3S5X, 2WDW, 3ZK7, 1N5D, 2RFM, 1TA0, 4WGY, 3CFE, 1IOA, 2XIV, 4OZV, 4RP9, 4KVO, 2DOU, 2PX6, 1LRT, 3BFN, 3BWC, 3O0M, 3NQO, 2DT9, 4EX8, 4RK0, 3FO5, 2IFC, 3KH1, 2VAT, 1XTP, 2Y3A, 1GPZ, 3FG2, 3IUT, 2GLU, 3VOG, 4H04, 2QO3, 4EC0, 2J4K, 3NIR, 3NZ4, 3ROT, 4FTX, 3ER7, 4C7R, 3RIS, 1JNW, 2QMX, 1MAA, 2OXC, 4WB7, 4IQY, 3NA1, 4GUA, 3CMB, 4F0R, 4OGZ, 2Q85, 3KZV, 1ORE, 2AEE, 3L8G, 3WUH, 4DP0, 2XOD, 4L9D, 1OIZ, 4JY6, 2YHH, 3WQU, 3U11, 1SG9, 1UUO, 4POM, 3OPC, 4TQG, 2YWV, 2VUO, 4NUA, 2OLT, 3KN4, 2XTO, 1Q16, 1VM6, 2F06, 3QE7, 3ZQ5, 2Y0C, 1ECF, 1PZ4, 1V0Z, 3I6O, 2C3H, 1IEX, 3ZDR, 4PU6, 1JQI, 1RSC, 3ZG1, 3KT7, 3HDF, 2QYV, 2P6Z, 3D5J, 3LC0, 3BVV, 1EE1, 3HMC, 4PZ0, 3DTU, 3DT2, 2PU9, 1HTI, 3GWL, 2YZQ, 4JDE, 3H39, 2A3C, 3AYS, 2AR5, 2WEF, 2X0L, 2OU5, 1P1M, 1GKZ, 3TT2, 1PN9, 1LLP, 3B2A, 4L9Z, 3MSR, 3KGY, 4X06, 3R9U, 3C0G, 2CYC, 1UZG, 3FP7, 1M22, 4HZ2, 3A1S, 4LHO, 4HGH, 3STH, 3KSM, 4O5M, 3RDV, 4GVX, 3PQF, 1WS1, 3G07, 3RK1, 4NTK, 2DJ5, 11AS, 1FUJ, 3PXU, 3TPK, 4LA2, 4E0V, 4ONH, 4HAT, 1LXY, 3BT4, 2WZM, 3AHW, 3GAH, 2YA1, 4K70, 3IWF, 3QM3, 2EVE, 2FK8, 3I06, 2RBT, 3IG5, 3QAA, 4ROS, 2WE5, 3G3I, 2NZO, 3ET4, 1B0P, 4HKM, 1KYW, 2BC3, 3QGU, 3PUD, 4ARO, 2R3A, 1W07, 2C3E, 3QWB, 3KO0, 1FV1, 4REL, 3Q2K, 2KLH, 4MCH, 4CYI, 1K12, 1IZL, 3HZT, 4RQK, 3D12, 3G5V, 2CW6, 1EXF, 2GKS, 2ZCZ, 4AFF, 3ND1, 3UA3, 1JZG, 3QLU, 4IB2, 4BBK, 4M0V, 4XTR, 3RJA, 4ART, 4N01, 3LBY, 3F2V, 4RG1, 3W87, 1QF6, 4BAP, 4R4G, 3AKK, 2VI5, 4F7A, 3MLP, 1KKR, 1JXN, 2QKH, 2D0T, 1YJ7, 3J0A, 4PLT, 1UMZ, 4IY8, 3HV9, 3RNL, 3QZ0, 4EJ4, 2FMH, 2CJW, 2JIS, 2XVX, 3OYV, 3KCU, 3CG4, 1T3Q, 4DP4, 4A36, 2IMA, 3OZ2, 4N3V, 2R58, 1JKJ, 3B0D, 3I3O, 3S3T, 3CQW, 1W7C, 4FO8, 3RPL, 3S5W, 1AW1, 3G00, 4GCL, 2Q35, 2HIY, 3H74, 3F7Q, 3G6I, 3OKX, 3ZWM, 3ZGJ, 3BJE, 4P7A, 4JG4, 1WY7, 2D1Y, 3NJN, 2EG5, 3OK8, 1E59, 2H84, 1CVR, 1NUP, 1MWW, 3URZ, 4PFX, 3ATS, 3KX9, 1UHE, 4ANJ, 1KWO, 4EQ9, 4GDM, 3W9Z, 3LPY, 3D36, 3ME3, 3FHG, 3P6I, 4V2Z, 4E45, 1EMS, 2WK1, 3S6C, 1ZUA, 2PR5, 3CX4, 3IBG, 3OKP, 5AFT, 3DLX, 1Z03, 3HE0, 4HNN, 3WEC, 4HE9, 1N7G, 4NES, 3CJY, 2O2P, 4Q77, 2PKW, 4UZ3, 1V4V, 4OSP, 4BP0, 2IXS, 3ELG, 3ZZL, 4AVM, 1AUT, 2FQQ, 3T3Z, 2YWF, 1J7L, 1Z41, 1GHP, 1UNL, 4C03, 3OUU, 2ZB3, 4FYC, 2VCD, 4UU6, 1R0Z, 3PFT, 2IX4, 2FXA, 4C5K, 3I5T, 4M48, 2BBW, 4NFU, 1I6I, 1IGY, 4KNX, 1O96, 3BDX, 2GK4, 2F8A, 2GTE, 2QVP, 3UPT, 3PJP, 4L2I, 1AIV, 4CSB, 4GCZ, 3E8S, 3NPK, 3S6H, 1G5I, 3DMK, 4TTQ, 3LCA, 2I9E, 1NXC, 4BN2, 4EXK, 2W44, 3ABI, 1UO4, 3C0O, 4D7Q, 1K8Q, 3RG1, 2QMM, 3LSB, 1RFJ, 4Q5O, 3D0J, 4HSA, 4F0D, 3N6Z, 2IO9, 1H31, 4U0G, 3KE5, 3I09, 3GGL, 2V2G, 1OHT, 1IWE, 3FHX, 1M4D, 3WQ6, 4LA7, 3U7I, 3UJH, 4KRL, 1Y9D, 3C5X, 2PSJ, 2XJL, 4AK2, 4IAG, 2ZX3, 2YOK, 2AYT, 1WCW, 1FZQ, 4B16, 3TB6, 4FAK, 3BKP, 1LI7, 2X2M, 3QS3, 1BPW, 3DDH, 3L9Q, 4H2V, 3BLZ, 3POF, 4A86, 3C4H, 3HLZ, 3SMP, 3A2O, 3IAL, 2P6E, 4DT5, 1UWK, 4EGO, 2E50, 3LIF, 4DUI, 1S1Y, 2HX1, 4TTC, 3IUZ, 4DB3, 3PGX, 2RIQ, 3KUA, 4MSF, 4O49, 4L0F, 3Q33, 4RK1, 3RG2, 3HVH, 2V76, 4X0O, 2H3H, 3MXN, 3L9W, 3DC5, 2A0Z, 1HQJ, 3T2Z, 1B41, 2J1U, 2XT1, 1J1Z, 4RK7, 4LQY, 1H21, 1ZXN, 2R5U, 1QHO, 1T93, 4EV0, 4DIE, 1AF7, 2QEZ, 1PTO, 3P0K, 1GQA, 4CMN, 3QH6, 3WGT, 3UB9, 3HF0, 4CHB, 1OFL, 1H5Y, 4LAY, 3AXD, 4GJZ, 3K4U, 4OD5, 4WXA, 3CLH, 3VO3, 1P33, 2EFQ, 3T6S, 1FLC, 2Q0X, 4P1H, 2JJX, 4MXR, 2O0J, 4HVF, 1UL3, 4OLC, 4CBJ, 1DXQ, 1WUA, 3LGB, 4DNP, 4CCR, 3W32, 4LHS, 3ARC, 2GWH, 4P3X, 2WBM, 1RZF, 1YAT, 1ONH, 1A6E, 2YYJ, 3ZW5, 3VYR, 3U0S, 3K9B, 1GAW, 1P0N, 1LR0, 3PMI, 3E8M, 1UOZ, 2X2S, 3U22, 2FV7, 2WKB, 1DEH, 2GKE, 1SFC, 4NWT, 4GC9, 1OFC, 1Z2W, 1RP0, 2HK1, 2QSW, 1L5Z, 3UY4, 3PQC, 2BUA, 1BRU, 3OR1, 2FNI, 4TLM, 2V3G, 4TU1, 1UWR, 1EA0, 2G6G, 3LHL, 3PZD, 2X6K, 3QMG, 2W3Y, 1RNL, 3TWQ, 4IKE, 4IHQ, 2ERY, 4G1E, 4LRS, 3G5J, 3NWN, 1ZX5, 4AMK, 3BC1, 4TWG, 3CMM, 2RC3, 3OOQ, 2V4V, 2OSY, 1FNZ, 4HOG, 4I6U, 2OC6, 4K49, 2EFU, 2JE7, 1T0F, 2XRH, 2Q7X, 3HGJ, 4FHZ, 4MYE, 3K6H, 2GF9, 3V97, 3I0P, 4H0U, 4QEY, 3S19, 3SFE, 4F9G, 4K6B, 3D77, 4C76, 4QL5, 2D5K, 2NOM, 3TKW, 2G1H, 3I3A, 4C2K, 1CB2, 2TNF, 3ULK, 4J6O, 3L0K, 3KWR, 4WY2, 3AAB, 1C5C, 4R4E, 1SLA, 3NOI, 2PCP, 2NOW, 4WM8, 2YVL, 3UVJ, 1MR3, 4JED, 3ZUD, 4NW4, 2XWI, 3HBG, 1XDK, 4FGM, 4M25, 1V2E, 3Q9N, 2H27, 2GN2, 3DWG, 4LSS, 4NHR, 1BHY, 3ZYU, 4CDL, 1M8K, 3HP9, 1XXA, 3V5Q, 3TSC, 1GSF, 1PQ7, 3W07, 3VS9, 3ELE, 2VT3, 4FQS, 4GM6, 4QEN, 2YIV, 2F8E, 3K5K, 1OYJ, 1TU5, 3ZSC, 3CBG, 4I3X, 1CBK, 3Q62, 4AT0, 1NPL, 4HYS, 3LYG, 4KZW, 3NW5, 1G6O, 3G7R, 1ETZ, 4HNL, 3O5Z, 4K6M, 4FIX, 2ANB, 3R5C, 2EKT, 3NCQ, 1AMU, 2F2L, 1KNY, 2QES, 2ATZ, 3SMA, 3CF1, 3EAG, 1W37, 2HSB, 4BBM, 4JPH, 3UAW, 3ZOK, 1DBG, 4PSC, 2V4A, 3DXL, 3L15, 3TBG, 3K1W, 2CM9, 2ZO9, 1O03, 2NZM, 1IE0, 2Z8D, 4URH, 1VG8, 2YNA, 3IT7, 3URR, 4N6D, 4FPV, 4NHO, 3BQK, 4I6O, 3H87, 2BTQ, 4C4J, 1L9N, 1N6C, 3SSA, 3SQV, 2HAY, 4E2T, 4W5K, 3PA8, 1GYM, 4AZ6, 3C4N, 1NPB, 4EO5, 2OI6, 2XZH, 4EU5, 3HDS, 1FXY, 1E1C, 4TV6, 4FBI, 3H09, 3V0H, 1XOV, 2E6C, 4I1V, 3G13, 3NPD, 4L40, 2NS0, 3GYT, 2DGJ, 3D78, 4BLU, 3IKB, 1JRO, 1QD1, 4KLV, 3G3J, 4L4V, 4LNE, 3B2K, 4CV1, 3HUA, 3HJK, 3C5E, 4DHQ, 2BI4, 1K4Y, 3QYY, 4P7M, 3VMW, 4JK7, 4KF9, 4M9Q, 2HRC, 4NBH, 2H12, 3LCM, 3V17, 4S12, 1VLQ, 3SY6, 1NA0, 2Q5W, 1TTV, 2XQF, 2BVL, 3Q8X, 1VC2, 4NKG, 3VNY, 3FRK, 3LOU, 4UOV, 2B4H, 4L1O, 1NAA, 1NJ1, 4RJ7, 4JDY, 2RKF, 4PVF, 4E1J, 4GQN, 3EOE, 2ISA, 3R1X, 1VHN, 4DGY, 3KLY, 4TLJ, 3LYI, 1US2, 4FQP, 4OC9, 4V1C, 4E3T, 3OTW, 2FGL, 4LS6, 3OSV, 3GC0, 4NI3, 4J56, 4ONY, 3MB5, 3CA6, 3EXS, 3GBE, 1S4R, 3S42, 4M5S, 4MV7, 3DZ3, 1P0B, 2EH6, 1PFK, 1YAE, 4OTE, 4N7U, 3BRJ, 4CH2, 3RE5, 4R2L, 2FDN, 3H3Q, 1A4L, 3CVV, 4JA8, 1QFK, 2BQP, 2HZG, 2FPD, 4LBM, 3SOV, 3P3O, 4KN6, 2JDA, 2XGY, 2P9T, 2XLD, 2XA2, 3DUR, 1ARC, 2OQO, 1CX4, 4FYR, 3HTY, 1EUU, 3VF0, 2XG5, 3SXJ, 4KVA, 1R6D, 2PN1, 1UM0, 3ELD, 1ZP9, 2JCB, 3WOC, 4UA8, 4A7K, 1WF3, 3TW5, 3AGA, 3UHJ, 2OXL, 1LRW, 1W2L, 1MV8, 3JVX, 3V0R, 1D0C, 4MKZ, 4LGV, 3B49, 2YOL, 2ZE3, 1ZFN, 2DDE, 4O5A, 1TJM, 2I6U, 4R33, 4NJA, 1OJO, 1GNX, 1RQF, 1S31, 1YFR, 3DHH, 1B8G, 4JN9, 2WPD, 3JU6, 1ZJ8, 3DTC, 3GZ1, 2X0F, 2R6S, 2IX0, 4M00, 2GI7, 1LE6, 4RDL, 1LV0, 2BKF, 3M2W, 4KJF, 1YDY, 4WV7, 1BVW, 4NN3, 3K0Z, 4IS3, 3O6X, 3B8A, 4AS5, 3H1S, 2FMD, 4EV6, 1E3M, 4Q1Z, 2B3B, 1IFQ, 1GW0, 3G8Y, 4GZ1, 3D5O, 1YAR, 2R66, 3KM5, 3IUY, 3GC4, 4BX9, 4M0K, 3TFO, 4KJK, 2GP0, 3GB0, 4HAP, 3SY9, 4BBJ, 3L57, 3ECP, 3A70, 3OAZ, 1XO2, 3JQY, 2FA0, 4NFN, 3A06, 4HUS, 2HQM, 3A9I, 2YFN, 3OQ3, 4JQM, 3W21, 1GVH, 2PEB, 1OIM, 2DRM, 4MOB, 4XFE, 1UMI, 2JKC, 4OJV, 3TA5, 3P1Q, 3O5U, 3C9X, 3PB8, 2D3A, 1WM1, 2XPS, 2BUJ, 2CZC, 1WE3, 1PZX, 2DKI, 3H2S, 3EKI, 4GXT, 4DJO, 1PJC, 1IAY, 4OAP, 2V8P, 4AC0, 3W5B, 2O2S, 3P0B, 2Z0X, 2H0U, 4PV8, 4MDC, 3QCU, 2E74, 4FT4, 1VE1, 3NDH, 3LY0, 4RDQ, 1P7T, 3UCX, 2MJI, 4KVG, 3CX5, 1IWP, 2Q9R, 3GID, 4GV1, 4MAD, 1HL3, 3QZR, 3VKG, 1URR, 4CR8, 1S4N, 3HYX, 3KLL, 3R79, 4CO9, 2I80, 3NYT, 3C1M, 3Q9B, 4C27, 3O8L, 3K8L, 3RGQ, 2A2G, 4EF8, 4TSN, 3ZYZ, 1REO, 2QV5, 3UEL, 3OM8, 3NGS, 4AYL, 4A2M, 1AKQ, 2HNK, 2OA6, 3F65, 3NGF, 3AQU, 2HTI, 4ESB, 3WND, 4OVY, 2XRZ, 3M8A, 2CB0, 4B2Z, 4NSX, 4MVF, 4U36, 4OKD, 4FLL, 4BWG, 4IUW, 3W4O, 4C5O, 4I6G, 2QM9, 3L65, 3LFZ, 3DGV, 3K5J, 3BQ9, 4JIU, 2VI7, 4NEK, 4LKT, 4OZQ, 3F69, 3D9I, 2IQA, 3OXP, 2HJR, 1AOD, 3ZMG, 3HPK, 4JHT, 3OGL, 4MAF, 2X5C, 3PVR, 3OA2, 2EHZ, 3P81, 2IPL, 3J7I, 3DB6, 3RE2, 4RL6, 2PYG, 3MF1, 3R0Q, 3D7T, 3KQ0, 3HZL, 1E39, 3WE0, 4HUK, 3FA7, 3TNF, 3G6M, 4WJ5, 2WZL, 1IM2, 4HQM, 2R7W, 1X87, 2GVN, 4OO9, 1Y6O, 2WSB, 3QY9, 3DNF, 1ZPU, 2P9K, 2ZOO, 1H1I, 1M74, 3IGS, 2QA1, 4L8N, 3D87, 3P73, 1JPM, 2GWD, 3T40, 4EDF, 2VZH, 3R1K, 3MIF, 3WXO, 3PPZ, 1J15, 4W66, 3SQZ, 1R4W, 4L7K, 2P4F, 3E58, 1SW2, 1I1L, 3TAS, 3GE2, 4LB8, 4LRT, 1OS6, 3NDO, 3SBU, 4Q7C, 3PHO, 3DJE, 1FCD, 2BWJ, 4N3T, 2Q72, 3UCQ, 3FU7, 3GHF, 1Y81, 3QWT, 2AMF, 4DKL, 4RKK, 4QOO, 1SXJ, 2WWN, 1C7Q, 1IYB, 4JK9, 4QUO, 3ZXL, 4QI9, 2Z86, 2Z79, 3ASJ, 4HWT, 4LNW, 3CJ8, 2WQN, 2HHP, 3L11, 3G5A, 4G4V, 3D9D, 2P4S, 3B9F, 4DRK, 4AB4, 4H3D, 2W0D, 3SW6, 3GIQ, 3NDM, 2B4L, 2HKU, 3RCK, 2C1G, 2ZFL, 2R1F, 3GK7, 4UPE, 3C78, 5PNT, 2QW7, 3RQ4, 1WP6, 4G0R, 1PO8, 3N34, 1ODZ, 1B5O, 3A1J, 1OFI, 3O14, 3QDA, 4PYS, 2VBB, 4UUY, 1R43, 4JJI, 2YVO, 2LKD, 2YR5, 4LIQ, 2FCC, 2QCF, 2B9L, 3RYK, 3ACB, 1BJO, 1H3D, 3NWG, 4HNE, 2GUI, 2RSF, 2CW8, 2CH5, 2ESD, 4QTO, 1Y0G, 4J2K, 3D9Y, 1PKG, 3RZA, 4P7I, 4DHW, 4MG3, 3ZR4, 1W1Z, 4EQL, 3TDV, 4BRH, 2X88, 4OEH, 4BR2, 4ISD, 4F7K, 3DJJ, 2OU2, 1N2F, 1VDC, 1XKV, 1YY9, 4GVY, 4Q3O, 2ZXU, 4OV8, 3W44, 1YK3, 4G8S, 3EJN, 4AVD, 1IOO, 3P0H, 4FAY, 3T0U, 3WX7, 3NE2, 3HPY, 3WDV, 1VCO, 4OVA, 2ZZG, 4HR6, 3PT7, 4KB9, 3SMM, 4O48, 4WNR, 3CQ0, 4ETP, 1IBJ, 4H7W, 4UNP, 2CZ5, 1KHR, 4AJ7, 1G7U, 3CTP, 4FOD, 4G8B, 1Z2U, 3F92, 3LOQ, 1GL3, 2JKY, 4A34, 3H5C, 3NZH, 3LWD, 3DUV, 3OF1, 2F58, 2QB3, 3VBE, 1U3F, 4NJM, 4NRI, 3T5I, 2GAG, 3TY1, 3P3V, 4PQH, 2HL1, 3R7T, 3NV9, 4GRX, 4QLB, 1M56, 4MYH, 2C3W, 1FV2, 3CP8, 1RFU, 3OCM, 3UCG, 2F7S, 2AXW, 3L77, 3IHL, 2EG2, 3LAC, 3MII, 4OFM, 2EBS, 2A81, 2AZ3, 1GSA, 4LO5, 3BKR, 1IV2, 2WAG, 4BB3, 2XZI, 2D5M, 1Y79, 1R37, 1NH8, 3DLS, 1UZR, 3P24, 4EH1, 1KQF, 3N2S, 4QSW, 3DX2, 1P6O, 4KPU, 3KZS, 1P9P, 1M8T, 4FO0, 4P7B, 4XA7, 2BUE, 2XBL, 2EEK, 1UKV, 3QEC, 4A7X, 3A7A, 1CJA, 2VRS, 3SMO, 3VTH, 3RFO, 2I9P, 4JKR, 3SEJ, 3IFS, 2G64, 4QD6, 4GMU, 3WW9, 3RDO, 2BB5, 2L65, 4N0R, 2GAM, 2DW0, 1MJH, 3TU6, 4QX6, 2YMV, 2VN1, 4USR, 2Y4R, 4OE4, 4PZ4, 3LGC, 3HRV, 4M21, 3Q6F, 1GXS, 2GMC, 3EO0, 3HPH, 3R6K, 1WZ1, 1AYX, 2PFE, 2J4E, 1Z05, 2O2X, 2Z4I, 4O38, 3BP6, 3DOC, 3GN9, 1JOT, 3AJV, 3UVE, 1KWM, 4G89, 3NO8, 4KL5, 4FEA, 4RD7, 1X9Z, 2WY6, 4NX0, 2XV7, 4QJL, 1ZAB, 1UPR, 2HCY, 2VIX, 3EOL, 3V7N, 1ELV, 4AMB, 2RC7, 2ZOM, 4JBU, 2EXH, 3C7N, 1IJW, 1Y4J, 2DU9, 3EQN, 4PL4, 1B4P, 4A7T, 4O94, 1GNL, 4U6R, 3HSN, 3SM3, 4M04, 4NWZ, 2ISV, 4X1X, 4RW0, 1HZ4, 2ZI8, 3LOJ, 2X41, 3FF4, 1ERO, 4NBV, 4LXL, 3EJR, 3CYJ, 1WCG, 1BGV, 2XCJ, 3UAR, 4C6N, 1R0L, 2OHV, 4MH2, 2HKD, 4L7B, 4FP4, 2X64, 2BH4, 3RBF, 1B5F, 4B1V, 4UQX, 3L4A, 3CRN, 2IZ0, 2Z7X, 2Z9X, 3HRP, 3PYE, 3NJH, 1OO0, 3SO3, 1V47, 4AS4, 3F9T, 3SD7, 4GZI, 2EVV, 4QRC, 3ARO, 2PQ7, 1EIX, 4FL9, 1Z4R, 4B0A, 3OII, 2WRA, 4UOX, 3P8V, 4NVK, 3IVR, 2H29, 1ESM, 3DZU, 3I33, 3KVW, 4FXY, 3CVQ, 2CME, 4QFH, 4HFQ, 2CDQ, 2J4J, 2YK1, 3HQP, 3I4Z, 3BQ3, 3DOD, 4U0U, 1BYZ, 3FJW, 3PR3, 3AH8, 3C4W, 4A5W, 3OFK, 3TFZ, 3U7C, 3DRW, 1JYL, 3O75, 2FAU, 2FA1, 2DR1, 4PP4, 4PHU, 2PUT, 3O5R, 3V2Y, 1BOO, 3IL5, 3GM8, 3I2T, 2F16, 1F2E, 1FSE, 3GAC, 3IJ3, 3FSP, 4HKF, 2Y4G, 3K28, 4GDV, 2C5G, 4GSY, 2UVH, 3GNI, 4RKD, 3LDF, 1BXK, 2FP2, 3CQY, 4CQ0, 4NXY, 3KUL, 3B28, 3VCZ, 2BKY, 3E07, 4L9C, 3DV0, 2V3Q, 2D0S, 4KWU, 3U0I, 3E5R, 1W3A, 4PID, 4AUB, 3NPC, 2OLM, 2E8E, 3MX3, 3CKK, 1JXA, 2WBP, 1O5W, 1BPE, 4OGL, 2B3X, 4K1F, 4NWG, 3OOS, 3I3F, 3GON, 2V4N, 3DJD, 3WEU, 2UVL, 1L9L, 2VUJ, 3EQX, 3ZSE, 2QG8, 4H2D, 1YD2, 1N2M, 2W2D, 1FP1, 2VGB, 4IKV, 2BTY, 3BWU, 4WEY, 4HMO, 4LX4, 4F2P, 4EVY, 4LIZ, 3T01, 1FTA, 2LP8, 3WR9, 2B7N, 4FWI, 3CQB, 3IXS, 4C0B, 2XD4, 3VTE, 1JH7, 1JOC, 3V9O, 4N91, 3Q8G, 3GPB, 4BGP, 4M6J, 2H03, 3JQ0, 3IC3, 3ZF6, 4GIS, 4KW6, 3RIP, 2XSG, 3ME4, 1C3O, 2WTP, 3A28, 3AB8, 3ETQ, 3THU, 2EO5, 4FFG, 2H0V, 1E1Y, 3TZH, 2X4F, 1U0M, 3O0X, 1QXO, 3TK0, 4AQB, 3BXF, 1YCF, 4I1D, 3F4R, 2Y7I, 4O1S, 1JO0, 3ORV, 4G4I, 3TWO, 4O8M, 1E8C, 4OVV, 4BVW, 3M6Q, 4FH1, 2X8J, 4NIV, 3VU2, 3KOW, 3G5K, 1B30, 1CS3, 3OHT, 4NGD, 3C96, 3GZK, 4UM9, 4HG0, 2KOT, 3WBE, 4E0S, 3FVE, 1HZH, 4LEC, 2AIG, 3DSI, 3U4M, 3KDC, 2G7Z, 2VJJ, 4RJ2, 2Y4N, 3TD7, 2OXT, 2Y9R, 3U3O, 2CHH, 3SE9, 1APV, 2YHA, 4OTU, 4IHZ, 4DZR, 2X0I, 4ADN, 4A41, 1V8B, 4Q0P, 2OPK, 4D12, 3UOW, 3FNB, 2DQ4, 1M5Q, 4WJ4, 2Z64, 2X8L, 4GN1, 4EE4, 1C4A, 4HZ4, 4MIT, 1USY, 4KUG, 1KJ1, 4CSS, 2XHK, 3R27, 2XGT, 3DXY, 2BHW, 3RED, 4IW9, 1G9S, 3LA7, 4BWI, 4C7F, 3D82, 1FS5, 3Q9T, 2BVW, 4NWJ, 2HJ9, 1YSG, 3RRK, 4DMG, 2BC4, 2Y6O, 1TLW, 2VFR, 3RXW, 3PMJ, 4ILG, 2RC4, 3F46, 4DRF, 3K1U, 4L6A, 2BZ3, 1C0I, 1TPY, 2PGW, 3HXD, 3PUO, 3HKO, 3SUC, 4HSE, 1YQD, 4I97, 3U33, 3CJE, 2DGA, 2C13, 3O47, 3R7A, 3Q7H, 3TGO, 3GKB, 4C2X, 3H01, 1G1Q, 4L80, 2VXO, 3INN, 4FU0, 4OGP, 3R46, 4EN1, 2BFG, 3I1C, 3MA8, 4I62, 2Y1B, 3JU8, 3P1V, 4TO8, 1HFU, 3UZR, 3COL, 4FYH, 3HRD, 1VA7, 4DR9, 4MB1, 2VQ2, 4MU7, 1WUW, 4G10, 3LLM, 1A59, 1N31, 2Y94, 1G66, 2PYW, 4CT1, 3A8T, 3MND, 1CML, 3P1O, 2K0X, 2FFQ, 2YQZ, 3FIW, 3T9P, 3K0T, 1SED, 4JW1, 2R2Q, 4HVY, 4P99, 3KGF, 3CJX, 2PZY, 3SKY, 2DTT, 2QCS, 1XC3, 2IFA, 4AO9, 2DQ3, 3UBW, 3WUZ, 1LT7, 2A2D, 3EFA, 3TY4, 3S7Z, 3R2Q, 3WJG, 2WA2, 3QFH, 4H0C, 4M3P, 2Y7D, 1J2Z, 2BME, 1SVD, 4I4K, 1JX0, 2XY4, 3H5Z, 3RF7, 1MZJ, 2VVG, 2C9E, 4HSW, 1BFV, 4CEJ, 4CBU, 1A82, 3FIM, 2C47, 1V8Z, 2V8L, 2XU9, 2HT9, 2RKM, 3DRA, 2HCR, 2BKA, 4GER, 1EAZ, 4R3V, 1E1D, 1SBZ, 4YER, 1T90, 2R0D, 3S9E, 4O87, 1J6X, 2O06, 3P8C, 3DX8, 1F6B, 2ONU, 4Q2P, 2A9V, 4D2E, 3L8H, 4LUR, 2I62, 1FUO, 3DH0, 3K9U, 1CLZ, 2WWD, 1WSV, 3RPD, 3UVV, 3H41, 4O4A, 4P3Z, 1AF0, 1YSL, 4RI6, 4OAY, 4JE5, 1B48, 2QZ2, 3Q45, 3MOG, 3L0A, 4F4C, 2R7E, 2E5W, 3SZ4, 3CHT, 3IJQ, 1U27, 3R44, 2E40, 2VH3, 4EKQ, 3WMR, 2WMM, 3KZZ, 1F74, 2RJO, 1XCJ, 2W58, 3H72, 1AOR, 2DDX, 1H8T, 1ZEI, 2OFP, 2BEJ, 4HXY, 4GDP, 4DBB, 4FL5, 1Z5X, 1NHX, 3S2K, 3KZF, 3FEA, 1T6E, 2XWV, 2CU0, 3F7S, 2VZX, 4MZ4, 2Q2Q, 2IPN, 3GBN, 1Q20, 4J34, 4IRN, 1G60, 3LGX, 4RJJ, 2Y8F, 4PQG, 3UF3, 3QDL, 3KYF, 4C3O, 2RI7, 1FQ3, 4FAB, 2R0B, 1GH4, 1M0U, 2XUM, 4NUB, 3UYU, 2UZH, 3UNF, 4ICC, 2XLH, 1ZY7, 4MO2, 2XGA, 3A7H, 4ATO, 3LOV, 3SJU, 3UNX, 4IL0, 4DZZ, 4HC6, 2WS6, 2RGS, 4HNW, 3DTB, 3NKG, 3R6P, 2WYM, 4IW3, 3ALJ, 4CYP, 1GSL, 3PM0, 3BTP, 4L92, 3P74, 1URK, 2GQ2, 4DJD, 3R1P, 2Y4K, 3QPQ, 2GBC, 2NT0, 3T7V, 4L7V, 4LX2, 1WNL, 2C7O, 3A5Z, 1F9G, 3R0K, 1TU1, 3GZX, 4FBV, 1YHT, 3O3X, 3V9M, 3MX6, 1VPO, 1B42, 1YZH, 4EBQ, 2G72, 3FVQ, 4EBK, 1JJ7, 1YQT, 4R7S, 2QML, 2G5L, 3Q3X, 3BW1, 1ABE, 1Z16, 3GM5, 2AI7, 4IQG, 2I39, 3ONO, 3BCX, 2VSE, 4LFL, 1XJT, 2Y4Z, 1SQS, 4GSJ, 4O35, 4LS3, 4PNE, 4NA4, 2Z8Q, 2WDS, 3ICW, 2RDM, 2WGH, 2O2D, 3KP4, 4RFQ, 3S5T, 3IEV, 1OIX, 3GTD, 1K4O, 3WDJ, 3H2P, 1W55, 4EVQ, 2X7C, 2BVF, 2X6T, 3M1T, 1H6G, 2UXH, 3B2E, 1OE4, 3EL5, 4PLA, 2GG7, 3FCR, 1F2D, 3L1S, 4B49, 2EGI, 1Z7E, 3WIR, 3I9I, 4EQ0, 3NUA, 4XUA, 2ZSC, 1I5G, 4HNY, 1PMT, 2OCP, 3I9X, 2FR0, 2I5C, 1O9J, 3FG0, 3IPT, 4LH6, 4QRI, 2F4Z, 1ULC, 3F70, 4RKR, 2D4E, 3MU7, 3NMD, 4MPD, 3SM9, 3PJ2, 3F5B, 3N37, 2DS5, 3M55, 3HJU, 3ZGH, 4E9I, 3PC8, 2W3M, 4DDN, 3EXE, 2GTI, 4CAK, 2KAW, 2D4V, 3KW4, 3RSC, 2PYY, 4PFH, 1YZG, 1LLD, 4C7I, 4P7X, 4G9B, 3G2F, 1XQK, 3LYQ, 3G1Z, 1ZGQ, 4DPQ, 4CCG, 2E7Z, 2QMW, 2O2Z, 3VFL, 2QF1, 4H0G, 2HJ3, 3T9T, 1HJU, 2JHF, 3P9D, 4P33, 2O3B, 4ESE, 4C5P, 1QZZ, 2V1U, 3TZT, 1TOA, 3BCW, 4J15, 2PKQ, 2DYA, 4M3S, 1NYQ, 4JJP, 1LLW, 3WJZ, 3IW4, 4CQL, 3TBM, 4FFB, 4C2A, 1J5Q, 1T6C, 2XT3, 1QN2, 2WPX, 3WQY, 1MX9, 4M7X, 3IO3, 3RGF, 3MCF, 2I10, 4HAS, 2H1T, 3WAZ, 2PYJ, 1G6U, 3GB5, 2ZVA, 4B4R, 3T8Q, 2RHJ, 1XE7, 3GLF, 3TNH, 4JHC, 3KYQ, 1UX7, 2VFA, 1A95, 1CLY, 2REG, 2ASF, 1PFU, 1IUQ, 4MO9, 1OJZ, 3B8I, 4GUT, 2Y92, 4M5Y, 1O6T, 4S2K, 3ZH5, 1XNG, 4CM2, 3KLR, 4BNW, 2QJG, 2WM9, 3H1J, 4BF5, 4FLP, 4N0Q, 4A7S, 3NPF, 3LHQ, 4EX5, 2GGS, 1YF3, 4DPG, 3Q27, 4BB9, 3K60, 2ZPT, 1PT2, 1BR2, 3U0F, 1ZL0, 4P8U, 4MLM, 1IYQ, 3TUI, 1C9Y, 4JIA, 3FJY, 2OJW, 3OEA, 4G5D, 4NHZ, 1ZHS, 2AWN, 3E49, 2OVG, 1AMK, 2FG6, 3PZN, 1O66, 2A77, 4NHK, 3RWO, 2DCF, 3T6A, 1WVE, 3BDD, 3KUF, 4RV9, 3L4G, 3ERG, 3W9R, 2W1P, 3ZBG, 1H5B, 4DZD, 2VQQ, 4EQB, 3ANX, 4MDA, 3MXU, 2FN4, 1SQP, 3S8I, 2ARE, 3CB0, 4HG6, 2GSH, 3R25, 3RF1, 1SPV, 4RG2, 3ILN, 1IPB, 4H1G, 3UP0, 3AXK, 3OE6, 3PEB, 2VOH, 1HWM, 2OKK, 1IND, 4WGI, 3PGP, 2H9F, 2VE3, 4H09, 4EKD, 1ZCA, 3DUP, 3O70, 4LDE, 4X33, 3FD0, 1BZW, 1E5N, 4OLK, 3RSR, 3U25, 3FDX, 3KCG, 2YM9, 4KTO, 3EMR, 4OAU, 3OF3, 4JRR, 1RZG, 3CB5, 4CZC, 3G3L, 2A5H, 1YSW, 2OYQ, 1L9Y, 1M4B, 3UXJ, 4G2K, 3NYN, 2IXL, 1O7V, 2XUW, 3C7K, 2BE9, 4GIU, 4HIZ, 2PNZ, 1XTS, 4N8U, 2VII, 1SZO, 3WOJ, 3L6A, 3PZP, 2BJ0, 4J7J, 1Q3A, 2I6T, 3M2T, 1S5A, 4RNL, 2E1Q, 4DLG, 2Y3M, 1A78, 4QJG, 1YG6, 4AB7, 4RQB, 3QH5, 2YNK, 4CC9, 3QWW, 4IM6, 1PHP, 1AD3, 4A9C, 3C33, 3IV2, 2F0C, 1GMY, 2R9V, 4JOD, 4POS, 3KVE, 3SFV, 4K7Z, 1VGM, 4GA6, 3DEF, 4N6K, 4NYE, 1JIE, 4NIE, 4G19, 1N0X, 1V5Y, 4EG2, 4PMM, 2G50, 2AIB, 4GQL, 4ONE, 2P0D, 1P3H, 2J0O, 1V03, 2P4O, 4AO8, 3SW1, 4BE3, 1ELJ, 2I6A, 4JF1, 3LY1, 3RO2, 3E2V, 4PAG, 3O4L, 1DQX, 4IDC, 2J75, 3TNG, 2ACO, 3LPH, 4COG, 4R7Z, 3HL0, 3WP6, 3FI3, 1PPI, 4EAE, 3A9G, 4O6Z, 1MKP, 2DWZ, 3QWU, 3HZN, 4F5V, 3QLR, 3THC, 4I0B, 3CH0, 3NWO, 3E7F, 2JAM, 2RHD, 1BGG, 1GXY, 4DL9, 3VXB, 3I6D, 3QCT, 3H4I, 2O0R, 2X5K, 2B51, 4KOO, 3CTY, 3LP6, 3KKO, 3L2H, 4TL2, 3T37, 3QS1, 2QIE, 1F9W, 3P9X, 4FE7, 3G14, 1ZHH, 3O1W, 2ZKC, 4HAN, 4J3X, 3GQL, 3GRU, 3UQI, 3APA, 3U2V, 4PP8, 2GTV, 2VLX, 1KYI, 1Z0F, 1B87, 3DZD, 2A8Y, 3DTF, 2OZ3, 3FFU, 4F0X, 3MFG, 4GNC, 3E4W, 1JI4, 3UNR, 2Z1Q, 2V5H, 1XI9, 1W9S, 3TQH, 2I1Y, 1LAF, 3KZB, 4HG7, 1NBH, 3ZDU, 2W3L, 2QKK, 4DNS, 3T4U, 3P7G, 3KGT, 3WA2, 3N5O, 4R7T, 4H31, 1DBW, 1UYP, 2J45, 3C1A, 2WOG, 3UK0, 3FGW, 4E4W, 2FCK, 1GCA, 2XOM, 3FT7, 3S5A, 3GD8, 3RHB, 1JPN, 3TDG, 2NZL, 4ED9, 3SLS, 3CU0, 3BHG, 4B3H, 4GF0, 1KCG, 1ZOY, 4FUY, 3EC7, 2RFQ, 4KDY, 2O30, 2OQ5, 4DQW, 2RA6, 2ADI, 3KAL, 1J0N, 4KEG, 2VQU, 3B00, 3VIJ, 4HC5, 2A83, 4MDY, 1XFJ, 1ZS6, 3BBE, 4GX0, 2FAQ, 4M51, 1V1M, 1V30, 1MXG, 2QKM, 1VT4, 3SG1, 4NYZ, 2YCU, 1VRM, 3UWQ, 3KWK, 2WXG, 1MFE, 2OQX, 4E4U, 4KP4, 4PDW, 4JC9, 3T6V, 3K32, 3P4E, 3RFC, 4AH2, 2OWQ, 4MQB, 2WP8, 3UWC, 2CFO, 1UF9, 4JVT, 3GG2, 3QP6, 4E36, 2C2B, 3U5L, 1V54, 3VOP, 3FCC, 3ISM, 3K96, 2O1C, 3QE3, 3QC5, 3L2N, 4RER, 1P8L, 4JDL, 3FEK, 3F81, 1FC4, 3Q6V, 2W3B, 1N62, 3ZXE, 3MQW, 4ORL, 4KR8, 2OOD, 4PXQ, 4HKT, 2WF8, 1N1C, 4O6H, 3TSM, 2DG1, 2XRG, 3VNL, 1TDJ, 1DG9, 3QZ4, 4W7Y, 4R29, 2WLT, 3LF2, 2XE6, 3PP9, 1MAI, 2XRE, 2PBF, 1BB6, 1VF5, 2FWH, 2XIK, 4HVC, 2BGL, 3QGJ, 3K12, 2Y1P, 4KN9, 1K3I, 2GN4, 4E4F, 3IHU, 3Q7X, 1O51, 4RHA, 4P6X, 4BA5, 4NBW, 2Y1Z, 1FOH, 1Q3B, 2HBL, 2HA8, 2XVA, 4FBA, 4PNV, 2OOG, 2GRJ, 4DLS, 2Y9W, 3NF4, 3X0Y, 1QFJ, 1ZK4, 3TWE, 1V34, 3KAS, 3SPL, 2Y4I, 1NOX, 4BJW, 3U52, 4N8P, 1Q6Y, 4R03, 3L86, 2WKA, 3W5S, 4IYN, 1BQS, 3GVE, 3A1L, 3PFV, 1YOL, 3RGA, 1SDD, 2H5M, 4GRS, 3FMC, 1JUB, 2XZL, 1XDQ, 3KKG, 2BOS, 4BMO, 2DCL, 2REP, 3BYQ, 2IDX, 3VS7, 3K1J, 3OH4, 3ESL, 1ROF, 1UB7, 3E05, 3APS, 2PZ0, 3PDW, 1ZW9, 3PG6, 1J32, 2YB1, 2PK9, 3L6R, 4M8I, 4TWE, 2ANW, 3MJG, 2YVV, 3AFP, 1UB3, 1VE3, 3DGC, 1Y9E, 4IK6, 2Y65, 3OV2, 3AAY, 4MBY, 1INH, 4QDY, 3QBT, 3SXP, 4IR5, 4WN9, 1OMO, 3R62, 4O9G, 4DKJ, 3GN5, 2ATX, 3L76, 3F43, 1OW4, 3QUP, 4NBR, 3F98, 2F1L, 4PX1, 2EWY, 1BXR, 1E51, 1EC9, 3Q87, 2OYN, 1BUL, 1B4E, 1NT2, 3OQH, 4W9O, 3IVP, 3IG3, 3KM1, 1V0R, 4R7O, 1F7R, 2ZFO, 4TRC, 2ACF, 5AFB, 3O10, 1DUC, 1NRJ, 3AEO, 4INE, 3QYQ, 3RD5, 4J6R, 3B0G, 2Z9H, 1ZMC, 3I0Y, 3LVF, 1NO5, 3O3M, 3K7G, 4PYR, 3PL2, 3ASZ, 2O90, 4URL, 3CK9, 3L0R, 2ZG3, 3C3I, 4KTE, 3FKQ, 1YT8, 3TA4, 2D1S, 2HR7, 3MUI, 4DHG, 1C9U, 4Q9C, 3T2U, 3CWF, 1C72, 3OUZ, 1LGR, 3IHZ, 2RKB, 4CHS, 1H2U, 4DZH, 3M6A, 4DWO, 4HPP, 1KQU, 3O3C, 1N9L, 3TF7, 3AJ4, 3S6B, 1QQP, 4WB1, 3O6O, 3L92, 1VR0, 2RK1, 4MHQ, 1MZR, 3HKV, 1Z2N, 3ZC4, 2R5S, 3WD8, 4A6E, 2DDY, 3PVU, 4KVK, 3SMV, 1KNM, 3GO6, 2JKP, 3C02, 1ONK, 4P3F, 4F2D, 2D0V, 1U8C, 2WYA, 3OFT, 4RYK, 4OI6, 2G76, 1JLR, 2RHW, 3M5K, 2WBA, 3NAT, 3EOF, 1L6Z, 2ZPK, 2WTZ, 4AT5, 3LGS, 3LW5, 4L5C, 3OZ6, 4L6T, 4JAL, 3V1C, 4OWL, 4HO4, 4J5R, 3CMD, 4K21, 3M5U, 2JIF, 1BOS, 3EI2, 4QTB, 3Q5E, 1EF9, 4UPG, 4TPT, 3RFB, 2OAF, 1VZ4, 4IJ6, 2G77, 1A54, 3Q6J, 3NMB, 2WCV, 1WQS, 4MO3, 4U1W, 3L5Z, 2PBD, 3S1Y, 3MK7, 3W6B, 1O8V, 2V40, 3AVR, 4OF4, 4PC0, 3KE6, 1B12, 3PHZ, 3ND6, 3GUU, 2P0I, 3H3L, 3LN9, 3PR8, 4Y5X, 4N82, 1LGH, 4CFO, 3HSJ, 4HP4, 2HQ9, 3M1I, 2XZ7, 2Z4T, 2X5X, 4RA5, 1BYH, 4APM, 3NTL, 2OLY, 3Q1S, 4MK0, 1C3R, 4LYA, 4HCI, 3P6G, 2ONB, 2JHI, 3HSZ, 3C2U, 3D6Y, 1IX1, 3BEO, 3FYH, 3GCB, 2W6T, 1UC9, 4A4I, 3WG1, 3BDL, 3Q0E, 3MCR, 2FWZ, 3MCZ, 4A4P, 2GDZ, 1K2E, 3ULY, 4K8P, 2G9G, 4HTF, 4DM5, 2FRE, 1XVY, 1O5I, 3O40, 3O43, 2HUO, 4IYJ, 1A2I, 1FX2, 4E8Y, 3HBN, 2VRQ, 1JR1, 4NKT, 4FU6, 1IGT, 4P0T, 3PFR, 3BY8, 1JQ5, 3NBM, 2AYD, 3K7Y, 3W8E, 2G81, 4CW5, 1JJI, 3KZL, 4OY4, 3ZIZ, 3PEA, 3HEJ, 3FSN, 2XL6, 2MAN, 3EVI, 4GOQ, 3SK2, 3N35, 3FOC, 4GAK, 4JD0, 4GT9, 2YBO, 2QEN, 2WZ7, 4NHD, 4BAE, 2VHK, 3G4F, 1GWJ, 4FCH, 3PL9, 1ELW, 2GJX, 3OID, 1PK8, 3IUP, 2YZJ, 4WUK, 4JQN, 1IFR, 4WH9, 1GYX, 2Z2W, 3M7P, 1OQ1, 4Q3L, 2XBO, 1IG0, 3SXS, 1XKQ, 3N3M, 4LZ3, 4FFL, 1ALU, 2WZF, 3ZOU, 2D4N, 4AHU, 2UZ9, 4ATF, 3I2B, 2NSQ, 2RCB, 3PDU, 4R7Q, 4IRU, 2YN4, 3RYY, 3VCY, 3T04, 3FGR, 4LO1, 3K9C, 4NW5, 3EF8, 3P7I, 2NMZ, 3MI2, 1Z1E, 3EIG, 4FIN, 4AIV, 5AF2, 3ZUH, 3CBQ, 2HF9, 3DPJ, 2VUN, 4C87, 2JIE, 2QNL, 4W9W, 2IGS, 4N5X, 2RDG, 3U88, 3K05, 4N36, 3QW9, 3TNY, 4O5J, 3HJE, 3Q1Y, 4H0N, 2VKO, 4QBB, 4GS4, 3WGX, 1DIH, 3BMW, 4LEZ, 1QZU, 1G6S, 2WQP, 3JYF, 3V99, 1UED, 1R4P, 3G1U, 2IU6, 4LZW, 3SY1, 3A9F, 3B3R, 4A6O, 2W8S, 1GAI, 2EAA, 3PP0, 4M24, 3HSG, 3GGD, 4GYP, 3ZS7, 3NOH, 1XDI, 2PVQ, 2HD9, 3E5H, 3SPE, 2WVX, 4E4Y, 1YWQ, 1P6X, 2Z3H, 1IBV, 1DUR, 4AIE, 3BH3, 3NE8, 4QXE, 1OVZ, 3WYW, 2XNM, 1K70, 1GU3, 4NHC, 3QT4, 1PI5, 3HNC, 4IK7, 2GAO, 2LKO, 3ZK4, 1N7S, 3OD1, 4BFR, 2EV6, 3W5W, 3PIH, 1JKI, 2I5F, 3KDD, 3OTN, 2QFL, 3FFR, 3QU2, 1WPL, 3KHE, 3G2E, 4MBS, 3NK3, 2YIM, 3LXX, 1KQ3, 3NSJ, 3E3C, 3EE7, 1ECE, 3EN8, 4E5P, 1TQ6, 1RTW, 4J7M, 3K4Z, 4LNX, 4FSX, 3LRK, 2Q9U, 3HJA, 3NUT, 3EFV, 4PUA, 1JCQ, 3A4U, 3BGS, 3C2H, 3GBJ, 3P0C, 4KQK, 3D7R, 1OF6, 3S3H, 3HWR, 1K1X, 4HAI, 4DOO, 2OCG, 1S1M, 4D1G, 4BYY, 2UZ3, 3S6X, 3TDO, 3T7R, 3LHS, 3FN5, 2WK4, 4QB8, 3KK7, 3FLV, 3VTA, 3G1P, 2IOC, 1MAB, 4EYW, 3E23, 3GP5, 4MI4, 3UAX, 1DHS, 2OQ2, 4CS9, 3GUS, 2I5B, 4QQX, 2VBG, 1ZSY, 3GM0, 4PKI, 1ITX, 4GVH, 4K4O, 1OAT, 4QIM, 1GL4, 4IRZ, 3W01, 3T1O, 3KWE, 2OL1, 1MKJ, 1FHV, 4GFI, 3G7A, 4QF2, 3FZN, 4RPF, 2OOX, 3TI2, 1HJ9, 4PQX, 4JDV, 3UBK, 3MHY, 4N7Q, 4UP5, 1CMA, 3EX1, 1F8Y, 4FBL, 3HMJ, 2YB0, 4NEA, 2X9W, 1PIN, 2JKI, 2VUZ, 2XON, 4E1Z, 4OER, 1TFK, 1G7S, 1ZRU, 1ULJ, 3ENJ, 4X3T, 4PH8, 2O28, 2VR5, 3I5C, 2V03, 4NM9, 2M5R, 3VRC, 4I6V, 2QT6, 3QYA, 4DQ1, 4IGL, 1I3S, 3UE6, 4OZU, 3ONE, 3F1Z, 3IF2, 4NHE, 4BZ4, 2WZ0, 3QXC, 2QE6, 3IBD, 1QGI, 3PKZ, 4P8L, 1WNB, 1ZL9, 3AX7, 2QFC, 3W77, 1ORH, 2PHN, 2YMZ, 1JB0, 1N8P, 1RZL, 1KV9, 3C9H, 4QA8, 1FSG, 1DQE, 3E8L, 4NJQ, 1Y8Q, 3NO3, 1SV2, 1LPF, 4UJJ, 3IFA, 3U3Z, 2IL1, 2VD3, 1A8A, 3X15, 1B8A, 1RCC, 1J0A, 1XSC, 4G9A, 3TNL, 1QAX, 3PU5, 2XUA, 3UL5, 3KHW, 1M1J, 2BWD, 4K81, 3NK0, 3TSR, 4RPG, 1BTN, 2HPS, 1P1I, 4B9D, 2FMB, 2O98, 4CYN, 4KCA, 3HLE, 4NEC, 3QNX, 2PZ8, 3KZ7, 4DE9, 2ZGO, 3TTO, 1JI5, 4HCN, 4CRN, 2OT4, 4IVB, 3FAZ, 2CQS, 3E1Y, 4LW1, 3NG9, 3UUW, 4F0A, 2XSZ, 3GNE, 2RKU, 4B65, 4HQ8, 2E4G, 1RZO, 2EIT, 1FDQ, 1DJO, 4QAT, 3DHB, 4U9W, 4FBG, 2EYQ, 1TAQ, 4DYD, 1M6E, 4H87, 3TA1, 4NDH, 3L9T, 4DFG, 3CF4, 4B0B, 1UNQ, 4DJA, 1D2F, 2XGJ, 2HW7, 4A65, 3NJQ, 2PUW, 3LSW, 3TJ7, 4LW4, 2JC6, 2CZR, 1JXM, 2RIC, 2OG2, 4DI4, 2Z1U, 3B6J, 3Q26, 1N13, 4H3S, 1AJ7, 4V2Y, 2VK3, 2YIL, 4H6D, 2VZK, 4AIW, 1LVO, 4QHQ, 1BUC, 4DJT, 3IOQ, 3UNB, 1ZBQ, 3AYY, 4F5Y, 3MPI, 3O03, 3NKH, 4H7U, 4LN7, 4MA9, 3UCP, 4KFN, 3U18, 4RHO, 3N0G, 1WA4, 4GWO, 2NQC, 1JEO, 3ANO, 2IG6, 2DRS, 2KWI, 4UA4, 2C7T, 3MCQ, 2Y8E, 4PFF, 4C78, 3DDL, 1SIV, 1RH7, 2GI3, 1X9H, 4J51, 1FUI, 4KVZ, 3NTX, 2Q2R, 1XAG, 3P5E, 3GAI, 2VNL, 4WUJ, 3NJ3, 1JLT, 3K7N, 1BTM, 3GLB, 4LTW, 3PIB, 3ZXO, 4Q6W, 2WDB, 3CEX, 1HYH, 2AKJ, 4BC6, 3WI9, 2WWF, 2IXF, 2IUW, 2BNJ, 2YNG, 4FUK, 1PS9, 1Y0B, 2W5F, 3RBT, 2ZMF, 1U8V, 1RYA, 3PDN, 4NEY, 1XMI, 4K3U, 4HGG, 3FF1, 3QD1, 3QUG, 3ZM6, 2MBU, 2W2I, 2XR6, 2VLC, 2ODH, 4XCX, 4M1E, 2VC7, 1ISF, 2QAK, 1Z9H, 3VYM, 4M1D, 1W1H, 3TR9, 3D6J, 3M3D, 3C3K, 1XBI, 3EVA, 3NKM, 2GX8, 1CTE, 3FRQ, 4C54, 3IWE, 3CPJ, 2AC1, 1JE1, 1R7O, 4B6D, 4QNY, 2ZJ0, 3D0E, 1NKS, 1H0B, 3WGW, 2QXX, 4BE4, 4BUP, 4RKU, 3AD7, 2WQ5, 1D6S, 1QCF, 3MTN, 3POY, 3AHR, 4K7U, 2OFK, 3CBX, 1KOB, 4RXK, 4KP1, 3GEH, 3K9W, 1A0I, 2VXR, 4O7N, 3FA3, 4UJH, 4A83, 3VWO, 2W9X, 1W0O, 3UQ6, 2E3V, 4PVD, 3TQL, 1B3N, 3NYM, 2BU3, 3FTQ, 4WGZ, 3O2Z, 3TWI, 3NRN, 1T2Q, 2EJW, 3TZE, 3BMZ, 3QY2, 1YOC, 2FX5, 3GN3, 2G0B, 2Y88, 3T9G, 3C0Z, 2QPQ, 1AJK, 4HRY, 4PQN, 3KYG, 3N0X, 3UB1, 3O0D, 3REO, 4I8P, 1WCU, 2OZJ, 4CKM, 4LIK, 3EZ3, 4E5Y, 1G7C, 3TUM, 3MAE, 3B86, 2CVI, 1WB1, 2Q9C, 4Q9O, 4M43, 4L8J, 1WVG, 3QDR, 3D6N, 2P5U, 4TVV, 3HEZ, 1KKH, 3MNE, 2RI8, 3VWS, 4G43, 2ASS, 2WM1, 2VSD, 3VA7, 2UUV, 1HZL, 2GNM, 3FG4, 4OUA, 1BWU, 3H31, 2I5E, 3ZID, 1GVE, 1GV0, 1QXW, 4DWS, 2JAX, 4JB3, 1NX8, 1H7A, 3QZP, 2VSY, 2FWV, 4FTD, 3TXN, 1OFZ, 2BI7, 4MKT, 3UUE, 3AQT, 4BBY, 4OM8, 2J6I, 3WT1, 1W3L, 3NRE, 4MYJ, 4D4T, 4U5R, 2XW9, 2V2P, 4K68, 4E3Y, 1SVW, 3GZJ, 3FX3, 3KBB, 2I69, 2PKT, 3AQL, 3SF5, 3LGF, 3IPI, 3AML, 1XCO, 2ONG, 3SMJ, 1M2X, 1TG7, 4HYT, 1I5E, 3HY1, 3BIA, 3I0M, 2XYB, 1OKR, 3UOZ, 4E6T, 4NEH, 2YHX, 2AVK, 2RIF, 2ZRW, 4HOV, 4EAY, 3QR0, 4CQD, 4IHH, 4AG3, 1FCA, 3ZG9, 2F5O, 4RZ3, 3CZF, 3DMO, 4GFJ, 2DUA, 4LW8, 4EJG, 3TLQ, 2R01, 4Q3K, 3IWJ, 4OEE, 2ZCH, 2WCP, 2K5U, 3CYN, 4I2N, 4GVW, 4BWV, 3OL3, 3OKF, 3EMN, 3Q10, 2RC9, 3LZZ, 1YB5, 3T44, 4IUG, 4E2O, 1ZRT, 3D5P, 3NYQ, 4LBL, 2VAR, 3TLK, 4BET, 4AQP, 3ACG, 4B1M, 4URI, 1Q8M, 1JNR, 1X3S, 1HBO, 4WIU, 4N2X, 1NF5, 2Q0O, 1W5S, 2X2O, 4D9Q, 4GSN, 3F4C, 4C00, 2Q5C, 1RAM, 3H14, 3HD6, 2PR1, 2WH5, 1EMD, 3UYY, 2H4V, 3FDU, 3ZYP, 4MQY, 3OPY, 2NN8, 3DB2, 3E0D, 1VEC, 1YWM, 4EGH, 2R2V, 3FWY, 1ZD1, 1BCC, 3V3W, 1MJ8, 2OTM, 3PWL, 3MOY, 2P8U, 3A38, 2HSJ, 4IFA, 2Q2T, 3IGZ, 3SSO, 3OAY, 3KHQ, 1X92, 2NV4, 4AOU, 2AWX, 3WJR, 4G12, 4EM0, 4MYP, 3F8J, 1VBI, 3KSC, 4EB9, 1VKD, 3K50, 3U2Z, 1B02, 4L1F, 3H4Z, 2YDV, 3VYL, 3OG2, 1IQP, 3DWB, 1KQ4, 3EYV, 2ATV, 2VXZ, 2KP8, 2LK1, 1F0C, 2XI8, 4KGI, 3KUS, 4AKY, 2RKV, 3GIX, 1E8E, 4ALG, 3MEK, 3RMK, 4U6I, 1MOY, 4LSY, 3Q4R, 1NVI, 3U0G, 2XRI, 3OQ2, 4TU0, 1MTC, 3SQL, 2HW1, 1O6B, 4RGU, 2YJQ, 1Q9E, 2WUL, 2HRU, 1PWH, 2WNV, 3VCA, 4O8N, 2OMD, 4BPZ, 2I1J, 3OSM, 1OC5, 2Z7R, 4UY7, 1QWJ, 4JM5, 3QTE, 2QTL, 2ABW, 2Z1A, 3V3Q, 3WDP, 4FVP, 2ITM, 4MXP, 4GD3, 3MJ6, 3DYB, 2XZP, 2QDR, 4RII, 1QFX, 1FO2, 3NJA, 4NPL, 3RIT, 2X5I, 4JUT, 3U1D, 1GV7, 2ZK9, 1M4W, 3EDD, 3KD6, 3P2L, 4UNU, 3AWM, 2H00, 3WZ1, 4N67, 2P5M, 3NKZ, 4I9O, 4AD4, 3WH9, 3SRT, 4NXT, 4LDG, 4Q53, 2PNK, 1H2A, 3IMM, 2EXU, 3KKZ, 4HJ1, 4Q7A, 4QFU, 4KJV, 4BVE, 4LWP, 3T1I, 2B7U, 2XSB, 4K0F, 3FQM, 4JPU, 3QYG, 3ESP, 4B0S, 2OGA, 3T8N, 3PM7, 2GUF, 2XIQ, 4JM3, 4QQU, 3RFV, 2QZT, 3HD2, 2H6O, 2EKL, 4C9Q, 4H75, 4GF2, 2WZN, 1A3W, 4EQ5, 3OPT, 3M1R, 4M2S, 1Z6H, 3VIQ, 1W5O, 2ESA, 3NT3, 2C21, 2CSG, 4IP2, 4ASM, 4PSU, 4AQS, 3SQS, 4UP4, 3EC9, 3CL7, 3QE5, 2R5O, 4GQB, 4EB5, 1HSM, 3CYM, 4JIV, 2V57, 2RDZ, 3WFL, 4J7Z, 4Q0M, 3S9K, 3CTZ, 2G8I, 4ECJ, 2R1Z, 3T4E, 1GPM, 3NKU, 1RF4, 3KA7, 2GNK, 4HCH, 2W62, 4PW1, 2P0X, 4DUQ, 2R44, 4RMH, 3B9O, 4A3Y, 1PN3, 3DU4, 2CLP, 2P1N, 1Y9L, 3TWR, 4ACZ, 1YB1, 2GJ3, 1XEX, 4F4F, 4GDZ, 3RCN, 4IFF, 3LDH, 4F0K, 3OA8, 1HDG, 3LPP, 2WOR, 1HM2, 1AC0, 2PKP, 2R61, 3TVO, 1YNQ, 2ZUM, 1UVQ, 1G3Q, 4DGH, 3FNR, 4XCK, 1V3W, 4IA6, 1ZTC, 2H57, 3IUB, 2P9E, 2F5X, 4B1Z, 4F86, 2XFY, 3WAN, 4NK4, 2WVK, 2XBB, 1UD2, 3EGQ, 3PKI, 4NQ8, 4WQK, 4YCS, 1VZW, 3EFP, 3E7A, 1ITO, 2WSU, 2YL3, 4UWH, 3U27, 3E8J, 4REV, 1NF8, 1WG8, 2IML, 3G3G, 2FU6, 2D1G, 4OG6, 3ZDK, 2BZ0, 2ZVB, 4IGD, 3S0D, 1B1E, 4RKF, 3QMP, 3ELB, 1P3Y, 3NK8, 4Q2W, 4R4K, 3Q3V, 2Y0M, 4XLO, 3ZLE, 4HJM, 1QHA, 1COY, 4IXW, 2GNP, 3AAW, 3GVO, 4AJ8, 3Q3G, 1SIQ, 2VDC, 1MKA, 1ISU, 3A8U, 1U0L, 1A4K, 4LS9, 3QPX, 3I2J, 1C2N, 4NML, 4CJ8, 2WNT, 4AE4, 1T0I, 3E10, 3ZW1, 3ZI8, 3NHI, 4GI5, 3PVZ, 4F6E, 1QZ9, 3ROB, 1CPO, 1Y20, 4OMO, 3IR3, 2YF3, 1RZ0, 3H0L, 4CD7, 1Q4S, 2E3X, 4MJR, 3EEI, 3L9X, 2BEO, 1LF0, 2PFG, 1XLC, 1K9E, 1T6B, 1D5R, 1EX9, 2VTB, 1RGQ, 3LKB, 2B4J, 1Y0N, 3UBU, 1ZJZ, 3NWZ, 3MNN, 1PIV, 3ZT9, 3NIP, 2PXX, 2VSQ, 3MQZ, 4UZI, 3SJ7, 3UOM, 3TKF, 3K1T, 3T91, 4GNI, 3TQX, 1ZJY, 3HZA, 2IPU, 3VUA, 2DVL, 4HWX, 1VMF, 3S92, 3CGY, 3S4O, 3OV6, 3A3E, 3I01, 3U20, 1HBK, 1WYK, 4OEP, 3RHT, 1ZEJ, 4F4D, 4EB4, 2I6Q, 3SWX, 2PV4, 4E6M, 4USJ, 2EKM, 3K87, 3SGZ, 1AGN, 4KLK, 4D11, 4UB6, 4AUI, 4WXF, 3H9P, 2BTE, 3WMX, 1E2G, 4RWW, 3IL0, 4BOE, 2BES, 3QV9, 4GMI, 2O8C, 3INU, 2XCI, 2HVW, 1LNI, 3CP5, 4OLI, 3PVF, 4LGW, 4IVF, 3NJ4, 3GFY, 3C1Y, 4QIK, 3NNB, 2J3S, 1GKP, 2DDM, 4QJR, 3LNB, 2FD6, 1DDX, 4MZ7, 2R15, 3EZ2, 2WQ4, 3WAW, 3FBU, 4EYM, 4WCW, 4GE6, 3NWP, 3LKI, 4HDF, 2F48, 2CM1, 1D4C, 3WXJ, 2OLR, 3B9X, 1L5X, 1AZS, 1Y2U, 3C8L, 2UX9, 2NQW, 3QOS, 2KOO, 1OQC, 2IBS, 4D8H, 3RY1, 3WNW, 2KIN, 4X84, 2DCN, 2ZQM, 1HTW, 4NBL, 3K3S, 3EF6, 1RPN, 4R4T, 3B0X, 3E4V, 1JFF, 3PDF, 3L6T, 3KSP, 3ZLB, 4AYX, 4F5U, 1QZ3, 4MX2, 1EKJ, 4EDG, 3FX4, 2OYO, 1DYT, 1UMC, 4RT5, 1F07, 3HYT, 2QJW, 2JB7, 4UR5, 3F5G, 1ZCW, 1AYM, 2PLJ, 4LHN, 1PHK, 3JW4, 3VPS, 3OC4, 3DLU, 1L9G, 3G7M, 3HWK, 2DWR, 3UR4, 2VZG, 3LUR, 3QSZ, 4JX2, 1Z7A, 4PX7, 1AFS, 3M5P, 2PRR, 1GZ3, 3FEL, 3T4I, 3LD8, 1N2Z, 4UAT, 3SQR, 4HP0, 3EDO, 2J9D, 3MY0, 4I4Q, 4HPE, 4LK3, 3K49, 1LB3, 4J2F, 2V42, 3PEW, 3VU0, 3HCH, 2YOH, 3GFV, 1Q1Y, 4COV, 1H8S, 2FSI, 2ZTL, 1VHL, 4LXH, 4TKV, 3QIB, 2YJP, 3VUP, 2HL6, 4KBT, 3BFK, 1XS1, 2B6H, 4K5U, 4IUC, 4QRJ, 3QLB, 1JIZ, 3KN3, 1WZN, 2W7Y, 1LN1, 1TXG, 4L6Q, 4GFQ, 1S5M, 3BP1, 2X63, 3NU3, 2KQE, 2B5W, 2GDR, 1QIR, 3HE3, 4HL2, 3EJA, 3ZJM, 3FXQ, 3I8T, 3UQC, 2PGO, 2P3G, 1E3W, 3UAV, 4NPB, 2W8J, 1HH5, 2XJM, 3PE4, 3NNP, 1EJB, 3BOV, 4NV4, 4GMJ, 1JOF, 3DCM, 4R2F, 2V8Q, 1G55, 1CG0, 3ZS3, 3ZTN, 3LQ0, 2EBA, 2FE5, 3ITJ, 3E6J, 3GIW, 4CXT, 3T42, 4NX1, 3AWK, 4JVC, 1Z7Z, 1OFY, 3SZJ, 3UZG, 4WW4, 1R0U, 4E21, 2C5S, 2IY5, 3ZV5, 4GNG, 3VIR, 2P8J, 4EN6, 3KDS, 1XV5, 2IVF, 4A0T, 3ABO, 3SIO, 3H9U, 3FSL, 2RDB, 3O66, 4ATQ, 3I58, 1H0H, 4NVD, 3AIH, 2V55, 4ESO, 2D6N, 3TYU, 3VR8, 1ZT3, 3GYJ, 2RHQ, 4EF2, 2V6O, 2VOL, 2NR9, 3MU6, 3UP1, 2RC5, 4JRB, 4IYE, 3KV6, 1F2G, 3V7P, 3PTY, 1FRV, 4L87, 3HYN, 4PR3, 3FTF, 2YG9, 4H1Z, 4EF3, 3PT1, 3NXD, 4ETZ, 3PFE, 4GGC, 3DKQ, 2W11, 1JZR, 2HWN, 1JKF, 1QS2, 1QH5, 2Q6I, 3PKO, 3C8E, 1AHA, 2X4D, 3TKG, 1YBD, 2DBY, 1JLX, 1NU4, 2CFE, 2QDY, 3QFB, 2G1U, 1V19, 1VJ7, 4WZZ, 4MF6, 1V72, 4HEQ, 4RR2, 3T38, 3R5X, 2OUI, 3NDS, 3LXT, 1QHG, 4LVI, 2UX6, 4H41, 2K33, 4AOW, 2DBW, 1E4E, 2AML, 2DFY, 4M9X, 3ZXS, 2XZ4, 1VZG, 3DBP, 3IH0, 4NNM, 2GE3, 1MJU, 4JWT, 2HP4, 4J3R, 2ZA0, 2O4M, 4F87, 3WG7, 3M8T, 1F28, 3SZ3, 1LO0, 4HIH, 3AY2, 2QVH, 2C9K, 3ZQI, 3O24, 3SHR, 3AW8, 2XSP, 2JCR, 3KAE, 3W3S, 3EU7, 4MUU, 3E9Q, 3KMW, 3F5O, 4V0F, 4DLQ, 3P36, 4A3O, 4IRL, 4HZD, 3TW6, 1H6H, 3CWQ, 3BE7, 3DDE, 4JOO, 2WHJ, 3HMZ, 1V2B, 3LE2, 3P0Y, 4QE0, 3RIA, 2HUN, 1HEU, 3R9R, 3KBR, 1D1J, 1J99, 3SGR, 2PY0, 2ZZA, 4U2V, 3WZS, 1SSG, 4LL2, 1JG1, 4BD4, 3JQF, 4EQM, 1UY1, 1NVJ, 3LL0, 3IS5, 1KTB, 4JWP, 3IWK, 3NO0, 4F42, 4AZL, 4IP5, 3ZS1, 2NTK, 3L81, 1W2Y, 3TRR, 1GZL, 2FUP, 1GY8, 3S5R, 2QSK, 2BUQ, 4OD3, 2XQ2, 3PO3, 3OWR, 4XL8, 4QEU, 4DPI, 4PXZ, 4TMV, 3T68, 3M9K, 1E55, 3ICI, 4DU6, 2R86, 4NQI, 3THW, 4XDE, 1RC7, 3M0Z, 3D4P, 2UZ0, 3OX6, 3U16, 2QLX, 3GMI, 3SZT, 4GX2, 3AQZ, 3DXV, 3V6C, 3E3E, 2ZX6, 3ZS5, 2BWI, 4NHW, 1LTK, 3HVO, 3KB2, 4FJO, 1T9R, 3D6T, 2ZUW, 4B2X, 1VB0, 2WT9, 3JR2, 3R2C, 3IMK, 1RID, 3V68, 2BC1, 2OH5, 1EYZ, 3VE1, 4PXY, 2IYF, 1YY7, 4A59, 2PWY, 1NJH, 2RB3, 4KFU, 1I9Z, 1KYN, 4JIC, 4DNM, 3A24, 1OSM, 3NFW, 3M4H, 3RIG, 2OIK, 1KTG, 3CDH, 2G0I, 3KJG, 3ETC, 4A56, 3GJB, 3UGF, 2KQD, 4DF1, 1SN0, 2I52, 4J5E, 4MVA, 3HTH, 4IKK, 2Y3S, 4N3D, 2YR4, 2WW8, 4UZY, 1LL4, 4DQ6, 2GIX, 4KE8, 3QID, 3TZF, 4HU0, 4LCI, 1MYR, 1X6O, 2Z92, 4PEG, 4EVI, 2RMK, 4HB9, 3GUD, 3A25, 4QM9, 1H8U, 4FTV, 1R18, 4PT1, 1FEC, 3IUK, 1IHG, 3P2W, 3K2V, 4I6B, 3BDM, 3H8D, 3UAM, 1ON8, 3JRX, 4CC5, 2WTX, 4ACI, 2BGC, 4PRL, 4KGM, 3E2Q, 4IFD, 3EJK, 2YNM, 3S2Y, 4BUC, 3R69, 2GMH, 3NK7, 2XL4, 4PCK, 4AA9, 1ZFJ, 3PN8, 3ZTE, 3E19, 2OZY, 1WE5, 1N06, 3T52, 2Z5Q, 3UTP, 1UJ2, 2RHA, 4KQB, 3TEE, 2RCF, 1FDV, 1GVF, 4JB1, 2W5N, 3PLK, 1MS8, 1VLP, 1HKI, 2WN6, 3VU8, 3NXS, 4P29, 4L5J, 3TVR, 1E19, 4OJZ, 2XBK, 2CX1, 2NSH, 4F53, 2XU7, 4ARI, 3A3Z, 2E1R, 3UMT, 3NEC, 4WXE, 3PLX, 3LF0, 3C4A, 3L8K, 3ZL8, 1K0K, 2RQF, 3DFU, 3V5P, 1PP9, 4NYX, 4JD1, 1XDN, 2BEV, 3DR4, 2GQF, 4NTI, 2NSP, 2CYY, 3UES, 4NZU, 3KNZ, 2IDH, 1VEM, 2FTW, 3QVR, 1S4D, 3QIA, 4ITY, 1TZX, 1U3E, 1EFP, 2RLF, 3O07, 1QGJ, 2DT8, 4U3E, 1O8C, 3LVQ, 1XHK, 4LDC, 4PWV, 3C7A, 3HG1, 3TSA, 2YJM, 1DLI, 4BM1, 3K93, 4IL8, 3ZV0, 4ETQ, 3BH1, 3MI5, 3A0U, 2JEV, 4HI7, 4FQT, 1F8F, 4CRR, 1S5L, 3QI9, 3G7U, 4RK5, 4LE4, 4H1U, 4NRO, 4H2U, 2V0N, 1IHO, 3LY6, 2X06, 2ZZ4, 1IQZ, 2DUR, 4COS, 2GQT, 2Q7W, 2VYN, 1J3N, 2WAJ, 1N6O, 1M6Y, 3G91, 3ZUN, 3Q20, 1GYO, 1KMH, 2Q2N, 3H7L, 2VN0, 3F8M, 2SN3, 4BVA, 3ABA, 3OZD, 3FVR, 2BCG, 2P7H, 1LIH, 4GCN, 4KYP, 2XAN, 3WE5, 1VKF, 2E9F, 4CBT, 4ED5, 2HEK, 4HON, 2FZW, 3R3T, 4RQV, 3CS3, 1Y13, 3G16, 4ESR, 1LV2, 3GVG, 4BAS, 3RWX, 2V8H, 3NZP, 3CR6, 2CDU, 2WNF, 4N0K, 3ZEA, 1NXG, 4FJV, 2IWT, 1ZWH, 3LVM, 4R0V, 4BRW, 4G22, 3LO1, 2BYO, 2BEI, 1PCA, 3L7G, 1WZU, 4DB5, 2VCG, 1DE4, 3MUO, 1LQA, 2F2E, 2VZC, 3KAP, 4Q6D, 3M5H, 1N0Q, 1QLR, 4PB0, 4MCO, 1JRA, 4P78, 3T6Q, 3FME, 2LL8, 2AJS, 3ZY5, 1LQY, 4O5O, 3T94, 1AHP, 4NSD, 4QVH, 2AFW, 1KB0, 4BRY, 4AB8, 3BRO, 2V7U, 4HXZ, 1W58, 3G85, 1EFG, 4FMT, 4JEJ, 2EJ1, 1USP, 4IWT, 2YZO, 2AXC, 2V95, 4EUL, 3KUK, 3LVU, 3LR2, 3FHA, 4XGI, 3ZYM, 4HQZ, 2BB6, 2ARV, 4S1A, 1B74, 4M8A, 4DKK, 1VKO, 4RGC, 2DCM, 3O49, 3L27, 4MOC, 3O8O, 4O2D, 2EXX, 2QIW, 3KGL, 4M52, 2ZFU, 2B4F, 3A2S, 3AB1, 1YL7, 4C0S, 2V7S, 2ZU0, 4E8C, 1SEQ, 3PJR, 1AUA, 4QJ9, 4F0Z, 4IR1, 4EYU, 3NOY, 3K1L, 2VG3, 2MLM, 3ZST, 3L1F, 2RCC, 4Q6M, 3MUN, 1TWA, 4PKB, 3EX6, 3W3A, 4PNO, 3A0T, 3KGR, 4NUV, 4NLC, 1YM0, 3ONP, 4C0Z, 2POK, 4IBI, 2WBI, 3FHM, 3ZQS, 3KT8, 2V72, 4MCA, 4JFY, 3MV4, 1JNH, 4M28, 1FAO, 2P0T, 2YD9, 1YVJ, 4TWB, 1XME, 2ZPU, 3D3S, 2HUB, 4JY5, 2F6U, 1IY8, 2W96, 5AGA, 2Z8R, 4BVP, 3OAA, 1SO0, 4LHK, 3UVC, 3NOK, 2JFN, 1RB8, 2B25, 4M7T, 1CKM, 2HFO, 3UG4, 4H5B, 1SUI, 2GOK, 2ENX, 4RS3, 3MIO, 4OR4, 1UDY, 3FJO, 4PUX, 3RJY, 2W39, 1ZL7, 3R03, 4BOJ, 3OGN, 4L1T, 5AJO, 1IGR, 1LVW, 1UJ5, 2BL2, 2UYK, 2Z6M, 3ZTP, 1NKZ, 2R0G, 1HTT, 3HVK, 4NX8, 2GJA, 2V25, 1SLI, 3IS6, 2VMX, 4IWX, 1GVZ, 1RJW, 3LU1, 1UAM, 2GG9, 3K13, 4V2X, 1OD6, 2GA1, 3N7H, 3MO0, 1E77, 4G41, 2CBO, 2UYT, 2J3L, 2VUL, 4NM4, 3R9Q, 4L1U, 4NPY, 3WAS, 2JJB, 1U0J, 1UQR, 4ESU, 2QBU, 1UH2, 4CJQ, 3FWZ, 1U7Z, 1KEV, 2XZC, 4P84, 4MC8, 3G9W, 1QB7, 3RAM, 1Z54, 1A5I, 2IO4, 1UKK, 3FR8, 3W0T, 1PWA, 1V0K, 2I99, 4RKN, 3RSJ, 2EVU, 4GEQ, 3ILI, 4R26, 2GC9, 3HX8, 3PFI, 3ZZK, 1G28, 2IA1, 3SL1, 2W6K, 2P86, 3R9V, 3AQ4, 2OQA, 3D9R, 2YCL, 4IFX, 3H3N, 1PLK, 3WV5, 2FML, 3Q12, 2ISJ, 2WLG, 4FOK, 4W7S, 2ZGI, 1HJ8, 4BQO, 3A18, 2G1P, 3TW9, 1GXT, 3I5A, 2EXR, 3DGD, 4LQ9, 1UYY, 4DEE, 4A15, 2VOR, 1JZQ, 2E5Y, 1G2N, 1YRH, 3OAN, 4RND, 3BEX, 2FCU, 1ZUN, 4AG2, 4LXQ, 4KIY, 1Z6G, 1DJW, 3IHB, 2O62, 1UKW, 2NSF, 2OI2, 1PQU, 4WOH, 3B2X, 1T2A, 2JF4, 3SGP, 2UV3, 3TI9, 3F4W, 3CQ3, 2PQF, 2X7O, 4DSN, 4XFR, 3LZD, 2I2A, 3WR5, 4HBS, 1DBT, 1GHQ, 2Z0A, 1SJW, 3DSL, 3O2P, 4QAM, 2F02, 3N71, 3OMK, 3LYA, 3BJR, 2B3D, 2Y6L, 1LO7, 3FF5, 1CBF, 1AXJ, 3RMQ, 2WH6, 3E1T, 3B3S, 2GEY, 3EUC, 1SHJ, 1GDN, 1ZWL, 4L57, 3GBY, 2FJ0, 2VG1, 1NE8, 1KZU, 3SPA, 4IGS, 4ADB, 4MR6, 1WDD, 3V0A, 1VCZ, 2FUQ, 1TJY, 4B41, 4GC1, 1B3A, 4IW0, 1HD3, 4R81, 3SFH, 2CJS, 2XW7, 2P20, 3CGD, 2X6L, 4GQY, 4S1D, 1DL5, 2JAP, 1EGY, 3WZM, 2K5T, 1E3E, 3Q58, 1O9O, 4LD7, 3AP1, 3TWB, 3RAG, 2C39, 4PQI, 3ZJX, 3OLO, 1V7C, 3W6S, 4H6Q, 3FN8, 3W6G, 4U0W, 1US0, 3RO3, 3C3D, 4LC5, 3ML5, 3MBO, 3OOJ, 4M20, 3KL0, 3TSH, 4Q4T, 1YBQ, 1APT, 4OUD, 2XPU, 1WV4, 3E3U, 4USS, 1I5L, 4P86, 3ZZQ, 4DJH, 3AY8, 2HXW, 2ARX, 2WKW, 3B8H, 2QGA, 3Q9L, 4DMT, 3JZJ, 2BRJ, 2WDO, 3RAU, 4PF3, 4EHV, 3F8K, 4JKB, 4FAT, 4CSW, 3P1S, 3RNR, 4CAV, 4ISN, 2Z7C, 4A0M, 3LEV, 3AEK, 4WQN, 1SOX, 4H7O, 4JES, 2JDJ, 1M7G, 1XVI, 3M7V, 3I9G, 2J1L, 3WIS, 2O48, 4UAS, 3SJD, 4DXZ, 4CY9, 2C4A, 4IDN, 1JCH, 2V6K, 4HNK, 3ZNX, 2PZM, 3TW2, 2HPV, 3IN1, 2WF9, 2Y8K, 3TJI, 2Q2F, 3HNG, 4J96, 3D7I, 1L6W, 1RII, 4RU1, 4G4P, 1KQO, 3ZOQ, 2AOT, 1FHE, 4Q12, 2X8W, 1V9A, 2YY8, 3G0O, 3KHP, 3LCC, 2RBC, 4LY8, 4MWS, 4FEZ, 4MNN, 4GRF, 1NLM, 4OFJ, 4HZ5, 2XTS, 3VJD, 4OCH, 2YLC, 4DF3, 1ECY, 4IHL, 3K9T, 4B4D, 1W7J, 2BHZ, 3UP9, 3OQP, 2J58, 3MWQ, 2E4V, 2GRY, 2CF7, 4C6S, 4H1X, 1KP3, 2I9U, 3SL9, 3UVF, 3OJF, 1X79, 3G2S, 1CZH, 3IX1, 1JZN, 2CBT, 3BLW, 4QUN, 4PSW, 3IFE, 1PLF, 3NUX, 2VM9, 3BRF, 2UUI, 4KUJ, 3QVF, 4FQ5, 1Z82, 2IQX, 1Y11, 4ENF, 3BLJ, 4DX5, 4LA6, 4DQL, 4E80, 4KWC, 3LBF, 4DG9, 2ARK, 3VIU, 3O4R, 4BUB, 1GSJ, 4C49, 2PYX, 1XMC, 3S6G, 2Y50, 4AW2, 3HHL, 3I2C, 3D2H, 4L82, 3HP8, 2P0W, 4KSI, 3CRV, 3UEQ, 4H7N, 3V7X, 4M6Z, 2GXA, 1EQB, 2GPJ, 4EH5, 1U08, 1JQN, 2XJX, 4N76, 2APC, 4UQW, 3NDU, 2GJL, 3P71, 4F66, 3VFC, 1WYD, 3KXA, 1YS3, 3RH2, 3CMT, 2IVE, 2DQN, 2QHF, 3PHU, 4M89, 1LW7, 4JBE, 3UKM, 1XH0, 3HO8, 2DQ0, 4IWO, 4MOR, 3H75, 3IUC, 4OK7, 3A9E, 1L1Q, 4LR4, 3SGI, 2KMX, 3GVP, 4G5A, 3ANG, 4IOX, 1SZ6, 4JM9, 4RCO, 3TZ6, 3GA4, 4AP9, 1ND4, 25C8, 2IPZ, 4D6T, 3O9P, 2F6R, 1SXQ, 1UTB, 4QII, 2ZSV, 3VLW, 1FIW, 3LEE, 3LPS, 2C4M, 4CE0, 4CG8, 3NRV, 3SMT, 3KHC, 4A3A, 2FK6, 3GY9, 4OU1, 2B1N, 1LHN, 2V04, 2FGH, 4NHY, 3ODP, 2XLW, 4OE9, 2YX6, 3IC9, 1OGO, 2EK9, 2J9E, 2G8Y, 3ULT, 3S9Y, 4MSV, 4A5O, 1DJN, 3KKF, 2ZY2, 1J9K, 4AFM, 3ESJ, 4Q69, 3ZHL, 3P6L, 2VGI, 4DGM, 1JGT, 2Y62, 4N49, 1F0N, 2XKJ, 3EDN, 4S0R, 2IWB, 4PZ3, 2WII, 3C0A, 2GXS, 1ZI6, 3ZDO, 2HLJ, 4U1X, 4JOA, 4NL4, 4F4O, 2FLI, 2XTM, 4GQO, 2G8A, 2QLU, 4JMA, 2BIY, 2RNF, 3OO9, 3LRD, 2AQM, 2YW2, 4ES7, 2R6F, 2BAX, 2WFG, 3AJY, 1C9O, 3NYD, 2FYX, 3H7J, 1WDN, 3RB5, 3UWB, 4P6V, 1YFZ, 3W2F, 1ZRH, 4K7X, 2EJT, 3KKS, 4NSV, 2VJY, 3UW2, 3UMV, 2WPT, 1EHI, 2XN0, 3ZMO, 1FP2, 2QCD, 4WHS, 4OAN, 2VN8, 4CFF, 4L6R, 2CFT, 2GJP, 3ITQ, 1K4M, 3D8B, 1AH0, 1LC7, 2X7X, 1RY2, 2Z3R, 2VNG, 1MU2, 3LE7, 2CDC, 1ZK0, 4PTU, 1W8F, 1NML, 3QQV, 3QRD, 2XG4, 4PHQ, 4KY2, 1VS1, 3HYF, 4IZG, 2WC1, 2W5A, 2HJH, 3LKW, 2ZAK, 3L84, 4O9C, 3A27, 2WMG, 3Q8I, 3PL0, 1Q9S, 3ZN2, 3P0F, 2X46, 2HRD, 1LC3, 4J4V, 1FRJ, 2AEN, 1DAX, 3KV1, 1U5V, 3PXV, 3K89, 3O2V, 3HPE, 4J76, 2V1X, 1OJ1, 2WCL, 1YEC, 1NT4, 1YQQ, 2DCU, 1BUG, 3P77, 1PY0, 2G88, 4EGX, 2QB8, 3R8R, 3D0N, 1YRA, 3B6D, 3A79, 4NIW, 3QMN, 3H9R, 1YA6, 3TMI, 1CS4, 1YJX, 4F12, 2OU3, 1U7L, 3S2E, 3A2M, 3LKK, 2QBY, 1EBD, 2WN3, 3VI3, 2P73, 2UW1, 4JJ7, 5AME, 3RZE, 3ALU, 2CFM, 4DNX, 2WWK, 3BW2, 3JQJ, 4X6D, 3B5G, 3A4T, 3CTL, 4GDY, 1Y3D, 3KLO, 3WKO, 3ZE3, 3LOG, 3ST7, 1NRG, 4KI3, 2X5T, 1MXR, 4KQX, 2XHG, 3H7H, 3W0K, 4M88, 1V7R, 3MY9, 4C3S, 2X2U, 3LQS, 3BZH, 4AJ3, 2O4V, 4AIZ, 1ORF, 4JBB, 3WI5, 1WBI, 3WFJ, 1AF6, 3O3Q, 2ZFN, 2J0K, 3FP5, 1MVN, 2WIW, 4DDD, 3ICT, 3NW4, 2ZJL, 3Q6Y, 2ZT9, 4K91, 3DWP, 1Z1N, 3EK3, 4BGU, 4Q9N, 3QUI, 1WPB, 3I26, 3WMP, 1D0K, 4MY6, 3BDI, 3ZQ6, 3CV1, 4P2F, 5LDH, 2YD4, 3CLR, 2K3M, 4BEC, 3KZH, 2V9N, 3UGI, 1DUW, 3VND, 3M1V, 3LBD, 4ID8, 2D7D, 1OJV, 4NPV, 3CFQ, 3VAA, 1N54, 3V6E, 2P11, 2J5W, 4WZN, 2HW2, 4DNJ, 3NRB, 3SKV, 4OIC, 3N85, 1YLI, 3P94, 1VK1, 3LUQ, 4AON, 4WFP, 3BQ5, 1WKM, 4NO4, 4DXD, 4EO3, 2YFU, 4ISY, 4A38, 3OWA, 4OMF, 1O7A, 3CZ8, 4MRI, 3EUQ, 2ERX, 2YS6, 2W40, 2XNJ, 4QGR, 4A08, 2BS2, 2J5S, 1CB8, 4NCA, 3VLU, 1W6S, 3O5S, 4IJC, 3EIF, 1J05, 4B9B, 4D6W, 3R2N, 1D9Z, 4FDU, 3T49, 2CVP, 3U1K, 3QRG, 1HX6, 3N7S, 2XTZ, 1UG9, 1SU3, 3I1A, 2CE0, 3NEF, 3IV7, 1WLJ, 1ST8, 4PZ6, 3UBR, 4LUA, 4I9B, 4ICS, 1TIQ, 4BK7, 3NZG, 4LN0, 4JM8, 1EBF, 1IOM, 1N94, 3UON, 3OV1, 4MPU, 1WZO, 2XLM, 4DQ5, 3H51, 2LL4, 3ISA, 2ABJ, 1V82, 1PEG, 4AFH, 2C20, 4AWJ, 3VH4, 2CA9, 4LY9, 1LNX, 2NR5, 2WET, 1N4K, 4PQP, 2RJG, 3Q73, 1OJR, 2JIY, 4H03, 1RSG, 1VPM, 3OU7, 4CVU, 1CT1, 4DXY, 3GLV, 3W64, 2RD5, 3UA4, 4DIX, 4BTW, 1JCJ, 3H5Q, 2XAC, 3DY8, 3U1X, 3GFA, 2V7Y, 1BJQ, 3VF1, 2ZQ9, 3H4X, 1S4M, 3ETT, 3MX2, 1T9F, 2BV3, 1VBW, 2J9L, 3UXY, 1QMG, 2PNU, 2QCO, 2Z6W, 3RY2, 3U48, 2YVW, 1PFI, 2FKK, 3OS4, 1G69, 1R1M, 4LUV, 1ECX, 2I9F, 3USA, 2QAG, 4GDJ, 1UNB, 4EZC, 3L8Q, 4CBP, 4RGB, 1RLK, 3HSS, 1U2Q, 3DM0, 4NQG, 3PNZ, 1CSM, 4F06, 4V12, 3GZS, 4CP0, 2B5O, 1FNN, 1BCP, 3FUS, 3ENZ, 2NTF, 2ORD, 3OEP, 2WZW, 3D80, 3N8K, 1RUZ, 2B20, 3RD1, 4A5S, 3KER, 3GOH, 3LAT, 4O4Y, 1W0Y, 1RVV, 1PPR, 1EAH, 4AG5, 3NTO, 4GN8, 2JE0, 1R5A, 4BJZ, 2CH1, 3CEB, 4MDH, 3ZYY, 4PMJ, 2QC1, 3GVD, 3TY3, 3MQH, 3L4R, 1NBO, 3GH6, 3H6Z, 3QCE, 4GZO, 2DF8, 4MX4, 1WOQ, 3NTD, 2ZHN, 2VQD, 2A1U, 3FZW, 1WRV, 4OVB, 3EDC, 1YUH, 2Z2P, 4NN2, 3TX9, 4B5N, 4D5A, 4RKS, 4DWR, 3N2E, 3E2I, 4EQX, 2W4K, 4WBT, 1DUV, 3OD2, 3A75, 4DU0, 2XU0, 2RBD, 3ISG, 7REQ, 3GZR, 2CFB, 1R45, 1XAF, 3SXQ, 3SOC, 3BVE, 2DFD, 4LOM, 4BZ5, 4A22, 1DOT, 1KMM, 3L5H, 4E37, 2D3M, 2VZB, 3UWP, 4PK7, 1M8V, 4M0W, 2HXS, 4DTG, 4QSS, 1LDM, 1OJ7, 4O89, 2RL1, 3DA8, 2YZM, 3EOJ, 2QTD, 1TV3, 2JE2, 1G8S, 2G62, 1VD5, 4P6S, 4WWL, 3NUL, 3HJV, 3DI4, 4OZL, 3DLO, 3KQI, 2VED, 4N2I, 1JQK, 3QPB, 2FG0, 3CQO, 3QET, 2C91, 3AYZ, 4MLY, 3NEV, 3O2I, 3TZQ, 4C02, 3S4R, 1NCW, 4W9R, 1H2F, 3KAK, 2OFU, 4AIR, 3OG9, 3PYP, 3A0S, 3IP0, 4B6L, 4RQT, 3LBZ, 1HVC, 2RKL, 1RER, 1PMH, 4EEL, 4C4O, 4FID, 2GLX, 1W96, 3OEK, 4L2H, 1HO3, 3B08, 3TWK, 4ESW, 1XC4, 1D7R, 4WUI, 4HC4, 2OO4, 4O4E, 1U02, 3ICA, 4N0I, 3MKK, 4JDR, 1JWY, 2WIB, 1WGZ, 4O9K, 3N4K, 4FAJ, 3LN3, 2ESM, 2WK5, 3IRV, 2EER, 2J0W, 4B8R, 3TQW, 3A74, 3IV6, 3FEC, 3HAZ, 2HGS, 4JL2, 1BJ4, 2LKI, 2WZO, 4JDD, 2RHG, 3BMO, 3UT1, 4G2N, 3DWL, 3UG7, 1UA4, 3I07, 3S7O, 1C3Q, 1IYX, 3D2R, 4QQS, 4I18, 4APQ, 3IN6, 4XCV, 2GB4, 3BBY, 1H72, 1ITW, 1UW3, 3LHE, 2ARC, 2C95, 3GZB, 1PM7, 3U1S, 2XKL, 1EVR, 4FYZ, 2UX8, 1KN2, 4KQP, 1KEU, 1F5V, 4F83, 4B1Y, 2J1Q, 4AK4, 1NN3, 4BF7, 3NZT, 4BHT, 2QWZ, 2XL8, 1O7D, 4PJ9, 4MUB, 3BO5, 2HMA, 3DME, 2CWW, 2G8G, 4R2K, 3OP5, 1YQ9, 4D07, 1D5C, 3QG2, 3PGB, 4HZY, 4JNR, 2ZZS, 2Q9T, 3QB8, 3TLX, 4KH9, 3O4C, 4BYX, 1BI9, 1PWM, 4C6Y, 2J66, 4G56, 1SZN, 2X1C, 3KGD, 2A98, 3W8S, 4JWO, 1P49, 3NLC, 3BIQ, 3IMH, 3L0Q, 1VIO, 3P2O, 4KYQ, 1N1H, 3GWQ, 4BVB, 4CP8, 2HY6, 2D7G, 3QNQ, 4HSO, 3RLG, 4FR4, 2YJ0, 4PPV, 3G0S, 3WSV, 4QTG, 3HV0, 4OTZ, 3OYD, 2E2Y, 3QCP, 1J3W, 3E4B, 3VPD, 3E4R, 3T8I, 4N1J, 3TY2, 3WPN, 3V2I, 3VOT, 3OKO, 4N1U, 3UYJ, 3DWF, 1YWG, 1PWU, 1VYO, 4GT8, 3MYB, 4BA0, 2DPY, 3MGA, 1B7A, 3MSU, 4XPZ, 4U14, 2AKO, 2H4X, 3P1T, 4LD6, 3EHC, 4DF9, 3BCJ, 2WC8, 3TOS, 4WJI, 3LRE, 2QUX, 2JKD, 2ZS0, 2VO4, 1WKK, 2B9I, 3U9W, 3OWC, 3L4I, 2CFA, 2O1Q, 3A2P, 3CO8, 3D3F, 3N2A, 4E0Z, 2FO0, 3S9J, 2WSH, 2JFS, 1LPB, 2Y8S, 1FDT, 2QDX, 4DWE, 3ODM, 4MZ1, 2DSY, 1M0S, 3K9D, 2ZU2, 3H9E, 2AGK, 2YL1, 3NGQ, 2WVZ, 3ZNV, 3IJM, 1U8F, 4MYX, 4OXX, 1C2T, 3JVA, 3D1C, 2Y3G, 3S3R, 4KNK, 3GB9, 4BA6, 1GPE, 3FNN, 3PJU, 1VST, 1L0O, 1EKE, 3NVQ, 3PTA, 2ZTS, 2DWC, 1ZYO, 4L0O, 2WJ9, 3VWD, 3TEW, 4IQL, 1YYD, 3AHY, 3CEC, 3LFR, 1T5C, 3PMT, 4NMN, 3OTH, 2VE7, 1QEX, 4HHV, 3Q9O, 4DCM, 2HJS, 3TV9, 4FF2, 4CMD, 3SP7, 4KMV, 1B4Q, 3FID, 2XMR, 2W13, 2ESR, 3QPM, 1T8T, 4BH3, 2PSM, 2D16, 3VSE, 1K7Y, 3G3H, 3KRU, 1V1F, 4IEL, 3JYN, 1U7H, 2XF4, 1V9N, 1Y57, 3MPR, 2DD9, 4FVL, 4HNH, 1N8V, 1NFB, 3DHA, 1Z7X, 3F9S, 3N8T, 4BJK, 2Q9P, 4R3U, 3DX6, 3ZJI, 3OHE, 3ZC7, 1UHI, 3MNL, 4B7F, 4J3I, 4LNA, 2TBS, 1EOM, 2W98, 3HMQ, 2X75, 3NB2, 3HFT, 3CFD, 1TVP, 4L44, 2RH2, 3SKC, 1WAQ, 2H0B, 3S29, 3L1N, 4KCF, 3T4M, 4L7F, 4DQ4, 4LE6, 2OO0, 1VQS, 4OZN, 1KWG, 3V0W, 3SGW, 1ZVR, 3MA0, 1H0P, 3LVB, 4I42, 1GCI, 3ZTV, 3NVS, 3CFB, 3ZVY, 4NMW, 2C2N, 3FRN, 1XHL, 2YFR, 1KRH, 3OW1, 3SXN, 2RHX, 3ZU1, 4I2U, 3EKH, 3I8X, 3MAW, 3FYB, 2XC1, 1EL4, 1K87, 2XJS, 4HEA, 2NRM, 1DQY, 2ZPO, 4X8C, 4ID0, 1N4W, 1M32, 3D8V, 1LOJ, 3FZ5, 2XU2, 3PXX, 1YI9, 3H8H, 1TW4, 1Q44, 3WVS, 3L5W, 3UJJ, 2E8Y, 3HCN, 3WHK, 4B94, 1OS7, 2HUP, 4QYR, 1MDX, 1DMG, 4GS1, 3OTB, 1MO1, 4W8X, 4EYQ, 3DUW, 2W38, 2GM8, 1KHT, 2A3R, 2W3P, 3H0H, 3RQ1, 4TVU, 4NST, 3P8A, 4LG0, 3TH1, 1V5D, 3E84, 3P2H, 4UC1, 1SI9, 2RDN, 4FI7, 1OK0, 4LVC, 2IJE, 2LIQ, 1SBR, 4DCH, 4H84, 2V9K, 1DLM, 3VG7, 1DNP, 2QEJ, 2P18, 2YXX, 3P41, 4H8N, 1SJ1, 3HZU, 1O82, 3QSJ, 3AJZ, 4JL0, 2XNK, 2VLN, 2ZOZ, 3DR8, 2GY5, 3GWZ, 3TR6, 1W8Y, 4QUV, 4BII, 1Y8P, 4NY7, 2BYC, 1E3B, 2WYP, 3H6O, 3IX9, 4CYJ, 3UXV, 3MKI, 1R30, 3BN0, 2YXD, 4GRV, 2QKI, 2VEZ, 1B6G, 3ZHF, 2IK0, 2O23, 3LB2, 2XH2, 2Y8C, 3A0B, 4WYO, 3MEZ, 3HE2, 3ISO, 2XA5, 1I2A, 3K2H, 4PCV, 3PR6, 3ECD, 4KE6, 4O2A, 3M1G, 2I2X, 4I5L, 2RGQ, 4B79, 3K8D, 1V93, 3RKO, 4GBY, 3QWY, 3BMP, 3U06, 2CL8, 2A2N, 4AEJ, 1TJ1, 2OKC, 3QH9, 3RQI, 3J16, 2ZSJ, 4HG1, 3N0Q, 4BRC, 4FI4, 1GP6, 1SQF, 2R6V, 2PX5, 3VCN, 4COQ, 1O71, 4NMC, 1QP8, 4X2S, 3F4F, 3KB1, 2FY3, 2A4X, 4EYE, 1UUX, 2PLR, 3ODV, 4OJL, 4FC0, 4NE9, 1VJT, 1M2O, 4NB7, 2W31, 3G3M, 1AYF, 1KL7, 2QW5, 2OAY, 3COS, 3L8Z, 2RD9, 3VST, 3QQM, 1XGK, 1VBH, 3CEV, 2PAE, 3HI7, 4LLY, 1FUT, 3F0Y, 1A9Y, 3GR7, 4BN9, 2NYK, 4RGI, 2RHK, 2IWZ, 1RWX, 3F8F, 1E29, 1VP8, 2JL1, 4FOU, 4U03, 1A80, 2X5D, 3EXN, 4X90, 2XH4, 4WBD, 4PPR, 3A56, 2QJ7, 4OO2, 1H4X, 1K0I, 2GXQ, 4F7S, 4NTD, 3DO5, 4AJY, 2PG0, 3GGG, 3P34, 2QUD, 2Z0J, 1YRX, 2VAW, 3HIJ, 4EGB, 2YVK, 3LKU, 1I9G, 4N0J, 2IV3, 2G49, 1JJV, 3TA0, 3RRL, 3H78, 3Q2V, 1EYS, 2W43, 3L2K, 2UY2, 4HMS, 2C27, 1RXG, 1PUO, 2PX0, 4G62, 4AW4, 2CH9, 4MLA, 3WKG, 4IKI, 3SL2, 1DGP, 2H39, 4BXW, 3LP9, 1EGH, 4N4W, 3L4D, 4FG9, 4KEP, 4FW7, 2XOY, 3ILX, 3WRG, 1SC7, 1Y5E, 4OK9, 1B25, 3ZLI, 3ZZM, 2YMD, 4M5E, 2NT8, 4OL9, 2UWA, 4TMW, 1S49, 4IBM, 2R1I, 1OMS, 2BS3, 4EFP, 1JDX, 3HYK, 1XRK, 3PUX, 3SGG, 4G09, 3MYT, 3N7L, 4Q08, 1FFY, 2OIT, 2XYA, 2C4B, 4FKL, 1F6A, 3RPZ, 3UC0, 1J09, 2BDZ, 3QOK, 1JXZ, 3G68, 3R5L, 4IAW, 3PRY, 3L8A, 1ZOS, 4RS2, 4E4S, 2FYP, 4FFY, 3CSW, 1WOO, 3G5O, 4LSC, 1Y4W, 3G8W, 3UHF, 3C19, 1PVY, 3KKJ, 3SRG, 1E9L, 4WAN, 3GSD, 1F7U, 4PPI, 4QQ7, 1A8P, 3NNF, 4IM7, 3ZGL, 3W9A, 4JPQ, 4K5Y, 3AJE, 1EIR, 3V16, 4A9H, 4ALK, 2Q0L, 2D3Y, 4QTD, 4IOV, 3WEE, 3OUM, 4HQO, 2X1L, 3V70, 4KJZ, 2YD0, 2VGN, 4GEW, 3O9T, 4N6H, 3Q6I, 1DBF, 4MXH, 1I1A, 1SVL, 3N6M, 3A5F, 3ABQ, 4BHU, 4OMQ, 1PBQ, 3WH2, 3CC6, 4NFF, 4GQC, 4FW6, 3SFS, 3KO6, 1H7Q, 2V5J, 3LR8, 2NYU, 4DO4, 2FKB, 1D2Z, 4GN4, 3FLT, 3PMV, 4HHU, 3MZO, 4DOD, 3B1Q, 3KW0, 2W74, 2WCM, 3UJM, 4MU4, 1FL6, 4S0V, 2VYT, 4KNT, 3NA6, 1CS1, 1L6L, 2GBB, 3A5V, 2YLI, 2B7Y, 3AHV, 2QS4, 4LG1, 2E5A, 2VUT, 3C5T, 3H0N, 3M07, 2Q8G, 2XZW, 3EO6, 4U7P, 3AJ6, 3QN2, 4EQC, 3ZSJ, 1OLM, 2QDD, 1EAB, 3Q3E, 3GOB, 4XI1, 1QZF, 1VK6, 2XCZ, 4JJJ, 2ZBK, 4BPH, 3C5H, 1WCB, 1YFU, 4Q0K, 4INJ, 2J0V, 4LW3, 2V30, 1GPJ, 4GD5, 2FG9, 4O7G, 2VKD, 3U7B, 4OM3, 4NAO, 3KK4, 3PMQ, 4FKB, 2HRG, 1X8J, 2WM0, 4DSG, 3TPN, 3SWR, 1E22, 3SAX, 4NB5, 3TB5, 2B0U, 4LC3, 1T3N, 3SOZ, 3TR5, 1EI6, 3NC0, 1A4I, 3SJF, 3ADR, 1V8J, 1U3C, 3SPX, 3FXB, 3R4V, 3DOU, 1O98, 2JI6, 1OKS, 3TVA, 4LXR, 4CZ9, 3NI6, 3MQ4, 2O66, 3WIH, 3LW1, 2X7P, 3B8L, 3W8J, 3G0M, 2QZC, 4G8C, 1R9T, 3QMW, 2D1F, 3G5T, 1ZCH, 2H8A, 2XX7, 4OQ2, 3ORH, 3IVD, 4F5S, 3B4Y, 4UJI, 2CBJ, 1R4A, 4NEU, 4GYI, 4P7K, 3NFK, 1KER, 4J9Z, 1AXS, 4HJH, 4BEG, 4BJ4, 3LB0, 4NZR, 3SB1, 2VVT, 4JM6, 3HBC, 3FNA, 3EZW, 4BWC, 4LX9, 4H1B, 3FE8, 4AY2, 3IK2, 1HVY, 4UR9, 4WH2, 3ZQB, 4P72, 3ABZ, 1UAD, 1SXV, 3V3X, 3EHN, 1OZG, 4PQA, 3HMK, 3RIO, 4WPY, 3AFL, 1JWA, 3TG2, 2D1C, 4P8R, 4E35, 2QV6, 3FY4, 4R3E, 4JN1, 1T2J, 4KT0, 3CLK, 4WX4, 3CU2, 3URH, 1LDC, 4OY2, 1V2X, 2WHX, 4LV8, 1O1V, 1RJN, 4BFE, 2P0H, 2X65, 1Y0L, 4A0H, 3TSD, 3KZK, 1T1V, 1EI1, 1XPY, 4JCM, 3TQC, 3MTE, 3DON, 1FIG, 1C4O, 3LKV, 2ZXI, 2RKZ, 3BE6, 4O6R, 4B0H, 3AIB, 3NV2, 1JMU, 4K1G, 2Y44, 4MTY, 3LHN, 2XWN, 4HPY, 3LYF, 2KR5, 1DS7, 3FHJ, 1DS1, 4L4X, 1E3D, 2V9M, 3EEV, 4IUM, 2F2G, 2WER, 2A7R, 3AMM, 2CDP, 4LGY, 1H0A, 2JH3, 1HXS, 3OSE, 3ILF, 3C5N, 3FES, 4C9S, 2GSD, 4D9U, 1GUZ, 3BGV, 4EFD, 1NXY, 4HJT, 3LB3, 4H4K, 4UVM, 2DQA, 2A87, 3RZW, 4D02, 4MPG, 2GUP, 3TTC, 3ZWZ, 3D02, 2BCK, 4L3T, 4JPX, 4KA7, 3LLI, 1K5C, 3S95, 2Q7V, 4BUR, 2V3R, 2HTE, 2DR3, 2VKV, 2B67, 4S24, 13PK, 3DP9, 3N6X, 3C7H, 4AG7, 3C5I, 4HKG, 4GFX, 3GO9, 2HAW, 4NAX, 2WOE, 3JZ0, 1JU2, 3DB8, 4WCX, 4NF8, 3CLO, 2Y53, 3CCH, 4IO6, 4XRE, 3Q6D, 3R8X, 1BYF, 3QTD, 1N1I, 3A71, 1EEJ, 4HOJ, 1NI6, 2Q7B, 2OKL, 3FDJ, 1POY, 3TJQ, 4U5W, 1ACO, 3L88, 3LD2, 1JBW, 3CPO, 3FHZ, 4HWB, 1GZ7, 4TR0, 3JXE, 4B30, 2GWN, 2R17, 4GQA, 2DW4, 1T9G, 1PU5, 1MG5, 4DPY, 1H4P, 1QSM, 4IYA, 2C1D, 2VD6, 4QHB, 4Q66, 1G8K, 2YEP, 3QFX, 3I0Q, 3I6Y, 3IST, 4WD0, 4PPM, 1K3T, 2ZU8, 4A8U, 1SZS, 1A0T, 1HO4, 3G32, 3THG, 3K11, 4LC9, 1OGY, 3CZP, 2P12, 3D5Z, 3R9E, 3L1E, 2Q8M, 2O5X, 1I29, 3Q3U, 2YGM, 3RC1, 2VGL, 1RO7, 2RGH, 4Q2D, 1LK7, 3J1F, 3GYA, 1I1N, 3FVZ, 3V6O, 3CLQ, 2ID4, 2YCD, 4FX9, 1UG6, 3GZ7, 4JP7, 1YTA, 2P6P, 3O61, 4F98, 3FMX, 4AGL, 2BJN, 1PYY, 1GAX, 4JEO, 3HYI, 1E6V, 3PUR, 1HTO, 1GSQ, 2YY7, 2L4D, 5AIL, 2OS1, 2F60, 1CJF, 2B3J, 1JNN, 3LTC, 2YLN, 1G8F, 3MIL, 4XJC, 1Q90, 1CT8, 2OFC, 3KU1, 3CW3, 3V7Q, 4OXI, 4H62, 2I5V, 4FKY, 4N4J, 2V6N, 1KPH, 3OVB, 3FRS, 4HJ6, 2VNT, 3EC8, 3ELZ, 4C24, 3S8K, 2AZN, 3BD0, 1C5E, 4XXV, 2HC0, 3VGE, 3QTK, 4NPT, 2WBS, 3FPQ, 4A5G, 1UKY, 3HI2, 1V96, 3TYF, 2BN2, 1P5J, 4DN9, 4C75, 3M49, 1CZS, 3O8J, 2OGI, 3KLQ, 4M5B, 3LHO, 4BPV, 1J5P, 3R33, 4GB3, 1H5W, 2ZAA, 1IA9, 1ACA, 4BOF, 2DQ7, 3ZHA, 2HV2, 1EXZ, 1KPI, 2HRB, 4K6N, 3W81, 4EAF, 3ETN, 2VEK, 2WNS, 4J0D, 1CDO, 3PWK, 1SB7, 2Q1W, 4G24, 1PVJ, 1BSV, 1CWQ, 3GMA, 2PBC, 2P41, 4TKR, 2ROK, 3BSF, 3R6U, 2J46, 2J5Z, 3ZBV, 1BWN, 4CQI, 3CED, 2VI0, 2QF2, 2ZWA, 3KS6, 2ADF, 1GNW, 3BKK, 3QT9, 4CUB, 4FL0, 3F2L, 4B4S, 1GC6, 2CG9, 2BUF, 4OTP, 4QFJ, 4LGX, 1XQP, 3Q3Q, 2P0N, 3PVL, 1SE3, 3EIN, 3VUH, 3HPT, 4NW2, 2VDJ, 3Q0I, 1AJ0, 3T90, 4AZE, 3M93, 4GU3, 1W5F, 4EHT, 1KJ2, 4RZB, 4XPL, 1IB1, 2JJ1, 3KCQ, 1OJI, 3GED, 3HTX, 4HLU, 3LV8, 1SBF, 3FZ9, 2R4H, 1WK4, 4NZG, 3VTX, 2JIG, 4H08, 4LOB, 4WFF, 3FRO, 1VR8, 2BRY, 4M7S, 2ZIF, 2Z6V, 3UWI, 1BK9, 4KR5, 3RCP, 1XMX, 4PXU, 4CSR, 3ML1, 3C11, 3WUR, 4ASL, 4R8K, 4ANE, 1U3I, 4ICH, 3I1I, 3NDC, 1GU7, 1NY0, 3VBD, 1ZED, 3H8T, 2F9A, 2NYA, 3KMP, 2E1Z, 3WUE, 1RE5, 1WMY, 4BQE, 4U2L, 4PY5, 1US5, 4RGW, 3LST, 2WAA, 3QGO, 4C0W, 4LLE, 2NWG, 3E38, 4FEE, 3V2L, 3VDI, 4BXS, 1FHF, 3MR0, 3RHN, 3UFX, 1ZY4, 2G3B, 4AL8, 4JRU, 2FB0, 3U02, 3NZ2, 1XQA, 3FRM, 4FKZ, 2J3V, 2RJ5, 2R9X, 1VPV, 1KMY, 3QXY, 3PP2, 3ES6, 4UM2, 3WB2, 4EFZ, 3GXW, 3KB6, 3DM8, 4GVQ, 2NY1, 2JLM, 4I4R, 1S0Y, 1ABR, 3UI5, 3FO7, 4DEC, 3KJ0, 1BW9, 2J6X, 4XXR, 3PC3, 1E5Q, 4AAO, 3PDI, 1F6M, 2GOO, 4AC7, 2OG7, 1XPJ, 4BEU, 4V31, 3QVB, 3I99, 4K3F, 2RDW, 3N9I, 3A22, 4B4E, 3OKV, 2Z6I, 2WQR, 3C3M, 2HFU, 4JON, 3GD3, 1P4R, 3JUU, 4A3U, 4L8A, 3HM8, 4DYY, 3IF6, 3DBI, 1YVB, 4NUH, 1F1V, 2PI2, 1ESW, 3ZVS, 2W1W, 4R7Y, 3QXG, 3UZ5, 3RH7, 4LN5, 2PI4, 2BMR, 1A7K, 4DN2, 3HN3, 4JXR, 1BG9, 4FK1, 4DA6, 3ALA, 4BJ0, 2EBF, 4U0P, 4DCD, 1FH0, 3BLN, 3L31, 3FIU, 2JKU, 3C6C, 2XBP, 3CON, 3KVH, 1KEQ, 2C74, 2VF8, 2XEU, 3KK6, 3QVO, 7TAA, 1AQM, 3I6B, 4OGE, 4BQH, 4JX0, 3ST9, 3N6R, 3V1B, 3LDG, 3WVR, 3NUF, 4P9A, 1ZBD, 3ZNN, 3CZ1, 1USC, 2ZF4, 1H1B, 3H9M, 3MFD, 3C32, 1QPA, 2ZI5, 1WRM, 2WX9, 3KX2, 3E39, 4IMP, 1KP8, 2WXI, 2WAW, 1DV2, 1X14, 3O5V, 4MP6, 2VSO, 3Q46, 2QU8, 4E3X, 1H1L, 2GLL, 3IRM, 4MAA, 1M1B, 3R0V, 3NJV, 3WWM, 2JGQ, 2GF6, 2CCV, 2Z55, 2GGC, 2R8R, 1T60, 4PSN, 2WXD, 2C3Q, 2HO2, 2WB9, 3GRZ, 1EXM, 3RUO, 3B9Z, 4C3K, 1GYL, 1Y66, 3EYC, 3VW7, 4O5F, 1QAF, 1DJ3, 3ONF, 2ZT5, 3TFI, 3Q4U, 1J1N, 3PPB, 2ZBA, 3RFA, 1ZSW, 1V5I, 4A90, 4GL3, 4BRK, 1OIJ, 3MK6, 3FE2, 2R4V, 3CLV, 3A04, 1Q3X, 3LZW, 3MB8, 1B0U, 3N9X, 2E5V, 2BGS, 2JLL, 3VIB, 1LGC, 3PM9, 1GZF, 3CFC, 4IDT, 2QO5, 3T0V, 2IPX, 2PTF, 4B14, 3CPH, 3I3S, 4POO, 1U1H, 3WE9, 1LF7, 2AVW, 4LY1, 2PVA, 3C3G, 1E5K, 3DWT, 3EBR, 3IDX, 2X18, 2IWE, 3U9S, 2CMW, 1JYY, 3O2U, 1NEK, 3BB5, 2FVA, 2GZM, 3QX3, 2QVR, 2ZJC, 2QYK, 3S7X, 4OIT, 4JH8, 1NSA, 4FL8, 1Q19, 3OEN, 3NRT, 1CR5, 3NF0, 3A37, 1EBB, 1S7F, 4MJ0, 4LRL, 1UAR, 3L0D, 1D4M, 3UVI, 1SB8, 1I8T, 3M8C, 3M4I, 3VCL, 4JRN, 1DQO, 4R9K, 3RIR, 4FXS, 3GZA, 2IOR, 4RPN, 4PYH, 2DPM, 2GSR, 1YZW, 4QEZ, 2JH1, 4DX2, 2A6C, 3KYD, 4D7L, 1PD2, 4KB5, 4QJE, 1RPJ, 3IWD, 3N5B, 2PLH, 1T5E, 1Z1S, 1B76, 4L2L, 3I4U, 2ESS, 4BE6, 1FCV, 3R6N, 1KQB, 2PLW, 1GER, 1MV5, 4UAK, 3B34, 1Q9W, 3PBP, 4JXE, 3AVT, 3M1M, 3BVF, 3U7W, 2BQ4, 1MC3, 3D64, 2R00, 3GNQ, 3O2Y, 3PAY, 1J2R, 2PZI, 4E97, 3GU1, 1L2T, 3QBD, 2WGE, 3TR0, 4PV4, 4J9W, 4HTG, 1XM8, 2JAF, 4OQY, 3MGX, 1KSF, 1YQ3, 1Q72, 4LUM, 2ZBT, 3RDE, 3MUE, 3QO7, 1R6L, 1RPI, 2AVD, 1ZDR, 4CGM, 3N3T, 2QA2, 3QXE, 3NL6, 3A4Y, 4D8Q, 3FEG, 4PCA, 1J6W, 3S1S, 4DQC, 4IRX, 2GZS, 1SKQ, 4WSO, 1E3Z, 4DES, 3RRM, 3I5W, 3UKK, 3R90, 2VJK, 2A3L, 1NNE, 3MPB, 4ECK, 4R31, 3C8F, 3I10, 3R45, 4QVL, 4HXC, 1UWN, 4E6N, 3ZPX, 2GOU, 2XHM, 4BHW, 2VQ1, 2YVI, 4DY4, 1KHE, 2CVJ, 4R86, 2OV2, 4BKW, 4HT2, 3THQ, 4B8L, 1OOE, 4MMZ, 3A51, 2XB0, 3AY6, 3HJN, 4NKB, 2BCH, 4FMU, 2JEN, 3NKS, 4PZK, 2WEE, 3WST, 3S82, 2YMX, 4FOF, 1GNR, 4P3C, 4CKC, 2NQL, 3CBW, 2FHE, 3H3H, 3K3K, 1RZU, 3VPE, 4NQA, 3KTD, 3JX8, 3CKV, 3ZIU, 3MB6, 2ZPA, 2CKJ, 3WHP, 3B7E, 3QBC, 4OMA, 4L1J, 3HJZ, 3QTY, 3UEN, 2E9L, 2OUA, 2Y4E, 4DCS, 2ZY4, 1UUQ, 4JAP, 4QTP, 2X7I, 3SXX, 2Y1D, 4R4O, 1WP4, 4MK3, 1KGJ, 3ZH4, 4XD1, 2PNN, 3HDJ, 3RTI, 1V9M, 1YPQ, 3FGQ, 2B6F, 2C16, 3PPU, 4JJT, 1DFL, 4AMT, 3O3Z, 1UKM, 1H9G, 2XBI, 3TP4, 3B6U, 1NYM, 4OG1, 1IJD, 4TLO, 2G36, 1DE5, 1ZAO, 1KAO, 2H17, 3CSB, 2P0U, 2HXV, 4NCO, 2B99, 4MDP, 4C1W, 3ZU4, 1SS9, 4QDN, 3GG7, 1FW8, 3R9P, 4KQT, 1X6M, 2YAN, 2WD6, 3AYF, 2CBZ, 4L5M, 3OCC, 3GKW, 1NKT, 4N2Z, 2NMX, 3HF8, 2QSD, 2BWA, 4UTW, 3NZ1, 3MMJ, 1S4E, 3HPW, 1QGN, 4AOJ, 3MKV, 4GKV, 4GHT, 1T57, 3K5H, 3FKY, 2Z1M, 3FPZ, 1B3O, 3DIN, 4NSS, 4NZJ, 3CV6, 2DD4, 2OXE, 3OKW, 2R2J, 4PIB, 4DOL, 3TTN, 1V6S, 1S5K, 1NIQ, 2JBH, 2YDA, 2HKH, 4Q4F, 3E2T, 4XK1, 4GN3, 3HN4, 2DWU, 3GQJ, 3QOY, 2V84, 4ABK, 3A3U, 2WKP, 3H6D, 4EMV, 4FK8, 3SWT, 1OC4, 3OT5, 1AFA, 4NTC, 3EEH, 2CJA, 4X7V, 3BSD, 1E87, 3MMY, 4JC6, 2EGV, 4PL7, 2HKR, 1IA7, 3B2I, 2J4X, 3QTA, 2YOP, 1UW8, 3RJD, 1AQF, 1VC8, 1IVN, 3MJF, 2YQC, 1GOY, 1R6N, 2Q28, 1F7T, 4V1T, 3CO4, 3E0U, 2Q7M, 3N84, 1LVL, 2B4U, 3B1N, 3CE9, 4H0Q, 3ZVM, 3FE4, 1H1A, 4GRI, 3KFL, 2ZEJ, 3N9S, 3M46, 4KC5, 2DDB, 3LLX, 4BQD, 3UGS, 2Z78, 2G37, 3OAU, 3I2W, 4OVG, 4F9T, 3VDN, 4GJW, 4WKY, 3K3G, 3KX6, 4APB, 3U1T, 2Y6Q, 2VQP, 4ICN, 1N26, 3OUT, 2GMK, 1Q6D, 2VK6, 4U5X, 4LB0, 4P26, 3Q3Y, 3P9Z, 3C61, 4C2Y, 4DOU, 2ICS, 3LWX, 3ON6, 3REF, 4EK4, 3E00, 3VPC, 3UOU, 3QHX, 1HQS, 2PIJ, 2FGQ, 3IHG, 4I3K, 2WW2, 1XLU, 4GL6, 3VSD, 2UZP, 2YC6, 3A2W, 1Z2I, 1LKX, 2VUG, 3WCC, 3EHD, 4FYU, 4OQJ, 2Y78, 1KYA, 4EZI, 3LSA, 1MXI, 3VGI, 4MH3, 3BQF, 3SIG, 3G5W, 2B60, 4IR8, 3JU2, 1HSJ, 4RNX, 3PGY, 4KNN, 1DMT, 3KXI, 1WLW, 1DAP, 3MD3, 3DN7, 3TKA, 4NSN, 3BR8, 4FHL, 1FA2, 1RWA, 2Z5W, 4IGT, 1ORD, 2NZ2, 4LEI, 3BK9, 3PFF, 2GH1, 4PZ2, 3B8Y, 2R53, 1O57, 3A2B, 1IS2, 1X8D, 2GUZ, 4RNU, 4CU7, 3KKD, 1XFC, 1S7G, 2IX7, 4K9D, 2FGB, 2A2A, 1CGU, 2PH5, 3ZKP, 1GA1, 4GP2, 4DS3, 1BIF, 4B0N, 4KOA, 2LXY, 3BK7, 4N7B, 3WJ1, 3K2D, 4JPF, 3L21, 3N3A, 4OHB, 3R5T, 3OMY, 2F9R, 1RU3, 2GDV, 3PU9, 3CB7, 2BV5, 4LV7, 4QHX, 2XFV, 1EK0, 3GFT, 4HDK, 3E0X, 2LIW, 2YGT, 3HDM, 3C3Y, 2CDN, 4IJT, 4LLC, 3AQ0, 4X0F, 1XF6, 4GO7, 1UDH, 4J7C, 1U19, 1T9M, 4CAF, 3RTX, 1L1E, 4C09, 4NGU, 2CJP, 4TKJ, 3KAN, 4GXG, 3GWJ, 3K56, 4FUC, 3L43, 4PQ0, 2UUU, 3SRZ, 3GYD, 3GBA, 3MYR, 3MXO, 1MJT, 4JQJ, 2WUF, 1RQ5, 1RD5, 4DI5, 4HK7, 4IT1, 3CC1, 3VRD, 4O30, 2VHD, 3LH4, 3SY8, 2I9L, 1S95, 2M3Z, 1OUW, 4Y7U, 3UFE, 4A05, 1WST, 4G93, 3PDO, 1JEH, 4OX2, 3TX2, 2FT9, 1YIQ, 4BPM, 2RDC, 3O4Y, 4P5E, 4R0K, 3TJ5, 2IGB, 1S9U, 1PFZ, 3NDX, 1JMO, 2GM3, 2E7U, 4PBG, 3SN5, 4B45, 2QNT, 1YP3, 2YRI, 2NR4, 4JC0, 1WQ5, 2ZZJ, 2NXV, 2YQ5, 3OY7, 4MX1, 3QEU, 3RPE, 4YDY, 2CHD, 3HWW, 4QP5, 1Q78, 4PWZ, 4IO0, 4NJS, 3KWU, 2ZVS, 4G81, 1OL0, 1RIO, 2V43, 4O96, 4RU0, 4LWS, 3LZ7, 3ECC, 2O5R, 3IDO, 3CT9, 3A9B, 1L5J, 4OUM, 3LXH, 1COZ, 3GX0, 2WV6, 2J9O, 3QNS, 2OOC, 2C1Z, 2VMG, 3FPL, 2BBD, 4M60, 2RCY, 3VEV, 3LOO, 3VR1, 4D1J, 4Q7Z, 2H11, 2W59, 1S6H, 3IWT, 3V8D, 1ISV, 3E6Q, 4K29, 1LSH, 4AEC, 1I2K, 2X26, 3C8O, 2OIL, 2QYU, 4WV4, 3BV8, 2FON, 3CKL, 4LXX, 4HA3, 3BD1, 4EE8, 4J5G, 4FS9, 3SX2, 2O01, 1ICI, 4QKF, 1DTY, 1CO0, 1HKV, 1A26, 4HPJ, 3M97, 4JMF, 1WYU, 1GML, 1EIO, 3WBW, 4EIY, 3MQ1, 2W90, 2YGQ, 3JVL, 2BB3, 4I1I, 3RDK, 1OP0, 3KB8, 2D5A, 3QY0, 3GRN, 3BWD, 3U2G, 4W6J, 3TC6, 1LZJ, 3E9Y, 1P7K, 2FSG, 1JUV, 2HGO, 4LPV, 2FT3, 2ZVP, 3ALP, 1SMH, 3LNP, 4DC5, 2IYV, 3T7Z, 2AEX, 2DLD, 1EYR, 4LBP, 2OGB, 3K2Z, 1P99, 3UIW, 2YLG, 4G6H, 4KJL, 2W5R, 3U1U, 4QWW, 1QSG, 4REW, 3CA8, 3OOB, 3VGN, 2R1K, 3A4X, 2Y6U, 4PLF, 2E0N, 2AKZ, 3ZL5, 2OSX, 3JZE, 4BHB, 4IS5, 4MJZ, 3NEU, 4HYF, 2C9O, 1P2Z, 1X0X, 3UMU, 2NNR, 3FRH, 4UBT, 2HYK, 3W5J, 2IBN, 3RSY, 4FMH, 3SNV, 3N58, 3P27, 2XS5, 4M3L, 1JF0, 1IYZ, 3WAR, 3FED, 4HST, 3TCM, 3COB, 2PAN, 3GW6, 4AJ0, 2J9A, 1D4A, 4LCV, 2AG5, 3MTC, 2BUN, 4CE5, 3WD0, 2VZM, 4RTF, 3PMS, 2V3A, 4O90, 2QL5, 1W7O, 3QFK, 3E59, 4ABJ, 4JIX, 4NCF, 3FSS, 4NDA, 1SID, 3RQT, 2P5W, 4C83, 3HNW, 3FHL, 3OET, 4K0N, 4ML9, 1JI0, 3FH0, 3T0Q, 3SU0, 2YCP, 3NR3, 1RGV, 3JVD, 4JZ0, 3G0K, 3MDP, 1U84, 1BZL, 1GUP, 3QVQ, 2DFV, 4YGU, 1SRQ, 2OCB, 4USI, 3OK9, 3OJA, 2I1M, 1NX9, 3WIW, 4NET, 3U2S, 2YCF, 3S99, 2R0O, 4A4A, 4H2H, 1XIU, 2XJ5, 3IPO, 2BLA, 3EF3, 2O3J, 2F1G, 4DZ6, 1T7L, 3I3L, 3GHG, 3ZPG, 3ZGQ, 2WCU, 3FS7, 1DKP, 4AZC, 1X1A, 3WZO, 1B54, 2A1Y, 3LVS, 2HYD, 3BTS, 1EAP, 1NE7, 2HEI, 3ON7, 3PUN, 4JLV, 3M0V, 1O4S, 4HDO, 3GGE, 1RRI, 1RZ7, 4IV9, 2JFK, 2FBD, 4G3A, 4AVO, 2XYI, 2I1K, 2W5Z, 1I1D, 2Y5T, 3MTL, 4EVS, 3C85, 4QLX, 2VBW, 2VK2, 2CZ8, 4X8G, 1O1X, 2VHE, 4MZY, 2QQD, 2VM5, 1I1Q, 1T1F, 3GCZ, 4I9E, 1RCQ, 4FP1, 4F7U, 3VF7, 1WPU, 4EHX, 3BFX, 3OA5, 3LOY, 1X0P, 2IT9, 2WTM, 4RSU, 4I58, 4TLX, 1V8F, 3QZY, 2ZDX, 3B1F, 1YZ4, 2E1M, 4LOA, 1XIM, 5GCN, 3PL5, 3VWK, 3DKC, 2W27, 2QNV, 2V8E, 3HML, 2YJ4, 3HCW, 3HF7, 2NP9, 2D2E, 2QBT, 2XD3, 2VJ6, 1KFA, 4QN4, 2CER, 1YC9, 3RY9, 4DBE, 3KWS, 3EB0, 3ANZ, 1TQD, 4GAC, 2Y2F, 3LQM, 1SHZ, 3SP1, 3FF6, 4CW7, 4PGH, 4O3W, 3QRY, 2Q88, 4WNB, 3B4W, 2AAM, 1ZEM, 3S4T, 4NBT, 4ODJ, 4CYD, 1ZRZ, 3R48, 1C7G, 3MKH, 1VPA, 4NV7, 1G12, 4OAW, 3HH3, 2F98, 3H6C, 1NKI, 4AF3, 3L8P, 4DX3, 3OYZ, 1QNO, 1FUE, 1ZCZ, 4EHM, 4INW, 4NMU, 1FQT, 3H1Y, 3GWD, 2QSI, 2JE8, 4KC1, 3WQM, 2YWW, 4FDI, 3GZ3, 4A0D, 2GOY, 2XUZ, 4MC9, 1K0G, 2IRY, 4JLL, 2NPN, 4RYB, 2QQI, 4A7G, 3LS3, 3HAX, 4BRQ, 4OET, 3ZQ9, 1R6T, 1ZR3, 2PYQ, 3SBX, 4DVQ, 4KR7, 4PV6, 4GBM, 4MM1, 2XX0, 4LRY, 3WHB, 1K0E, 1O61, 3RWG, 4GNS, 4FF7, 4B8M, 4HME, 4LHR, 1NFS, 4FA5, 2E7I, 3CB2, 1TKU, 4EEX, 2W6V, 1RHY, 4B3C, 4PEX, 4IPW, 3A4A, 2B6O, 2A6P, 4A0X, 3U99, 4MQS, 2WAB, 4J0M, 2WAL, 4R7U, 3RSB, 4AY8, 1CEL, 2ACV, 2CEO, 3KHS, 3SRK, 1BAI, 3Q7J, 3TYI, 2WP3, 3U31, 3GRX, 1I1H, 2Y5G, 4HV4, 3R6F, 3VSF, 1MFI, 2EEO, 3LRG, 3HTD, 3FVS, 1ZBU, 1HGX, 4WBA, 3QXZ, 1W53, 4EYS, 3OZU, 4TMK, 2RCN, 4M6T, 2X22, 1RT3, 3SAO, 4BMX, 3KI2, 4FJ6, 4FR3, 1H16, 2HD0, 2K31, 4O6V, 4K2X, 1IW1, 3BCN, 2YCK, 4DAS, 1H4H, 3NJK, 2FKN, 4NYQ, 3B18, 2QEY, 3TD9, 1VLG, 2V00, 1A2S, 3PPL, 2CU9, 3D39, 3PEC, 4BG4, 3JWH, 3ZMR, 1VQ2, 1W4R, 4PGN, 1OHA, 3F14, 2W7Q, 3K0B, 4LRQ, 4UO0, 4IMA, 3A46, 1YI8, 2DJH, 3AP2, 4FMM, 4NT9, 4IML, 3GJU, 1CC7, 3NFD, 2PCQ, 3DMD, 4M0M, 2X0N, 3VNQ, 2RCQ, 3ICY, 1F4N, 1T8A, 4HGI, 3SJN, 3JWR, 2HX5, 4JLZ, 2F6Q, 4DGD, 2G6B, 4HX0, 3MAZ, 4QAL, 3ZS6, 4RX1, 4GCY, 3LAS, 2Y6P, 4RNH, 1OKB, 3SAE, 3KXW, 3F5R, 3FBS, 4IG6, 3NZN, 4QUE, 3HSR, 3ZXW, 3EYP, 4BQ2, 4KGH, 3QYP, 1CZ7, 2PYP, 3AQC, 4Q33, 3R6V, 3GSH, 4FNM, 2IWA, 3O0R, 4BVQ, 4R82, 3HNN, 4OZT, 1U2V, 4AOH, 1MZU, 4KW7, 3QAO, 3PLA, 3OAE, 2RIV, 4US8, 3Q15, 1K7H, 1FQO, 2WOQ, 4H5U, 3TVM, 3L9V, 4DYE, 4PG3, 1FTH, 3SVL, 3NIX, 3EGG, 3SE7, 2OWM, 2ZWI, 4DL8, 2IXB, 2F9W, 3RL3, 2NZT, 2RAF, 2WNW, 3C51, 4F8P, 1WCO, 3B2D, 2R8Q, 2B69, 1R0A, 1RJD, 1KDO, 1GQO, 2BGJ, 2NP5, 2XXA, 3SYQ, 4WW9, 4E5S, 4CC0, 3FP0, 1EFV, 3W5M, 1X77, 3BE4, 2RAU, 2UYY, 1TZ7, 1RYI, 4NRE, 4AN4, 2GSK, 3WC3, 4AF9, 1T3I, 3JXA, 3WD6, 3IUU, 3VKH, 3ORF, 3R0H, 3A9Y, 1E5E, 1O68, 2ICY, 1R58, 2I54, 3IBS, 2RTH, 3N33, 1Q5H, 3T18, 4PWU, 4G4K, 4DNH, 2F8L, 1WNU, 4AGU, 4WEQ, 1ZXV, 1V99, 3T34, 3CLJ, 1NHC, 2VQG, 3VV1, 3GVH, 4B4C, 1G72, 4RHK, 3ATG, 1KTW, 4G9U, 1GK2, 2IZZ, 1CJY, 1RQX, 1RLM, 2VCZ, 3CWB, 4U9P, 1T9S, 4KGN, 4AYG, 1RXE, 3NJR, 1MZV, 3UK2, 3QEH, 2Y6Z, 2AWA, 2XKA, 3OO4, 4HT3, 3SNX, 2IS6, 1WVC, 1FR6, 4HHF, 3NA2, 4MNK, 2VY0, 2CX8, 2GJJ, 2Z1K, 4A55, 2PYU, 1VKH, 3ODU, 4HVJ, 1D3B, 3F4B, 4YF1, 3VHV, 4A69, 2ABK, 1I4U, 3OTL, 3HJB, 2OHH, 2ZZR, 3WMU, 3PB2, 4L23, 3HQG, 2QIK, 3OT2, 1M27, 1BCS, 2IGT, 3DAS, 3QTH, 2QDL, 4ITK, 2DPK, 3TPF, 3UL4, 3SWS, 1RQI, 1NU2, 3P53, 3BWM, 2UXQ, 2Y6K, 4EQ4, 3O30, 3C8Y, 3GOC, 4GGI, 2E2I, 4GNR, 3WQ1, 3Q31, 4AI1, 2IDV, 4HS9, 4QTN, 2AHX, 2VXX, 3NQH, 2VPW, 4CSI, 4HZN, 1AH1, 3K4Q, 3LDT, 3EBL, 1XKG, 1MKY, 3FLB, 3BLH, 4KRT, 3HIW, 3LOP, 3QZT, 2I5Z, 1ZNY, 1BH6, 3FXT, 1MJ4, 2XSJ, 3EK9, 4IC1, 3E4G, 4D00, 2QZ4, 4H15, 3C5O, 1XFV, 1XDS, 2W8B, 2ZYT, 2ZW5, 1O5O, 4KRI, 3UPL, 4B4O, 3TVQ, 3WPU, 3IQV, 4KIK, 3HO6, 4QHJ, 2G4R, 2I6K, 3KOT, 2OL2, 4O1R, 3NZ3, 3VVD, 2IX9, 3F8P, 2CL0, 1E0B, 3LQN, 4B5O, 4B46, 4GXK, 3IXQ, 2R6H, 4GCV, 3FZG, 1BH9, 3UIF, 4EAT, 4AM8, 4OLT, 3CYZ, 1XDP, 3KSF, 4HE8, 1NFP, 2YP5, 3TUR, 1LF5, 1HNA, 1PU6, 4EJN, 2DT4, 3T58, 1DL2, 3F0H, 4E8H, 3IRS, 1VD6, 2QV7, 3IT3, 2QW8, 1YVK, 4K90, 2IX5, 4ITU, 2XZ8, 3TAH, 3K7C, 2PP0, 3IAR, 3QSY, 3KPX, 4L03, 4HJF, 3FJV, 2YOG, 3PNL, 4U90, 3PZU, 4TKT, 4G06, 4RN7, 4K5L, 2VRA, 4N9K, 4WSU, 4URS, 3EXM, 1TY9, 2UZZ, 4F78, 4A84, 3GEI, 4PIV, 3LUM, 3OZK, 4C3X, 4KXW, 3HVI, 4KTY, 2QE8, 4GT2, 1WWZ, 2QJ5, 3R24, 4AWD, 4B2C, 3KE0, 4DVB, 2HYU, 4H6U, 4KZP, 2IME, 4H3T, 4KRR, 1XR9, 3KFO, 3KD3, 1FZV, 4BV7, 2AK3, 3VHX, 4A0G, 3KEO, 3EYY, 4FN4, 2JPT, 4OV6, 4RGT, 2E7P, 1Y44, 3NUQ, 4ALC, 1LDN, 2XFN, 3VQI, 4BMA, 3U8E, 2A26, 3QUY, 1V37, 2W1J, 2WCI, 2REF, 4PZV, 1ADJ, 1YS4, 3NKL, 4TSQ, 2H28, 3DAQ, 1K77, 3MDY, 4L3V, 3FMT, 4JQK, 4K2D, 3M8Z, 2QJT, 3C6K, 1TD2, 1WWK, 1TI2, 3N8H, 1PZM, 3VYK, 3B8X, 4EIU, 2ZAE, 3HL2, 1I3H, 4IME, 3WH7, 1E5T, 3HTB, 1KXG, 1I82, 3BPL, 4K46, 4NT8, 1D7O, 2Y6G, 1UFY, 3SLK, 4KM0, 4Q93, 2RFX, 1TXN, 3DWR, 4CCW, 1Z6X, 3ATR, 3LW8, 4ARY, 4ERV, 1E66, 1IYK, 2OKX, 3TIJ, 3KDW, 3TTM, 2Y3P, 3ROE, 1YTZ, 2NVN, 2YZY, 4X8D, 3S8C, 4KH3, 3KSK, 1KQ6, 4OQD, 3H81, 1A8R, 2HI4, 2V77, 1H70, 1G9J, 3F6R, 4YE5, 4WWH, 4DBA, 3WAM, 3N8Y, 3Q0Z, 2YC5, 4D3I, 4AW7, 2VTD, 4KQQ, 2XB1, 4Q3A, 3GU8, 4WVB, 3AA1, 3TK1, 1XJQ, 3D2F, 3DLC, 1WRI, 2ZTD, 2BE3, 3TZX, 1QSA, 2QQO, 4BHX, 3E7J, 2EKN, 2YHW, 1FW9, 3JU7, 2A1X, 3ON4, 4AHC, 1FLA, 3DX5, 3ZGO, 1UQW, 4BND, 3FI8, 1GM4, 4JEW, 4FYD, 4A2V, 2G3N, 3AL0, 2D5I, 1ABA, 1MJ0, 3E7W, 1SOJ, 4MTM, 2QJV, 3VQR, 3UAZ, 3RR1, 3LCS, 3ME9, 3WWP, 4BT6, 4GWI, 3U3U, 3HY6, 3E86, 4JYB, 3C6S, 3JQP, 3QZO, 3TVY, 1S20, 3ECQ, 3ACL, 3WVM, 2E52, 3O5N, 1MT1, 3FPX, 2FCR, 3F7W, 2XKB, 1PJQ, 2XM4, 2FIW, 3CMC, 1YRE, 3AZ8, 2NVU, 3RIY, 3OZL, 3IV8, 1Y3I, 3QOM, 3PGF, 4K6X, 2CFC, 3OCD, 4M29, 1USI, 4DS7, 4J1Q, 4D90, 3URD, 2DKJ, 1HCY, 4E2S, 4MJW, 1OTD, 2MCM, 3DBX, 4PXD, 4GUC, 2XHD, 2GEJ, 4ATG, 4ARZ, 1VCU, 3SJX, 3KWT, 4P7W, 2YG5, 2ISS, 2WHG, 2CLQ, 2W08, 2AVN, 2REX, 1RZM, 4ML8, 4ABR, 1HL7, 2OZE, 1XLS, 3NGB, 4RE5, 1NF3, 3K5P, 3UX8, 4ATN, 3C03, 3C18, 2W4Y, 4N1I, 1UAS, 2V0U, 2Y2M, 4OW8, 3SC4, 3KDU, 4AM9, 1YAG, 4IKP, 3QN3, 2E0I, 3W1V, 4KJJ, 2Z5X, 4P3M, 2IA9, 1K20, 3CXH, 2PG4, 2QMI, 3B0H, 2X77, 1YMT, 3E5P, 3F1S, 3QBO, 3OV4, 4NV1, 4NEN, 2O5N, 3OWQ, 1LWU, 2O4C, 1N6B, 1WNG, 2J07, 3LLO, 1L7P, 4CVQ, 3T6D, 2VGQ, 1HUX, 3S2N, 4KKI, 1A56, 1Z7W, 2VWS, 2GXF, 4TPL, 3NXK, 4PO7, 4G79, 4N7S, 1TM1, 3I54, 4Y6K, 4CPD, 1DBN, 4EMN, 1W78, 3NU0, 4E51, 1KBI, 4C2L, 2Y5S, 3TQR, 4I8K, 4XT1, 2DE2, 3EB2, 2XIU, 1IVH, 2P10, 4D8K, 2OAS, 4K3E, 1ZBA, 4NF2, 4QNB, 2RH6, 3FQR, 2DCJ, 4AT7, 3WMY, 4E2W, 4F7I, 2AAW, 2DVZ, 4AKL, 1IUP, 3D2J, 3T6E, 1G6H, 4KE4, 3OXK, 3P10, 2VPN, 4EZ8, 4I8V, 4H3Z, 3ANK, 1ZG3, 3LHR, 4IO1, 3RP6, 1YGH, 1NP7, 3D3B, 3AW9, 3G3K, 1EV1, 2W8D, 4B9A, 2O3L, 4J14, 2OPX, 4YCA, 1UU4, 4NVH, 3C3P, 1EX7, 3OND, 1OXU, 4O5Q, 2AQX, 1NHP, 2C03, 3O4V, 4NEX, 3EY9, 4EI0, 2XWH, 2J3X, 3R1V, 2PYF, 3V39, 1E6C, 3PIJ, 3LQW, 2KRD, 3DLT, 1HZO, 4Q3N, 1W80, 3R13, 3SQB, 3H2Z, 1A0J, 3UJO, 1GX0, 2Y5N, 3M1U, 4PQQ, 3C8W, 3G5E, 4PTB, 4W1V, 2Q0E, 2W8P, 3FWR, 3PMN, 3VWX, 4IJP, 1HWP, 4U0X, 3EFW, 1VLH, 3SOY, 4NFD, 4FK5, 3RH3, 3MZ2, 3H2K, 3A9V, 4B98, 2BF1, 3NZB, 2QM1, 3QVI, 2QYH, 3HJ1, 2V2K, 3D4T, 1JMX, 1WWJ, 1Y7U, 1NST, 4AYC, 4IOO, 3MTX, 4MZQ, 3RJ5, 2H1H, 2W1K, 3GR3, 4J7O, 2J98, 1R13, 3MQ2, 1O6Z, 3NJU, 1CEN, 1XVS, 3RMJ, 3GET, 2ZBC, 2V9S, 4HNX, 3Q7D, 4M37, 3FD5, 1NYT, 3VCX, 1EX2, 2PMK, 1ZQ9, 4B2N, 2ZJ3, 4RV7, 1A9P, 1H7R, 3LSZ, 3BKB, 4PTY, 2AE6, 4HGP, 1RLU, 3ODG, 3SW0, 2DC1, 1GKL, 2ZVQ, 4EEC, 2XED, 2P2R, 4PXA, 4R9X, 2OKJ, 1S2G, 1Z0K, 3FA6, 2FIT, 3WMM, 3EJV, 1QO8, 2YCH, 3QO1, 3VBF, 4R2B, 2OZ6, 4ONT, 4PJT, 2Q66, 2VF7, 3AKC, 4C12, 4IV8, 2PLX, 3UV5, 1GPD, 4MVD, 2Y6W, 2RDX, 2KTD, 3WKQ, 1FSA, 1KDG, 1QDD, 3NB0, 1SC6, 3EC6, 1MPG, 3R5H, 3TGP, 2HCM, 4DBQ, 3PND, 1BX0, 1S70, 3FGC, 2WDC, 4QRH, 2IYA, 4EET, 3FLU, 2XSR, 4FP9, 4B10, 1JDC, 1PIH, 2O9G, 4GWM, 2VFL, 3TIQ, 4H2W, 3G2P, 4BIV, 3BK0, 4GYW, 2Z26, 2EAB, 4AB9, 4ELK, 3G23, 2WUT, 3LUY, 3ZQE, 4B5E, 3EMC, 1GEG, 1UXX, 2WE3, 4G1B, 2APF, 4KLZ, 2PFR, 4FO4, 3RIQ, 4FD4, 1XOD, 4XVL, 3R9C, 3DSB, 3PG0, 3ZZR, 4IMK, 4MFR, 4XLW, 2C43, 3U37, 3D4R, 3HF5, 3D01, 1W23, 3NEE, 2JLP, 2WCO, 4C2U, 1P7L, 2YYU, 4AC8, 4ABD, 3ZVI, 4KK7, 3N5N, 4OFL, 3NIZ, 3BD9, 4WFQ, 2DU2, 4NMH, 2ANL, 1GZW, 3DDD, 2DPH, 4QB6, 2FTR, 3NHB, 3UZL, 1IJU, 3SS7, 3UO9, 3FST, 4FTE, 1O75, 4A4Y, 2Y24, 3LEZ, 4JNY, 4CFE, 2ZYO, 3Q8F, 2XN9, 3BYB, 4DFX, 1UYR, 3S6E, 3KPC, 3QK5, 2PU1, 3DHP, 3Q34, 3X1B, 3V48, 2XXL, 4F62, 2B3T, 2JXN, 2AUW, 2RFL, 1WUR, 4BLO, 4C16, 1Y63, 1D9U, 1GWM, 1IUA, 3P06, 4S02, 2Q2H, 3HN0, 3TAV, 3G7X, 1YNH, 3K40, 3VZY, 2ZXQ, 1M8P, 2F9N, 4FFJ, 4BGV, 2HBT, 1PW5, 3T64, 1DDG, 2JBA, 3RX6, 3NBX, 4ARN, 3BHL, 3PJ0, 1W85, 4G8T, 2BNE, 4FNL, 2YDX, 2IHV, 4PKF, 3H1Q, 4H8W, 4GPS, 3OM2, 3A9C, 3E77, 3UYT, 4US5, 4LD1, 3OIM, 3O4A, 3PS9, 3M2P, 4AM7, 2PP8, 4CF3, 3WSF, 1AK0, 2P5S, 2PPY, 4GEY, 3WQC, 2QM2, 4CHZ, 4NJH, 2JFQ, 4IAB, 2XGW, 2IL4, 4URM, 2PBZ, 4A5T, 3C4Q, 2PK0, 4DFF, 3I39, 3MDG, 3L5K, 1L1Y, 4HMW, 2ZHG, 1KOL, 4LT5, 2WJG, 1TJ7, 2ESB, 3RDP, 3T13, 3F6H, 3AK4, 2BOW, 4AAY, 1DC1, 3MFF, 3QV2, 3NBD, 2XLO, 2V62, 4UUJ, 2DU3, 2ZAD, 2R9G, 1PFF, 2XAT, 1IJI, 2CTZ, 4UOR, 1FLG, 4FDV, 4USQ, 3V00, 1KNW, 3VOV, 3BLI, 3QL0, 3I6I, 4A6F, 4EK5, 2CZV, 3WWL, 4F1W, 3I5F, 4PZH, 3ELJ, 1F76, 3K8H, 2Q3D, 4RWE, 2CFI, 4TPY, 2M0Z, 4WJC, 2BH2, 4UKR, 3A58, 4NAZ, 4V02, 3DT4, 4WEO, 1QA7, 1LVG, 4MCP, 3IQ2, 3KCZ, 3WDN, 3OJI, 2Q0H, 3TX1, 4AU7, 4G38, 2YJ8, 3GCM, 2JKB, 3KRM, 4LA1, 3U04, 2PKE, 4LKB, 2FSJ, 2WR8, 3A1N, 2XEM, 4GQT, 3K6V, 4F2K, 3OT6, 3GC8, 3I12, 4CWB, 3LPL, 3TME, 4AF0, 2IS5, 4KXF, 4P0G, 4IG8, 3NWA, 2BL8, 3LAO, 2WLK, 2GCO, 4HFV, 1A99, 3VSN, 1HUR, 1V5E, 4MAU, 1F8I, 2JAS, 1GHE, 2ZZN, 2EX4, 2RGK, 1BRW, 4MZA, 4WER, 4OR2, 2GCG, 1PEU, 2BFP, 1WOM, 3R0F, 4E25, 2QF7, 2RB7, 1W2C, 3WG3, 2VLZ, 3HSH, 2HNU, 2X24, 1CR1, 3LL3, 2C1V, 2OLW, 4AUT, 4KD4, 3WEM, 3FAX, 3FAY, 1SFK, 4HS1, 2GQS, 3E0N, 3QAW, 4EUO, 1OZV, 3USE, 1V9L, 2XSH, 3O1G, 3N42, 2R7K, 3FV3, 4BH5, 4IOB, 3IJC, 4L8K, 4KP5, 2OGT, 1AKA, 1GWS, 4XEQ, 4K7C, 1JND, 3S6F, 3DDJ, 3R1M, 1PVL, 3KTB, 1S8F, 4PC4, 4NR0, 1GR0, 3COG, 3S9T, 4KKD, 2PNJ, 2XUF, 2YAJ, 3VDD, 4FUA, 1SJ2, 4IB4, 2JKE, 2E27, 4JBD, 1SEZ, 1KMO, 4LES, 1QR0, 2W83, 4IX4, 1TDH, 2AIP, 1NY5, 3QT2, 4CYG, 1IM0, 2WUQ, 4A1Y, 2Q4W, 1X7P, 1PM5, 2KT4, 2PTQ, 2Y2X, 3W5G, 3K2G, 3IF1, 1Q6I, 4A9O, 4GLV, 3CMQ, 3MVG, 2Y2B, 1PK2, 4P7N, 3VN4, 4MM2, 1JA1, 1UA2, 4WUT, 4NZM, 2H0E, 3MQO, 2X3O, 1DKT, 4C29, 3L14, 4ALB, 1BYU, 1PSA, 4M2K, 3LNC, 4L0M, 3VK9, 3B5I, 2DYK, 1ZJ6, 3GEA, 1AT3, 1T8E, 4Q2T, 1SOW, 2VPE, 1RX0, 1NZA, 3M2U, 3ZWA, 3T5O, 4G9E, 3NV0, 1ZWX, 4K6L, 4WSS, 2WWW, 4UDQ, 1BBU, 4MHV, 3QG5, 3PA2, 3S6M, 3C5C, 3TWC, 1ETA, 4D9B, 4QLE, 4NOV, 3FWN, 4MFP, 1U6R, 1FAY, 4K7B, 2JBS, 2FH5, 3PEF, 3OZM, 2VVM, 1UWG, 2CKP, 3F63, 1WDL, 1HFA, 4GO4, 4Q57, 2WE2, 2Q1U, 3VL9, 2G0W, 3MYQ, 4WT7, 3KFG, 4NEG, 3T7B, 3PEI, 4LGN, 4GAG, 1DVP, 3W7W, 2RKN, 3MWB, 3CXM, 4IV0, 4W4S, 2ZOF, 3HKW, 1EV4, 1QNF, 3SBC, 1VJI, 4NQN, 2G3F, 3DMF, 3HC1, 4N78, 3LT4, 2P4Y, 1DVJ, 3TDH, 3GN6, 3NQP, 1WDA, 1KEA, 3QHT, 3DC8, 3J2T, 3GE6, 3MJD, 4KOP, 3LB4, 3LFT, 3DXJ, 3E7G, 4NQ1, 3I16, 1JOV, 1FFU, 4Q2B, 2OGG, 3DFZ, 1C6S, 1ZDL, 4WCV, 3WD7, 4PL9, 4R1J, 1PJA, 2G82, 1H81, 1X54, 3T95, 4Q7U, 1KIJ, 4IDI, 1KRU, 3MDO, 4ABI, 3GYR, 2YAT, 3CK1, 2VWX, 3OX4, 2PEE, 1G5C, 4C3I, 1RVX, 3FD8, 3TT0, 4JB7, 1G8X, 2QHK, 1SL6, 2DRU, 3DK1, 4EGU, 3E0I, 3GAG, 4H1Y, 1V5V, 2A8E, 3HDL, 3G9R, 2QOR, 3U4Y, 4Q24, 4NEO, 3KOG, 2YL8, 4R2W, 4DVL, 2Y4O, 2IVN, 3J25, 1CWV, 3F2B, 4OHF, 1TV7, 1T3D, 4RYL, 1U4G, 4MWI, 1Z68, 4PJW, 3TFC, 3L2G, 3EUA, 4Q34, 4OOJ, 1NQ2, 4H4N, 3ARX, 3OO0, 2Q6V, 3EZX, 2IW3, 4J1P, 2Q81, 3IFZ, 1ORR, 3WL5, 3NRD, 4NR7, 3QRB, 4QOX, 2ATM, 1UB0, 2M6S, 2P0E, 4HH4, 2CJB, 4DI0, 4J9A, 1G5Q, 4XBM, 1ZLP, 3TB2, 2AF3, 3ING, 1NNF, 3NO2, 1W27, 3VE7, 3S8R, 3MWH, 3TAY, 2GF0, 2F1T, 1P60, 2BN7, 3ZYV, 3EAF, 1T7V, 3E9F, 3PER, 3RLK, 4M1V, 1XS5, 2GEP, 3UC1, 3VZ3, 1OY8, 2H6Y, 3FG3, 4I3B, 2WP4, 3K31, 4OGJ, 2YXO, 1VJO, 2AHM, 3HI0, 3LVA, 3HLX, 4L9U, 1Q1W, 3WOG, 1KFL, 4MAK, 4NJL, 2XU3, 2P2W, 3VP9, 4J3F, 4FXP, 4URT, 1KAQ, 2PIA, 2FNA, 3H6G, 2PLA, 4P2V, 3ZIW, 2BLF, 3Q1K, 3P9I, 3KRF, 2F71, 2IMG, 2UVA, 2G7C, 4TYJ, 4LIS, 4C7P, 1LF9, 1DGF, 1AR1, 3FS2, 4E69, 1R2J, 2Z5P, 3BG5, 4L3A, 3Q9M, 1AJS, 2VTF, 3LIO, 2VHX, 1ORN, 3JYO, 3Q08, 1JXI, 1V2A, 3HOI, 2C5A, 4LL7, 2ZSG, 1LPC, 3QQ0, 4X00, 1VG0, 3TQ8, 4CKL, 3MF2, 4DC2, 4MRF, 3MAO, 1NWW, 1GJW, 3FZY, 4A4F, 1QPG, 2OX1, 2YU1, 3ONQ, 1V9P, 1TU7, 1OQV, 1XL7, 1HH8, 2AGC, 1XDF, 1WLU, 4D8P, 4KGK, 3GFR, 4GR5, 2VXK, 3N29, 2BJ7, 3G5Q, 1U8X, 1ZX4, 4P8M, 4A91, 3HNA, 3T1F, 4I03, 1HVH, 4K0B, 4Q04, 2BP3, 3GAY, 4AIP, 4E8I, 1QAN, 4A29, 1WY2, 4HA9, 1G4I, 3UCJ, 3UCE, 3AH5, 2Q5L, 2DKC, 4PN2, 4M6X, 1GWC, 1P0Z, 2VBK, 1C47, 2EQ6, 2ODA, 4WEC, 2NS1, 3BXO, 3G66, 4GK9, 2HPH, 1ZQ5, 2ECU, 3SYA, 4EDH, 3VH9, 1G82, 1Q9B, 3PO2, 3OS7, 4MNP, 3T9Y, 1E1Z, 3OCJ, 3JQ3, 3EL3, 3QP5, 3O26, 1U11, 3KDR, 1EJJ, 2IYQ, 1S5D, 7ODC, 3F64, 3ASP, 4C9B, 3LHH, 4G2R, 3RGU, 2QSQ, 3H8G, 1VYB, 3V85, 2J0R, 1WXI, 2ZWS, 1VKI, 3V3L, 1GM6, 1LU0, 2WAX, 3ZDA, 3EC1, 3FPK, 4HG9, 1CS6, 1M3U, 4D6G, 1Z08, 4DRV, 1U5R, 3KIP, 1EH5, 1EZ4, 2H6B, 4L8E, 3GAE, 1E42, 4WUV, 3AB4, 1E5D, 3QG7, 4B7J, 1OJL, 3K57, 3ZGZ, 2OU6, 4R7R, 1HWY, 2EX2, 2K0G, 3VO2, 2GK2, 3LIN, 3GG9, 3EI9, 2BR4, 3GE5, 4AI6, 1ZJA, 3PFU, 3RCQ, 3R5G, 4J5K, 2YGU, 3W53, 1H7H, 2V6V, 2ZE9, 1HI0, 4PHC, 2CVE, 2D38, 3N83, 1YNL, 4CCV, 3MES, 4U9O, 4NRR, 1UDX, 4L07, 3AGV, 4IUS, 4N8D, 2WQL, 3F7B, 4L9G, 3L51, 3K9X, 3VBM, 3U42, 2C1L, 4ODR, 4DMO, 2C41, 3IP1, 4U45, 3WMC, 2P14, 4RPC, 2DRK, 1BC6, 4FIW, 2YBB, 1C3J, 4G1P, 2A3Z, 3OKT, 3FUC, 3EU9, 2OWN, 3FSG, 3JUK, 1XMV, 2PV7, 3Q1F, 1C0A, 1XVC, 3M1O, 2XJP, 2Z02, 3IQK, 1NFF, 4XAQ, 4KEO, 4MCW, 4KP9, 2INX, 2QK4, 4N04, 2V3V, 2J1D, 4WNP, 4AXD, 2ZF9, 3M33, 1PX8, 1NAW, 4IVK, 4Q4W, 4KQ7, 4WID, 3F7C, 1Q0X, 1D6J, 3ULJ, 1Y7B, 1JL0, 1SMY, 4FZW, 2OOQ, 4D6I, 2XKR, 2DDZ, 2AFV, 3GDH, 4CGZ, 3LQY, 4RDA, 3ZCX, 3QZM, 2VU6, 3J94, 3LPW, 4PUD, 2GYO, 4M1R, 4FCE, 2Q3L, 2QWX, 2B6C, 2E58, 4G68, 2AYE, 3G26, 4UJM, 4O8T, 3WR2, 2V4J, 4NS3, 3DZV, 4OUR, 3U5Z, 4TKB, 1AU1, 2GG3, 1YAA, 4QPN, 1VJE, 4X7H, 1TE2, 3FYO, 3UEM, 4M55, 1Y9Q, 1KNP, 3MC1, 2IB7, 4F6T, 2REE, 1V3S, 3N9K, 2NUJ, 1OKO, 1QM5, 3OJL, 3BPT, 1ULT, 3DP8, 4TKX, 2J5V, 3DKP, 1LQT, 1RWY, 1BLF, 4CHI, 3KE7, 1VCY, 3T3O, 2OZG, 4JVL, 4S1W, 4IHG, 2X4U, 2YKU, 3ZQK, 3UND, 2GBX, 1Y56, 1CV8, 1XVE, 3D45, 4IPF, 1W70, 1Q40, 3Q7V, 3W78, 1NVM, 2FP4, 3GIA, 3RRW, 3KAO, 3G7L, 4O06, 3NF9, 2VOC, 3RWS, 1IN5, 3TXO, 4QDC, 4TSK, 1GUI, 3K2K, 3CB3, 4IJA, 3O0Y, 3U66, 1XJE, 3PYM, 3MDJ, 1U20, 2YNT, 3C1R, 1QHF, 2Z4R, 2V3I, 1LYQ, 3RBY, 3ZR8, 1UZ9, 3MTW, 2YDI, 4BKE, 3ISL, 2NQN, 1QBZ, 4RIF, 3THT, 4BXC, 1RKI, 3ZZS, 3HQC, 4EI7, 3C24, 1CLF, 3ZUK, 3M84, 4KBZ, 2JC5, 2OY0, 1Z22, 3O3P, 2JB1, 4KH7, 1WMA, 1NUN, 3URG, 2PD0, 3KOQ, 4NQ3, 3K6P, 3RYI, 4CFW, 2Q14, 1SU2, 4O7U, 1XJB, 1YXM, 2ERJ, 3KBO, 2XAI, 3N2O, 3UIA, 3O0K, 3PD6, 3G8B, 4K4C, 3LSJ, 4NAE, 2GJS, 3IVT, 3PCO, 4MEB, 3FHW, 2W4P, 4JLW, 3HSA, 1ODF, 4TKZ, 2RE9, 2WOK, 4V0R, 3GIU, 2Q5Z, 1WDK, 3UF8, 4AVA, 3LLC, 4LSM, 4GAE, 3IS3, 1CSN, 4MAM, 3LW7, 1TGJ, 1XNF, 2RA4, 4IOP, 2V8S, 4KAV, 1ECM, 3NH8, 3W2C, 3VX3, 2QJO, 3B3V, 2YL7, 4IXJ, 4HBU, 4N11, 1WPX, 4RYF, 1VHM, 4DMH, 3W9B, 1YMF, 2DLC, 4RK9, 3NNT, 2V82, 3MZN, 3BJQ, 2YAQ, 4H54, 3GKN, 4NDV, 3Q2W, 1W99, 2WTA, 4QSC, 4X9M, 3GZY, 3IX4, 3PP5, 4V0L, 4DY3, 2WKX, 1I3U, 3LPC, 3HG7, 3JZL, 2ZQN, 3M8U, 2D4W, 4IJH, 4N4I, 3HBA, 4GQS, 3OZ9, 3K21, 3DZW, 4PFU, 1W62, 3QJZ, 3DAH, 4BSV, 3DH9, 3LXY, 2WW6, 2F9M, 3CMU, 2QGH, 3FQD, 4OVK, 1TEX, 2IW1, 2V7O, 3RF4, 4M8O, 4EQ8, 3TOU, 2R4I, 2J1A, 3G3N, 3RWK, 2W3X, 4UYE, 1U16, 4UBW, 4K7D, 4E7V, 3MBH, 1RJG, 2EIX, 4H3X, 4EDW, 2FUF, 1V8Q, 4JFC, 2C40, 3ASX, 1A34, 3A5Y, 3ZW3, 2VNF, 2F1K, 1VEF, 3MBQ, 1K9Y, 2WTS, 4HES, 3FFX, 4F0B, 3LUP, 1G6K, 3K2W, 1BT4, 1VYI, 4TVP, 1RP4, 3NY7, 1V9H, 3P9T, 1PBT, 2VU9, 2Q1A, 3AI9, 3MCX, 4LU3, 3QSL, 2FVK, 2QEB, 3DXO, 3HFW, 2J9P, 2Z6D, 1ZR6, 1FO4, 2YWC, 3DRN, 3NA8, 4EQG, 4TWR, 3TY7, 1E6E, 3BMX, 4GYM, 1HG4, 2ZIY, 3KRV, 2W48, 1XHC, 1HE7, 3QFD, 2B81, 4B3N, 3BXH, 2YLD, 1GTH, 3BY9, 1P91, 3RFQ, 2JIZ, 3W0S, 3GWR, 4HO1, 2XML, 4FI1, 3RV2, 2W8Z, 3H95, 1VE5, 1HLC, 2C6X, 3PCV, 1C1Z, 2ONF, 3SSB, 2NV9, 1M98, 4E4C, 4I17, 2R9F, 2XWL, 1XX6, 3GFB, 4YDU, 1KZA, 3CGM, 4RLE, 4GP6, 4F57, 4L4I, 1UR0, 2ZL6, 3T4L, 4HSX, 4GL0, 4JB0, 3ZM8, 2PMB, 2CUK, 2X7S, 2HCI, 4LGQ, 4BPT, 4C21, 4NNB, 3E2Y, 1E8D, 4DRH, 2PKK, 3H4M, 2YEV, 4JH7, 2IFX, 1X1N, 2DDT, 3JVO, 2XDV, 4ORK, 1THG, 4LA9, 1XG3, 3DFF, 4OJM, 2NSZ, 2FGO, 3R07, 3EK1, 2RGO, 2VHL, 2Z1C, 4JE7, 4FSS, 1F0L, 3WN6, 3U13, 2WK8, 4A87, 2YP1, 1DK8, 1KAE, 4QBZ, 4D9I, 2HMZ, 1P2Q, 3I45, 3TAD, 4AWT, 3SE8, 2EXV, 3AOK, 1H98, 4TVM, 1YZX, 3EHU, 2VPR, 3PGV, 1LLU, 2P9W, 3GFD, 4HJJ, 1RFX, 3TDQ, 1YNK, 3NQI, 3LLU, 1LNM, 2FFC, 3FAI, 2QE9, 3FMW, 4V3I, 3O6T, 3K2C, 3IT4, 4BN4, 2VJF, 3TZU, 1CT9, 1FIZ, 4TQ4, 3HA2, 3U0A, 2R84, 3IZA, 3VR4, 4GVO, 4CSD, 2YC1, 2AAI, 4FUQ, 3QFO, 3TSG, 4JIN, 4AXI, 3QGV, 3PK0, 4WRG, 2VD9, 3HFK, 4ERU, 1LSL, 4O67, 1GL6, 4CBX, 3KPE, 4WAC, 4EY2, 1V6A, 3GZC, 2V1O, 3QBR, 2C57, 1KQR, 3QAG, 2Q22, 2R31, 3M1C, 4CAG, 4Q6B, 3VGL, 3RUK, 4DNA, 3CRW, 4HN3, 3KHJ, 3CSL, 1HTY, 4IJU, 4IK2, 3ZZN, 2C4W, 3O8D, 2UVP, 3MWX, 2C54, 3N7Q, 2FSR, 1CBR, 3CUE, 4BJR, 2IN3, 2E4Z, 4NT4, 2Q03, 4GXB, 2PPX, 1I19, 3WIF, 4HEG, 2B4C, 3O2G, 1H65, 3QW4, 1BVY, 4JY4, 2FCW, 2JHE, 3R72, 4KMU, 2IDL, 4A8N, 2JEQ, 1O1H, 3CRC, 3QAX, 4CCS, 3F2E, 4TY6, 2CWF, 3QC3, 3TM4, 1C1L, 4GB5, 1D1G, 4CL3, 3CU3, 3IC1, 4MRG, 1EE9, 1FVG, 1Y4C, 2WIM, 1H8L, 3F0I, 1KYC, 1AQY, 3HQ1, 4N7W, 1YNS, 2ZTB, 4AEI, 4LXF, 2L74, 4F7Z, 4XXX, 2H75, 1SZ2, 3AX6, 2ZE5, 3FGG, 1LNZ, 4ALP, 2VZR, 4QNW, 1T13, 1AZT, 4W85, 1N69, 2QS7, 2XJT, 1DZR, 2W2J, 1RLJ, 2X8T, 4GXR, 3JX9, 4EIR, 3PDY, 3AMR, 1G0O, 3P7N, 3M5W, 2HGX, 4ERP, 1MIY, 3KY8, 2DY3, 3NVN, 1VB3, 3PBL, 3P9Y, 1RRV, 3NRF, 2QS8, 3WDR, 3Q2I, 3RAC, 4FAS, 3D53, 3IGO, 2QQZ, 2EF5, 4MUZ, 3P47, 4IY7, 4ICI, 2V2F, 2ZN9, 1IBQ, 1JV1, 2Q6B, 2I5P, 2XSW, 4KTD, 4G33, 3HE1, 2FLH, 1JPP, 3H8I, 1YKG, 2YL0, 4NNZ, 4A1F, 4M9D, 4A2R, 3C7M, 2V2C, 3QH2, 2RDK, 2FUE, 1OH4, 4D8Y, 4GLK, 3E18, 1F2O, 3HRQ, 4HYO, 2FYG, 3VUF, 1L3L, 2YCE, 1RUY, 2G46, 2VOU, 3I9A, 2PD3, 2WDY, 1BKJ, 4MDK, 2ZIC, 1BDB, 4OPM, 2VOW, 4DW0, 4APX, 4ICY, 3MD7, 1TZ6, 1W1A, 4BKU, 1QVJ, 1DJ9, 3NTT, 3MVK, 2X3N, 3WIB, 3JUI, 1Y1A, 3TNO, 3K17, 3R4T, 1ZPT, 2R6R, 3P8B, 2E2O, 3F4N, 4EFK, 1DXY, 3EO7, 4GPV, 3O1L, 4HNV, 4TXO, 2YQU, 2BOG, 3UC2, 3AUJ, 3HXA, 2OSU, 2CKS, 3IRP, 1HSK, 3USF, 2I8D, 4RAS, 2POS, 3FSB, 3LQV, 2V3U, 2OCD, 1GD9, 3W0L, 1W52, 2X5W, 1GPH, 4L89, 2CE7, 1M0W, 3D30, 3RSI, 4BK0, 1P9B, 3MDQ, 3D2U, 3OJ0, 4I3G, 3ZSK, 3NEK, 3G34, 4AL0, 2XAA, 2QNZ, 1GA2, 4F4R, 3BOS, 3KS9, 4DXE, 3KHU, 3V0Q, 3OVQ, 2QNU, 3RCM, 3QY8, 1ASZ, 4C4A, 2XVE, 1VPD, 3GKA, 2WSX, 3S86, 1C2Y, 3EDP, 4TQO, 1GY2, 4CTE, 1P8T, 2BWN, 2IUA, 4MNS, 2DKV, 2WZ6, 3A76, 4GBO, 4N4N, 1AG9, 1WTA, 2ODK, 1BDG, 2CUL, 4HLS, 1EJE, 1FEM, 4QAK, 3ZZX, 3SIM, 2QAE, 3QAP, 3H2D, 2BAB, 4KQD, 3KGW, 4AJ1, 4QB2, 1HPI, 3U0H, 3JYU, 3GYI, 3FD3, 4P4T, 2BF4, 1JDN, 4QMG, 3B99, 2FYF, 1ZGZ, 4XGN, 2PNS, 2YIU, 3GQ4, 3TE4, 3QC2, 3B6R, 4CMF, 2HCZ, 3SQG, 4CZL, 4FUS, 3IK7, 2QYO, 2RHM, 4OTH, 1WLE, 3GBH, 3NES, 3R2H, 2YNQ, 3EHG, 2CFU, 4DBJ, 4FN6, 1E6Y, 1Z6T, 3DJC, 1HFE, 4J4Z, 4V1Y, 1P7I, 4DWX, 2PH4, 1VPE, 4WJU, 4MKN, 4GOV, 3JYQ, 3KD4, 3JZD, 3O6G, 2J6P, 2PC1, 1TW2, 3CEA, 4MJX, 3QJ4, 4MQE, 2V73, 2RE3, 4OF8, 2HB6, 2W3C, 1IBY, 4CT8, 3AB3, 3PYY, 1YW1, 1SJX, 3QI5, 1HH4, 1J0I, 3G48, 3IR4, 3FRY, 3UA6, 3QZU, 3MKS, 4HAM, 3SN0, 1Y1P, 1IPE, 4E6Z, 1A3L, 1TWI, 1LXF, 3CJF, 1VCI, 3EUN, 2P5V, 2XRY, 4A6Q, 4KZK, 1P0C, 3TK7, 2XAE, 2JAR, 1SMK, 4CFL, 1KFD, 4HG2, 4B9Q, 3F9D, 3SSQ, 1PPX, 3IAI, 3SOP, 3LTE, 4MH1, 2CZ2, 1TJ4, 4NVL, 4CC4, 4CKQ, 2Q2A, 1MCO, 2QY2, 3U34, 4QFD, 2OS3, 2AMC, 3C3O, 4MPA, 1TL2, 4S0K, 3D85, 1FDI, 2RDT, 2XLE, 4HVK, 4Y0H, 3MHR, 3LK5, 1R76, 4AX7, 2YD6, 3ROK, 3VFQ, 1IT7, 3B6V, 3G3D, 1C0G, 3DJK, 4IPB, 2C1P, 3CZQ, 4GAA, 3PUT, 1BF6, 4EA3, 2GK3, 1R9L, 2XPY, 4UAU, 3DQ0, 3EN1, 1W66, 3O0H, 3PFY, 4JN2, 4LAF, 1FW1, 1ZOV, 3EZY, 1MSV, 1AD4, 1X9J, 3DBA, 4PNC, 2CC3, 4F6N, 1GN8, 4BFG, 1QY9, 4RPI, 3HH5, 2XIG, 2V8K, 4N20, 1L0Y, 1EU1, 4S1H, 2UV8, 1T0A, 1WMD, 4D05, 3PA9, 3AKI, 2X1Z, 4GSB, 4X0P, 4LZJ, 2ASC, 4A3Q, 1F4X, 2R79, 4PZL, 2JK6, 4ER9, 3C31, 3M58, 3T70, 4CXP, 3AL6, 2HW5, 1I6M, 2CHU, 3P09, 2GA4, 3UPW, 4H6B, 1MK0, 3BIK, 1R1A, 4L6V, 3BC9, 1BHP, 4NCE, 2CFF, 2HIX, 4A4E, 3LKE, 1ZYB, 1WVV, 2BR6, 1P17, 3N9T, 1XXQ, 3MG3, 3QV1, 2V54, 2J2C, 4D2D, 3KWO, 1Q13, 2NUN, 3RT3, 3P7X, 3NIB, 2Z6B, 1DP7, 4P9G, 4AWE, 2Q0Q, 4EAA, 2D29, 1TA9, 3L2L, 1C1Y, 2VI1, 2WYE, 4AOX, 1T5B, 3B5D, 2PT5, 3DU0, 4M1B, 4H5G, 4XFJ, 3UR9, 3C01, 1XSI, 3PI7, 3C64, 1VPX, 3DZ8, 3O8Q, 1A65, 4W9N, 1WDI, 1POC, 2R2D, 2WZG, 2VKL, 4J6F, 2NZY, 4ID9, 2XPV, 1W6J, 4AXK, 1ZSH, 3F8A, 2QER, 3IQX, 4UW0, 1Q25, 2Z67, 2W2L, 1QVW, 2AR1, 2QIB, 4RGK, 1LVB, 2J73, 1AHI, 3LIU, 3SLL, 4IJN, 3LAD, 3EXJ, 2I22, 3BWH, 3P6C, 3AUY, 3HHH, 4Q2H, 2WDU, 4AJW, 3ANV, 4M99, 4FXX, 1ION, 4MMP, 3HCI, 2K74, 3O8E, 4JR9, 3EO4, 4REU, 3GYX, 3I5V, 3MMH, 3GUE, 2Q09, 4G9H, 3DYD, 4PT0, 3Q8N, 3RU8, 4AK7, 2WL9, 1YKD, 4AGS, 4AZQ, 3M6W, 3RY7, 3LRT, 2JE6, 4XEA, 1JKN, 2WBV, 1DJL, 3CXG, 1BAG, 2J5T, 2Z8O, 3M9L, 3ETO, 3VD8, 3QZL, 2Y3B, 1PT6, 3P8K, 1N47, 4F9D, 3NWR, 3OFL, 4EIV, 3F6C, 3BF8, 1MU0, 4K1W, 3NPE, 1VQU, 2X3A, 3LTM, 1RXQ, 2B9E, 1P4C, 1L4X, 1RL4, 3B2T, 3A62, 4A2S, 1TLL, 3O0N, 3HNS, 3DM5, 3UQ8, 4F07, 1VBK, 2FQW, 3HR5, 4IRP, 3U4C, 4C91, 4KY0, 3MNM, 2DPT, 2R6N, 3AIK, 4IGH, 3D0F, 3VPQ, 4BR6, 1TMO, 3MCP, 4LUO, 3IT9, 2J9C, 3K92, 4MBO, 4D2C, 1Q7T, 2E4P, 4N5I, 1K7F, 3B1C, 3OOV, 3ZOS, 3F07, 4NYI, 3K82, 4JC5, 4F8B, 3IEH, 4MC5, 4OJ8, 2NWF, 1JMT, 1HYO, 3GVK, 3FNM, 2WAN, 1SS4, 4KIE, 2A9N, 1YQ2, 1AF2, 1H3E, 2YEK, 4CCZ, 3L3Q, 1C9K, 1E8W, 1TG6, 2H58, 3BP5, 3OUG, 2PW0, 4HBX, 3GWN, 2X0Q, 4JO5, 3LNL, 4ES8, 4E0T, 2D6Y, 4KDR, 4U15, 4JZF, 1YRP, 4I4Z, 2RCK, 3PT6, 4N0W, 1SK6, 3PJB, 1M40, 1L0X, 4AMN, 4KXJ, 3PET, 3CH4, 3Q7S, 2PA8, 3J6Q, 4X54, 1F1H, 4C6Q, 3BGU, 1WL4, 4R9G, 2X2H, 3A9R, 1PN4, 3AOE, 2W87, 2ZXY, 1OGP, 3WGD, 4UU7, 4NTJ, 4DLE, 1S57, 3DH7, 4FIO, 3RBP, 3TMK, 1HOV, 2FVV, 2AX4, 3KWP, 4A01, 4CGB, 3QSD, 4K4S, 1BYK, 3T5D, 3NOL, 3ZHC, 4I6K, 1SQL, 2J68, 3G64, 4K3Z, 1RI1, 1T8Z, 4QJ4, 4I8D, 4IKL, 4MPO, 2O26, 4FKI, 3MGC, 4TTB, 4B8V, 3I4G, 4E7N, 3TEU, 4TSM, 3QAU, 2YKZ, 4RTB, 2XMX, 4G9P, 4TWC, 3NMQ, 4J5C, 2B4G, 4QUI, 2PO3, 4ITC, 2NXX, 2WYH, 3UNQ, 2UXW, 2INB, 4K50, 1T10, 1N0H, 1C1E, 3QNV, 3M73, 2X02, 4G0I, 3TT7, 3BNK, 3FPI, 4GFC, 4HHR, 3BVT, 1U28, 2HUE, 3IVC, 3IK4, 4GOD, 2R8V, 2CYB, 3QB0, 4B3J, 3NF5, 3VWC, 1GW6, 3A1T, 2DX7, 4UBS, 2XDQ, 4AQ4, 3GXA, 4FZB, 3OC3, 2HOS, 3T6C, 4IT4, 3EJW, 3KQ4, 4BYF, 4KBF, 4FQI, 1UM4, 2XE1, 1KO5, 3HIP, 1KFW, 1OW0, 3OEI, 2OZ5, 3NOR, 3O7W, 4A7P, 4O29, 1I52, 3KVU, 2EXG, 2INV, 2XSF, 3S0B, 1Z0J, 2P35, 2AXN, 4OVT, 4QVT, 3UJI, 2C80, 4HN8, 4UNI, 1VMA, 3D18, 1GLP, 3DR3, 2PHX, 1C41, 3WNK, 1UJP, 3ZUX, 2OME, 1DXL, 2O1B, 3VOC, 1DJ2, 2BSW, 1VP4, 3EO8, 2X5O, 4MAE, 4F9B, 4JO0, 3TT9, 2GS9, 1P6D, 3HJ9, 1DP5, 3ENK, 3MW6, 4D26, 1KX2, 3NJ1, 3BHD, 2WSI, 1AY4, 1UBW, 3KJJ, 3C6F, 4Q3V, 4OCE, 4QTA, 4B9W, 3NA9, 1DTD, 3AOV, 4F7E, 4FNC, 4AMH, 4GKR, 2O78, 4R6Y, 3RCY, 2HWD, 3KIC, 3TCS, 3FHH, 2WCQ, 3HVS, 2P8I, 2WYW, 1FX8, 2DGD, 3UBM, 1NZN, 3N6Y, 3MGD, 2O08, 4BRG, 4JAV, 1JPY, 3OIK, 4LLS, 3ZVX, 1VFS, 3DCX, 1OGK, 4G0P, 1HM9, 3GF5, 4B6Z, 1DWL, 3O7B, 3TIV, 4QJI, 3OOI, 2GL6, 2DHR, 4WED, 4OLQ, 1RKX, 4BI4, 3OGA, 4K30, 4BFA, 3IEU, 2C6N, 2NLR, 3R2J, 2AM9, 3O4W, 4NFA, 2F57, 2DVM, 4HYR, 3BER, 3VLN, 3F5F, 2BKV, 2R0H, 3GC2, 2E9R, 3F10, 4KCT, 1QFY, 2Q7A, 1I2B, 4KYS, 2W3V, 2V38, 4GYS, 2VVB, 3M3M, 3OP1, 4I5V, 2H8K, 4FHG, 2VS1, 3ZED, 4APO, 3GYQ, 4NB0, 3FYS, 1N1E, 4PMO, 3R6T, 4AP8, 2OH3, 3JQ6, 1KWF, 4I6R, 3FV1, 1NWZ, 3WYH, 3HHE, 4I9Y, 4BR9, 3M4F, 2QKP, 4KRY, 2QRL, 2HB0, 4IEN, 3LDK, 2NV2, 3GQV, 3QRL, 1CM0, 3PCQ, 2B5E, 3OZX, 1U6T, 3NOJ, 4DY5, 2X67, 3I6V, 2PFX, 2IQ7, 3MYU, 2GNO, 1KY2, 3DZZ, 3ZXD, 3RVL, 1D8C, 3PNX, 2UYQ, 3NDZ, 2WRH, 3QXM, 2WVQ, 1QGU, 3UJ0, 3T3W, 1CHM, 3FV5, 4CF8, 1VBJ, 4G3M, 3ZNC, 4LDF, 3WMG, 3WC8, 2ZHZ, 1B8U, 3Q2U, 2VU1, 4AFD, 4FRU, 1RMG, 4C9X, 1V1Q, 2ZW2, 1IOV, 4LIH, 2HMK, 2B5U, 2D32, 2CZQ, 3S20, 4G2T, 2VUV, 4UON, 3Q5Y, 3BOF, 2F62, 3NUG, 3IKH, 3IE5, 2XWP, 2VB6, 3KL7, 2VSU, 4E2B, 2VYX, 1YOB, 3CJT, 3NA7, 2HOE, 1MU7, 2Q3F, 3D1R, 2BJF, 2VKR, 3BWR, 4OO1, 4QPL, 4K36, 2HR0, 3M03, 3T0M, 4Q4K, 2YB9, 1DTL, 4UU5, 4JL5, 3V2U, 2XLQ, 3HBJ, 2WHD, 1QMO, 1O9I, 4BB7, 1S18, 1RHF, 2GQW, 2HZH, 2C7V, 4LUJ, 2E87, 4MA7, 4LDZ, 4HR3, 4PWY, 1R1K, 2G5I, 4N44, 2YK6, 4STD, 4HDR, 1PUJ, 3OIG, 2B1X, 3ZVK, 2Q8K, 1QF9, 2YV5, 2D0O, 1L3I, 4HQS, 2FV8, 2I5R, 2M2U, 2CCQ, 2QLL, 4DLP, 4DTH, 1P4K, 4MNU, 3H4Y, 4OPB, 4NV0, 4WJM, 3DWC, 2ESP, 1QVI, 4N4U, 4JGX, 1WBP, 3V1O, 1EKS, 1VJF, 2ZTU, 2VVK, 1MOW, 3VAX, 3Q6K, 3G8Z, 2XLV, 3KLJ, 3CZK, 1GM5, 4V2W, 4PSH, 1OLT, 2PAV, 2EA1, 2W8X, 1PZH, 3CZG, 1B9H, 1R9D, 1ZGS, 1OSN, 3IQ0, 4GRH, 4KRG, 3FG8, 2D5V, 4YFY, 2DCX, 1F9A, 2GX5, 3WCZ, 4BDD, 1EXS, 4I60, 2CST, 3R3S, 1BO4, 4NM6, 4FRY, 4CQ8, 1XQI, 1Y80, 1GV4, 4JXZ, 3AHN, 3WGE, 4P53, 3AMG, 3M8O, 3BMA, 4IKH, 1ZY9, 3TLO, 2BKL, 2UYG, 3RHF, 4EFF, 2VZS, 3K09, 2QUF, 1D2M, 2C9Y, 4EIJ, 3OQQ, 2VDV, 3UWV, 3S1V, 3MPK, 2EFJ, 4R1Z, 4A3R, 4ESA, 1YGP, 1N6F, 1UZ8, 3IHJ, 3GMZ, 3RR6, 1B57, 2QCU, 3T50, 4BQL, 4IR7, 3P2C, 1C3X, 4CCQ, 1Q45, 1YS6, 2F59, 3FO1, 1EQ2, 2C60, 3MSH, 3UJN, 1U2Z, 2VN4, 4ARU, 2A9G, 1HR6, 3LR1, 4THI, 3SQ6, 3V4E, 3FM5, 3ZJC, 3BRB, 3Q2Q, 2ZNW, 2REW, 3UF4, 3POP, 2Y31, 3KF5, 3UZI, 3ZF8, 3BX4, 2FLQ, 1O8S, 3FJ2, 4UA3, 4J1T, 3UB5, 1NPD, 2FG5, 3RPW, 4LQB, 2PL3, 2WYO, 3L7M, 3KA2, 1QD0, 2PTM, 2B13, 4JZS, 4RKE, 3SSN, 1WOZ, 4NVI, 3HXW, 1F6D, 2AHV, 2PQM, 4N8G, 1A7X, 4HCP, 2ERL, 3NWY, 3F8H, 3UBO, 3TJO, 2ZSE, 2QEU, 3DAO, 1XVU, 4GG8, 4D8N, 3QVS, 4AZD, 2ZAN, 3ECN, 1ZB7, 2C2F, 4PDK, 4BX0, 1UIY, 3SBM, 4G6Z, 1T0S, 4UR3, 4DI8, 2JA1, 2RH1, 4BLP, 4E0I, 1AFW, 3K6M, 3IVL, 1EU8, 4QSH, 4NTA, 3AJM, 3BM1, 4KKM, 4L53, 2I51, 2W7A, 2NTY, 3NSW, 2FPE, 3M0J, 3UDI, 3E65, 3GPD, 4EV1, 3NUE, 3MHA, 2FU4, 3RQ0, 3GZM, 3KTY, 3N2C, 4A7Q, 1TUU, 3SIW, 3RHZ, 4GLW, 2QXI, 3EA0, 4WD2, 2NZJ, 4EFC, 3FNC, 1FGX, 2VQJ, 1K92, 3UBT, 4HXV, 2VLB, 3C1L, 2QRY, 4Q95, 2GUC, 3LXD, 4DHV, 3GEW, 4A2N, 2XWA, 4ER0, 1VF1, 3DX7, 1EIZ, 1B1Y, 1WDT, 4H6A, 2Y8D, 4I4J, 3EJM, 1GMN, 3AGJ, 1BDA, 3VSI, 3RF6, 1ARM, 1XFD, 1TXC, 3PVH, 4KX4, 1ZUW, 3BS6, 3L6G, 1FZJ, 1UZX, 2NLI, 3CQD, 3QN7, 1FJJ, 2V1F, 2Z6C, 1VMI, 1RM6, 4IJ8, 1TZP, 3NO6, 4H2Y, 1D6A, 4M1Q, 2AR9, 2DZA, 3TW4, 3H4S, 3TAO, 1WOG, 3AV0, 1KSK, 4EG6, 1W72, 4B6U, 4DLO, 2JFV, 4IL6, 3LDU, 4RQO, 2XVB, 2HSA, 1H00, 3UK6, 4L9M, 3GPS, 4MJF, 3UH0, 2XE4, 4NQD, 1LSS, 2B0C, 1N04, 2WNH, 2WQH, 4NZD, 3VIV, 3D5I, 2O52, 3AC0, 3WO4, 1FBL, 3N75, 2ON5, 3RJU, 4D5E, 2GWL, 2YGG, 1NO3, 3TB4, 4NC7, 4OJY, 3K1M, 4AH3, 3PVC, 1D1Q, 1DPP, 2IC1, 3BIO, 4ESK, 3DA1, 4NOG, 3PYI, 2ZSI, 3ZMK, 2IF8, 1HLQ, 2VTW, 2C8N, 3A7N, 3F5M, 1DHR, 2FT0, 4H6Z, 3VF5, 4O5H, 1IZD, 4PAB, 1UI0, 2FBW, 3PUW, 3SPK, 2ARZ, 1UP7, 3O6D, 4K03, 1YBK, 3N0R, 3GFX, 4CGS, 2O1V, 1D2E, 4DYO, 3PU3, 4O4U, 4FWD, 3O0F, 3SK3, 1KB9, 3A77, 4TJZ, 4K47, 3BEM, 4RFB, 1WS8, 4JFA, 4U2T, 2IFG, 4DWB, 4DBS, 3E73, 4WIW, 3GVU, 3QZN, 1PZN, 3E7E, 1IS7, 2YEM, 3S2U, 4B2G, 3BDY, 3IGN, 4FLW, 2IPI, 2AEP, 3ZUP, 3HVN, 3QZX, 2EKP, 1FI1, 3ZVA, 3HBZ, 3AV5, 2VP1, 2YIZ, 1V7W, 2HJ0, 3S3J, 3Q85, 2PFM, 2FAH, 3L2P, 3FFW, 2A0S, 2ZBW, 4BTO, 4C77, 3Q7I, 2W3N, 2FTP, 4DUR, 1LL3, 2Y8N, 3WJS, 4KTW, 4I0U, 1L3W, 2JGD, 1ZQ1, 3GD9, 3OOW, 1JA9, 3PTM, 2FOM, 2BOY, 4E1O, 2J7Q, 3FDS, 3QBM, 4IAR, 4OR7, 3UKO, 2C5L, 4R7F, 3WBZ, 1IA5, 2QA9, 4FEV, 3NSL, 2YFB, 1DE0, 1B66, 3K7S, 3O9Z, 2HJG, 3OPE, 3BPM, 2GIF, 1IM8, 1J49, 2XZ2, 4TLL, 3ED4, 1KYQ, 3BS2, 2J6C, 2QXW, 3M2N, 3BNI, 3LS6, 3TM1, 4AAM, 1HG3, 2R9Z, 4L5H, 1NHK, 4F0C, 2ZCW, 3QTP, 3MJS, 2JLO, 1U9O, 4G36, 4JYE, 4M1I, 1I80, 1YUM, 4MA6, 1OCY, 4JD2, 3SAB, 3C30, 4OV9, 4RHE, 2OX4, 3BM3, 1AO8, 2XGR, 3C66, 1FL3, 3O1D, 4IRR, 3RNJ, 3R0O, 2DNS, 3G9K, 3N1S, 3OQ8, 1AOM, 2ZYJ, 3LO5, 4I9I, 1QN0, 3MZF, 2DFK, 4IVN, 1M6D, 1TUV, 2XG3, 4IY0, 1FA9, 3OYT, 3RZF, 3WK2, 2RIJ, 3P1M, 4W79, 1H6D, 2PQJ, 4OT7, 2EGH, 4I0K, 1MOZ, 2GNN, 3L4Q, 3VMP, 3RWM, 4PY6, 4US3, 4U4F, 4BOQ, 3T7Y, 2Z36, 3EML, 4HBZ, 1YR2, 3CKD, 1PS6, 3DWS, 3G36, 3QJG, 1XES, 2OX9, 1F0X, 3ZJJ, 4O0A, 4FNS, 3DTD, 3R39, 3GWC, 3MRG, 2W0F, 3QXT, 1FLJ, 2SAK, 2QFA, 3KTM, 3OZS, 3A5R, 4JJF, 2R5V, 4UY4, 4J32, 4W8A, 4HU8, 1UM8, 3G20, 3M6I, 2XPD, 3U4E, 2Z8I, 3OS6, 4DY0, 2X1I, 2GRU, 2XTK, 3W7R, 3GU7, 3P6B, 3ZOA, 4I1R, 2A14, 3OIS, 3T7C, 3EOZ, 3LXM, 2GGQ, 3OF4, 4JCL, 2V52, 1I3K, 2GKP, 1ZEL, 3FF0, 4NAS, 1AGR, 4HCY, 2D7I, 4NDU, 3VTF, 2XRS, 3IT6, 4Q5V, 1X74, 3FE1, 3SFZ, 3KK0, 1TYA, 1ZZH, 3LSS, 4HOX, 4C0R, 3EEY, 1O9R, 3ECJ, 2XJR, 2DT5, 4DDQ, 4J2S, 1DIL, 3OI8, 1VE4, 3NAC, 3T6H, 1MQ0, 3SPR, 1VMK, 1FK0, 2X49, 4C68, 3VC1, 4M3M, 2WME, 2GQP, 3ZY7, 4OMW, 3NBK, 1KF6, 2O1O, 3G9H, 2JH8, 2CUN, 1HV5, 3V9P, 3U9X, 2NYG, 2XNB, 4FOM, 3H2B, 3VZP, 4RSM, 1G29, 1NF7, 4LEJ, 1MDB, 3ISY, 4PE2, 3OXH, 4QYI, 3OJC, 4FE3, 4CBW, 4MIE, 1XCD, 2PN6, 4WVY, 1NJU, 3R6W, 3IM2, 1JLV, 1PL8, 3PPI, 1QAP, 4C1S, 3TVI, 1VC4, 4UJO, 3WY0, 4JXY, 2OSO, 4IUA, 1BQY, 4AX8, 1HDC, 3C9U, 4MTS, 2I6P, 2MPR, 2X5F, 1XEZ, 3GVL, 3GP6, 4OH1, 1L8D, 3S55, 3MM5, 3RMI, 3WG6, 4GCM, 1PW6, 3V5F, 2PID, 2QHD, 1YOA, 4AOZ, 2VZY, 2OXN, 2VD5, 3BWL, 2ORW, 3PQV, 1QRP, 4I4T, 2GF3, 4E5F, 4PXL, 1KC1, 4PXB, 1NVB, 2BZH, 1DZM, 4NSM, 3U0Z, 1GRX, 3A3Y, 4KXZ, 3FXM, 3P7J, 4JPL, 3ZS0, 1K1W, 3MKO, 1PG8, 3HWS, 3BRE, 2JAJ, 1R5O, 1I0R, 4AHA, 4RNY, 2K46, 3GTZ, 4OHN, 1ASU, 4FE9, 2PBI, 3GMB, 4KDX, 2Z2F, 1Y2F, 1LUQ, 4J7G, 4QUJ, 4FGE, 4IRQ, 4FFS, 3QZ1, 4JBI, 4FC4, 3IH5, 2P02, 3NPP, 2R5C, 1ZJR, 1Z57, 4CFS, 3IPW, 3SB4, 2PK3, 2O4T, 2WE8, 2PKA, 4GHN, 1WC2, 1H0D, 4NAH, 4UJT, 3ORQ, 1O7E, 3CR3, 2PL5, 3K3C, 1MEX, 1GQJ, 4DXL, 2R85, 4H19, 3RQS, 2EFC, 1OM0, 4B4J, 4FWJ, 3HAP, 3K1Z, 2QCV, 3VMM, 3EK5, 3N1E, 2HR2, 3HT3, 2Q37, 3TPT, 4DIQ, 2PNY, 1GKA, 4OQR, 2HIM, 2Q86, 4EJD, 3KMV, 3OC8, 2IFW, 3RI0, 3FAS, 4JYK, 1ZWP, 2QUP, 4FYG, 3LA6, 3OES, 4I6S, 2VCH, 3HJJ, 3K45, 3IHT, 3E61, 3LB1, 4J25, 3RYS, 4QYS, 4FEY, 3R4S, 3C37, 2VZD, 3PJG, 1XT8, 3LBE, 2JGP, 3I98, 3NMU, 2REI, 2HAE, 3LRP, 4DYN, 3V13, 3K30, 4C1U, 4LE1, 3FBZ, 3H7O, 3D0G, 1PJ6, 3OLL, 4N69, 1HW7, 2JG7, 2NRX, 4MY0, 4GCA, 3C8Z, 1MEG, 1MPX, 1NAS, 3IBM, 1D0I, 4BM9, 3APX, 1M9Z, 4INI, 2J9T, 3OIX, 3CMG, 2BLE, 3BZM, 4BGA, 3HR4, 2XM0, 4ALZ, 2C29, 4JZJ, 3V8H, 2P4Q, 4GGF, 4BC5, 1ONF, 2WSW, 1AP8, 3VAK, 3U67, 4C8G, 4NE2, 3TMG, 2F17, 3Q95, 4R1L, 4OZC, 3EZ4, 3H3C, 2R8O, 1B9S, 2Q3H, 4PF1, 4GLT, 1WZ8, 4GOS, 3LO3, 1RP8, 1WQ8, 2YYS, 1S9I, 2IWI, 4QTC, 4YFX, 1GQT, 1SL4, 2Z8S, 1WEF, 4DEL, 1IWN, 4TKH, 1H2B, 3PUH, 1BQH, 2ALG, 2Y0P, 3L4N, 3P4H, 2QAD, 4M8D, 2YN8, 1GXM, 2ZBB, 2HP3, 3Q86, 2GWR, 4AAN, 3SLH, 3TOP, 4QFO, 2ICH, 3EUF, 4QC6, 3AA7, 3USB, 4C0P, 3GP4, 1FK8, 3SJQ, 3UNV, 4GOX, 3B2H, 3URM, 4IZS, 4PXN, 3HDO, 1B6S, 2XSQ, 2JXM, 3P32, 3L2A, 3U32, 1C7N, 2JFY, 4G2P, 2PY6, 3FGY, 3N9B, 2H18, 2YXL, 2WW4, 4ANP, 3V94, 1NQU, 1KNO, 3DOE, 1YTM, 4E6X, 4OVS, 1GJQ, 3KLB, 4G67, 3OG6, 4M5D, 4OKM, 1SVU, 2R2K, 2Q2K, 1IBG, 3DID, 3ERR, 2UVO, 1OFD, 3MAU, 2Z9A, 4GL4, 1U83, 3HE8, 3VX4, 2H92, 3ESG, 1CP2, 2ZXC, 3MCI, 3W68, 3FPJ, 3RU4, 4DX0, 2JDP, 3QDT, 4WK1, 2CG4, 4BVM, 3RTY, 2HEH, 3TNJ, 4BGQ, 3H6P, 2XVK, 3EGL, 1NW6, 1NG9, 2QFW, 3NRA, 4M6M, 4C8E, 2ACL, 4I3F, 4CJX, 3K6O, 3RUQ, 43CA, 3LCU, 4TKM, 1LQ9, 3HY5, 2FEX, 2PMP, 4CL2, 3EYK, 3AXS, 4BPS, 2C6F, 2C0N, 4PO6, 3TO9, 4NBI, 2X0K, 2CXX, 3TV3, 1SGJ, 3SK6, 1C3M, 4OTG, 1H80, 3ROH, 2EGZ, 3V4Z, 1RQE, 2W3A, 2FHB, 4N21, 2VHA, 1ZK1, 4NPO, 2F6M, 2HL7, 3R4B, 4OKU, 3HM4, 3A78, 1GOJ, 3MHS, 3IAU, 1Z45, 3KFY, 3LL9, 4IXD, 2XSE, 2O95, 3B5Q, 3P0W, 3IB7, 3I96, 4K7G, 2R65, 3JU1\n"
          ]
        }
      ],
      "source": [
        "print(formatted_string)"
      ]
    },
    {
      "cell_type": "code",
      "execution_count": null,
      "metadata": {
        "id": "cZF_MgW_f12o"
      },
      "outputs": [],
      "source": [
        "!chmod +x batch_download.sh"
      ]
    },
    {
      "cell_type": "code",
      "execution_count": null,
      "metadata": {
        "colab": {
          "background_save": true
        },
        "id": "Fhq_TRUNeWLB"
      },
      "outputs": [],
      "source": [
        "!./batch_download.sh -f pdb_ids.txt -o /content/PDB_DB -p"
      ]
    },
    {
      "cell_type": "code",
      "execution_count": null,
      "metadata": {
        "id": "8gnAa2MeofdO"
      },
      "outputs": [],
      "source": [
        "!zip -r PDB_DB.zip /content/PDB_DB\n",
        "\n",
        "# Step 2: Download the zip file\n",
        "from google.colab import files\n",
        "files.download('PDB_DB.zip')"
      ]
    },
    {
      "cell_type": "code",
      "source": [
        "from google.colab import files\n",
        "files.download('PDB_DB.zip')"
      ],
      "metadata": {
        "colab": {
          "base_uri": "https://localhost:8080/",
          "height": 34
        },
        "id": "bhpgZyVJTivO",
        "outputId": "778ad884-32ad-4281-8838-475e2583699b"
      },
      "execution_count": null,
      "outputs": [
        {
          "output_type": "display_data",
          "data": {
            "text/plain": [
              "<IPython.core.display.Javascript object>"
            ],
            "application/javascript": [
              "\n",
              "    async function download(id, filename, size) {\n",
              "      if (!google.colab.kernel.accessAllowed) {\n",
              "        return;\n",
              "      }\n",
              "      const div = document.createElement('div');\n",
              "      const label = document.createElement('label');\n",
              "      label.textContent = `Downloading \"${filename}\": `;\n",
              "      div.appendChild(label);\n",
              "      const progress = document.createElement('progress');\n",
              "      progress.max = size;\n",
              "      div.appendChild(progress);\n",
              "      document.body.appendChild(div);\n",
              "\n",
              "      const buffers = [];\n",
              "      let downloaded = 0;\n",
              "\n",
              "      const channel = await google.colab.kernel.comms.open(id);\n",
              "      // Send a message to notify the kernel that we're ready.\n",
              "      channel.send({})\n",
              "\n",
              "      for await (const message of channel.messages) {\n",
              "        // Send a message to notify the kernel that we're ready.\n",
              "        channel.send({})\n",
              "        if (message.buffers) {\n",
              "          for (const buffer of message.buffers) {\n",
              "            buffers.push(buffer);\n",
              "            downloaded += buffer.byteLength;\n",
              "            progress.value = downloaded;\n",
              "          }\n",
              "        }\n",
              "      }\n",
              "      const blob = new Blob(buffers, {type: 'application/binary'});\n",
              "      const a = document.createElement('a');\n",
              "      a.href = window.URL.createObjectURL(blob);\n",
              "      a.download = filename;\n",
              "      div.appendChild(a);\n",
              "      a.click();\n",
              "      div.remove();\n",
              "    }\n",
              "  "
            ]
          },
          "metadata": {}
        },
        {
          "output_type": "display_data",
          "data": {
            "text/plain": [
              "<IPython.core.display.Javascript object>"
            ],
            "application/javascript": [
              "download(\"download_0001e8f8-d1a6-49c6-9ebd-83b853eec892\", \"PDB_DB.zip\", 2571189896)"
            ]
          },
          "metadata": {}
        }
      ]
    },
    {
      "cell_type": "code",
      "source": [
        "!wget https://files.rcsb.org/download/1BOS.pdb"
      ],
      "metadata": {
        "colab": {
          "base_uri": "https://localhost:8080/"
        },
        "id": "6g6-s5vyY1kU",
        "outputId": "6d71967b-916b-4965-9929-c77010f7434d"
      },
      "execution_count": null,
      "outputs": [
        {
          "output_type": "stream",
          "name": "stdout",
          "text": [
            "--2024-10-02 22:39:37--  https://files.rcsb.org/download/1BOS.pdb\n",
            "Resolving files.rcsb.org (files.rcsb.org)... 128.6.159.245\n",
            "Connecting to files.rcsb.org (files.rcsb.org)|128.6.159.245|:443... connected.\n",
            "HTTP request sent, awaiting response... 404 Not Found\n",
            "2024-10-02 22:39:38 ERROR 404: Not Found.\n",
            "\n"
          ]
        }
      ]
    },
    {
      "cell_type": "code",
      "execution_count": null,
      "metadata": {
        "colab": {
          "base_uri": "https://localhost:8080/"
        },
        "id": "pnCH-d59VDhK",
        "outputId": "1cf1bfa0-7a30-4cc4-9bc4-ee3bffa6ebce"
      },
      "outputs": [
        {
          "output_type": "stream",
          "name": "stdout",
          "text": [
            "--2024-10-02 22:39:02--  https://files.rcsb.org/download/1B0S.pdb\n",
            "Resolving files.rcsb.org (files.rcsb.org)... 128.6.159.245\n",
            "Connecting to files.rcsb.org (files.rcsb.org)|128.6.159.245|:443... connected.\n",
            "HTTP request sent, awaiting response... 200 OK\n",
            "Length: unspecified [application/octet-stream]\n",
            "Saving to: ‘1B0S.pdb’\n",
            "\n",
            "1B0S.pdb                [ <=>                ]  86.46K   483KB/s    in 0.2s    \n",
            "\n",
            "2024-10-02 22:39:02 (483 KB/s) - ‘1B0S.pdb’ saved [88533]\n",
            "\n"
          ]
        }
      ],
      "source": [
        "!wget https://files.rcsb.org/download/1B0S.pdb"
      ]
    },
    {
      "cell_type": "markdown",
      "source": [
        "## Foldseek 3DI Sequence Generation"
      ],
      "metadata": {
        "id": "J8-ZCBG6YkQV"
      }
    },
    {
      "cell_type": "markdown",
      "source": [
        "### Setting up Local ColabConda Env and Foldseek"
      ],
      "metadata": {
        "id": "rntQSQ6yd36m"
      }
    },
    {
      "cell_type": "code",
      "source": [
        "from google.colab import drive\n",
        "drive.mount('/content/MyDrive')"
      ],
      "metadata": {
        "colab": {
          "base_uri": "https://localhost:8080/"
        },
        "id": "nBe3xtwLh4lN",
        "outputId": "e3448bac-e417-445a-d1eb-8340c01b4af4"
      },
      "execution_count": null,
      "outputs": [
        {
          "output_type": "stream",
          "name": "stdout",
          "text": [
            "Mounted at /content/MyDrive\n"
          ]
        }
      ]
    },
    {
      "cell_type": "code",
      "source": [
        "!pip install -q condacolab"
      ],
      "metadata": {
        "id": "p_5sI91QdAAT"
      },
      "execution_count": null,
      "outputs": []
    },
    {
      "cell_type": "code",
      "source": [
        "import condacolab\n",
        "condacolab.install()"
      ],
      "metadata": {
        "colab": {
          "base_uri": "https://localhost:8080/"
        },
        "id": "oz67ytovdA6E",
        "outputId": "9d59896d-88eb-42c9-dad2-9131b8ca238d"
      },
      "execution_count": null,
      "outputs": [
        {
          "output_type": "stream",
          "name": "stdout",
          "text": [
            "⏬ Downloading https://github.com/conda-forge/miniforge/releases/download/23.11.0-0/Mambaforge-23.11.0-0-Linux-x86_64.sh...\n",
            "📦 Installing...\n",
            "📌 Adjusting configuration...\n",
            "🩹 Patching environment...\n",
            "⏲ Done in 0:00:22\n",
            "🔁 Restarting kernel...\n"
          ]
        }
      ]
    },
    {
      "cell_type": "code",
      "source": [
        "!conda --version"
      ],
      "metadata": {
        "colab": {
          "base_uri": "https://localhost:8080/"
        },
        "id": "Q49rX0HdbZZD",
        "outputId": "55ab7092-b769-4597-bfb6-01d20d89aa9f"
      },
      "execution_count": null,
      "outputs": [
        {
          "output_type": "stream",
          "name": "stdout",
          "text": [
            "conda 23.11.0\n"
          ]
        }
      ]
    },
    {
      "cell_type": "code",
      "source": [
        "!conda install -c conda-forge -c bioconda foldseek"
      ],
      "metadata": {
        "id": "NtZGcnBNdFmY"
      },
      "execution_count": null,
      "outputs": []
    },
    {
      "cell_type": "code",
      "source": [
        "!foldseek"
      ],
      "metadata": {
        "colab": {
          "base_uri": "https://localhost:8080/"
        },
        "id": "NYJTRVwidVXH",
        "outputId": "9016f94a-68cb-413c-a26c-1c06c5f3c86c"
      },
      "execution_count": null,
      "outputs": [
        {
          "output_type": "stream",
          "name": "stdout",
          "text": [
            "Foldseek enables fast and sensitive comparisons of large structure sets. It reaches sensitivities similar to state-of-the-art structural aligners while being at least 20,000 times faster.\n",
            "\n",
            "Please cite:\n",
            "van Kempen, M., Kim, S.S., Tumescheit, C., Mirdita, M., Lee, J., Gilchrist, C.L.M., Söding, J., and Steinegger, M. Fast and accurate protein structure search with Foldseek. Nature Biotechnology, doi:10.1038/s41587-023-01773-0 (2023)\n",
            "\n",
            "foldseek Version: 9.427df8a\n",
            "© Michel van Kempen, Stephanie Kim, Charlotte Tumescheit, Milot Mirdita, Jeongjae Lee, Cameron L. M. Gilchrist, Johannes Söding, Martin Steinegger\n",
            "\n",
            "usage: foldseek <command> [<args>]\n",
            "\n",
            "Easy workflows for plain text input/output\n",
            "  easy-search       \tStructual search\n",
            "  easy-cluster      \tSlower, sensitive clustering\n",
            "  easy-rbh          \tFind reciprocal best hit\n",
            "  easy-multimersearch\tComplex level search\n",
            "  easy-complexsearch\t\n",
            "\n",
            "Main workflows for database input/output\n",
            "  createdb          \tConvert PDB/mmCIF/tar[.gz]/DB files or directory/TSV to a structure DB\n",
            "  search            \tSensitive homology search\n",
            "  rbh               \tReciprocal best hit search\n",
            "  cluster           \tSlower, sensitive clustering\n",
            "  multimersearch    \tComplex level search\n",
            "\n",
            "Input database creation\n",
            "  databases         \tList and download databases\n",
            "  createindex       \tStore precomputed index on disk to reduce search overhead\n",
            "  createclusearchdb \tBuild a searchable cluster database allowing for faster searches\n",
            "\n",
            "Format conversion for downstream processing\n",
            "  convertalis       \tConvert alignment DB to BLAST-tab, SAM or custom format\n",
            "  convert2pdb       \tConvert a foldseek structure db to a single multi model PDB file or a directory of PDB files\n",
            "  createmultimerreport\tConvert complexDB to tsv format\n",
            "  createcomplexreport\t\n",
            "\n",
            "An extended list of all modules can be obtained by calling 'foldseek -h'.\n",
            "\n"
          ]
        }
      ]
    },
    {
      "cell_type": "markdown",
      "source": [
        "### Dataset Unzip"
      ],
      "metadata": {
        "id": "ps-A3kpBiM4p"
      }
    },
    {
      "cell_type": "code",
      "source": [
        "!unzip /content/MyDrive/MyDrive/PDB_DB.zip -d /content/PDB_DB"
      ],
      "metadata": {
        "id": "hs2J_qi0iSVJ"
      },
      "execution_count": null,
      "outputs": []
    },
    {
      "cell_type": "code",
      "source": [
        "!gunzip /content/PDB_DB/content/MyDrive/MyDrive/PDB_DB/*.pdb.gz"
      ],
      "metadata": {
        "id": "1p1aZ31KiOdL"
      },
      "execution_count": null,
      "outputs": []
    },
    {
      "cell_type": "markdown",
      "source": [
        "Verifying the number of PDB files is 14014"
      ],
      "metadata": {
        "id": "ZkUI3x9I-t77"
      }
    },
    {
      "cell_type": "code",
      "source": [
        "!find /content/PDB_DB/content/MyDrive/MyDrive/PDB_DB -name \"*.pdb\" | wc -l"
      ],
      "metadata": {
        "colab": {
          "base_uri": "https://localhost:8080/"
        },
        "id": "dKE18EAd-kFJ",
        "outputId": "b5e7e1a8-055e-4c4c-f8e7-f45b876a0a59"
      },
      "execution_count": null,
      "outputs": [
        {
          "output_type": "stream",
          "name": "stdout",
          "text": [
            "14014\n"
          ]
        }
      ]
    },
    {
      "cell_type": "markdown",
      "source": [
        "### Foldseek 3DI Generation"
      ],
      "metadata": {
        "id": "aHmZTaWPd2rK"
      }
    },
    {
      "cell_type": "code",
      "source": [
        "!foldseek createdb /content/PDB_DB/content/MyDrive/MyDrive/PDB_DB queryDB"
      ],
      "metadata": {
        "id": "GfaJ7qOheAvV",
        "colab": {
          "base_uri": "https://localhost:8080/"
        },
        "outputId": "fff34061-adfc-4e24-b914-2acb45061a89"
      },
      "execution_count": null,
      "outputs": [
        {
          "output_type": "stream",
          "name": "stdout",
          "text": [
            "createdb /content/PDB_DB/content/MyDrive/MyDrive/PDB_DB queryDB \n",
            "\n",
            "MMseqs Version:        \t9.427df8a\n",
            "Path to ProstT5        \t\n",
            "Chain name mode        \t0\n",
            "Write mapping file     \t0\n",
            "Mask b-factor threshold\t0\n",
            "Coord store mode       \t2\n",
            "Write lookup file      \t1\n",
            "Input format           \t0\n",
            "File Inclusion Regex   \t.*\n",
            "File Exclusion Regex   \t^$\n",
            "Threads                \t2\n",
            "Verbosity              \t3\n",
            "\n",
            "Output file: queryDB\n",
            "[=================================================================] 100.00% 14.01K 2m 11s 607ms\n",
            "Time for merging to queryDB_ss: 0h 0m 0s 25ms\n",
            "Time for merging to queryDB_h: 0h 0m 0s 16ms\n",
            "Time for merging to queryDB_ca: 0h 0m 0s 151ms\n",
            "Time for merging to queryDB: 0h 0m 0s 31ms\n",
            "Ignore 62262 out of 102302.\n",
            "Too short: 62191, incorrect: 0, not proteins: 71.\n",
            "Time for processing: 0h 2m 12s 214ms\n"
          ]
        }
      ]
    },
    {
      "cell_type": "code",
      "source": [
        "!foldseek lndb queryDB_h queryDB_ss_h"
      ],
      "metadata": {
        "colab": {
          "base_uri": "https://localhost:8080/"
        },
        "id": "qc-Vsk9S9O0R",
        "outputId": "e04d3360-a339-42ad-cc59-03f3485d79db"
      },
      "execution_count": null,
      "outputs": [
        {
          "output_type": "stream",
          "name": "stdout",
          "text": [
            "lndb queryDB_h queryDB_ss_h \n",
            "\n",
            "MMseqs Version:\t9.427df8a\n",
            "Verbosity\t3\n",
            "\n",
            "Time for processing: 0h 0m 0s 0ms\n"
          ]
        }
      ]
    },
    {
      "cell_type": "code",
      "source": [
        "!foldseek convert2fasta queryDB_ss queryDB_ss.fasta"
      ],
      "metadata": {
        "colab": {
          "base_uri": "https://localhost:8080/"
        },
        "id": "jCUE2Ep09QVJ",
        "outputId": "f9dbee12-09d9-4c67-b1e9-9577e301ef3b"
      },
      "execution_count": null,
      "outputs": [
        {
          "output_type": "stream",
          "name": "stdout",
          "text": [
            "convert2fasta queryDB_ss queryDB_ss.fasta \n",
            "\n",
            "MMseqs Version:\t9.427df8a\n",
            "Use header DB\tfalse\n",
            "Verbosity    \t3\n",
            "\n",
            "Start writing file to queryDB_ss.fasta\n",
            "Time for processing: 0h 0m 0s 61ms\n"
          ]
        }
      ]
    },
    {
      "cell_type": "code",
      "source": [
        "!ls -lh queryDB_ss.fasta"
      ],
      "metadata": {
        "colab": {
          "base_uri": "https://localhost:8080/"
        },
        "id": "cnmo-RheCt32",
        "outputId": "8c41653a-4e47-4eb6-898a-392ec06e91c3"
      },
      "execution_count": null,
      "outputs": [
        {
          "output_type": "stream",
          "name": "stdout",
          "text": [
            "-rw-r--r-- 1 root root 14M Oct  3 01:42 queryDB_ss.fasta\n"
          ]
        }
      ]
    },
    {
      "cell_type": "code",
      "source": [
        "from google.colab import files\n",
        "files.download('queryDB_ss.fasta')"
      ],
      "metadata": {
        "colab": {
          "base_uri": "https://localhost:8080/",
          "height": 17
        },
        "id": "9L520c_KDGnB",
        "outputId": "50a3e867-c7c5-4c01-c214-3637f1a768cc"
      },
      "execution_count": null,
      "outputs": [
        {
          "output_type": "display_data",
          "data": {
            "text/plain": [
              "<IPython.core.display.Javascript object>"
            ],
            "application/javascript": [
              "\n",
              "    async function download(id, filename, size) {\n",
              "      if (!google.colab.kernel.accessAllowed) {\n",
              "        return;\n",
              "      }\n",
              "      const div = document.createElement('div');\n",
              "      const label = document.createElement('label');\n",
              "      label.textContent = `Downloading \"${filename}\": `;\n",
              "      div.appendChild(label);\n",
              "      const progress = document.createElement('progress');\n",
              "      progress.max = size;\n",
              "      div.appendChild(progress);\n",
              "      document.body.appendChild(div);\n",
              "\n",
              "      const buffers = [];\n",
              "      let downloaded = 0;\n",
              "\n",
              "      const channel = await google.colab.kernel.comms.open(id);\n",
              "      // Send a message to notify the kernel that we're ready.\n",
              "      channel.send({})\n",
              "\n",
              "      for await (const message of channel.messages) {\n",
              "        // Send a message to notify the kernel that we're ready.\n",
              "        channel.send({})\n",
              "        if (message.buffers) {\n",
              "          for (const buffer of message.buffers) {\n",
              "            buffers.push(buffer);\n",
              "            downloaded += buffer.byteLength;\n",
              "            progress.value = downloaded;\n",
              "          }\n",
              "        }\n",
              "      }\n",
              "      const blob = new Blob(buffers, {type: 'application/binary'});\n",
              "      const a = document.createElement('a');\n",
              "      a.href = window.URL.createObjectURL(blob);\n",
              "      a.download = filename;\n",
              "      div.appendChild(a);\n",
              "      a.click();\n",
              "      div.remove();\n",
              "    }\n",
              "  "
            ]
          },
          "metadata": {}
        },
        {
          "output_type": "display_data",
          "data": {
            "text/plain": [
              "<IPython.core.display.Javascript object>"
            ],
            "application/javascript": [
              "download(\"download_e0079f16-fd23-4218-8eb2-08c6ae0a5a4a\", \"queryDB_ss.fasta\", 14436888)"
            ]
          },
          "metadata": {}
        }
      ]
    },
    {
      "cell_type": "markdown",
      "metadata": {
        "id": "Ggjs-LKRUJVA"
      },
      "source": [
        "#Random code\n",
        "\n",
        "Py Script to analyze contents of .FastaFile"
      ]
    },
    {
      "cell_type": "code",
      "execution_count": null,
      "metadata": {
        "colab": {
          "base_uri": "https://localhost:8080/"
        },
        "id": "ACymgT63UU_7",
        "outputId": "baee7ed1-bdce-4f3b-886a-be998ab6103f"
      },
      "outputs": [
        {
          "name": "stdout",
          "output_type": "stream",
          "text": [
            "Collecting Bio\n",
            "  Downloading bio-1.7.1-py3-none-any.whl.metadata (5.7 kB)\n",
            "Collecting biopython>=1.80 (from Bio)\n",
            "  Downloading biopython-1.84-cp310-cp310-manylinux_2_17_x86_64.manylinux2014_x86_64.whl.metadata (12 kB)\n",
            "Collecting gprofiler-official (from Bio)\n",
            "  Downloading gprofiler_official-1.0.0-py3-none-any.whl.metadata (11 kB)\n",
            "Collecting mygene (from Bio)\n",
            "  Downloading mygene-3.2.2-py2.py3-none-any.whl.metadata (10 kB)\n",
            "Requirement already satisfied: pandas in /usr/local/lib/python3.10/dist-packages (from Bio) (2.2.2)\n",
            "Requirement already satisfied: pooch in /usr/local/lib/python3.10/dist-packages (from Bio) (1.8.2)\n",
            "Requirement already satisfied: requests in /usr/local/lib/python3.10/dist-packages (from Bio) (2.32.3)\n",
            "Requirement already satisfied: tqdm in /usr/local/lib/python3.10/dist-packages (from Bio) (4.66.5)\n",
            "Requirement already satisfied: numpy in /usr/local/lib/python3.10/dist-packages (from biopython>=1.80->Bio) (1.26.4)\n",
            "Collecting biothings-client>=0.2.6 (from mygene->Bio)\n",
            "  Downloading biothings_client-0.3.1-py2.py3-none-any.whl.metadata (9.8 kB)\n",
            "Requirement already satisfied: python-dateutil>=2.8.2 in /usr/local/lib/python3.10/dist-packages (from pandas->Bio) (2.8.2)\n",
            "Requirement already satisfied: pytz>=2020.1 in /usr/local/lib/python3.10/dist-packages (from pandas->Bio) (2024.2)\n",
            "Requirement already satisfied: tzdata>=2022.7 in /usr/local/lib/python3.10/dist-packages (from pandas->Bio) (2024.2)\n",
            "Requirement already satisfied: platformdirs>=2.5.0 in /usr/local/lib/python3.10/dist-packages (from pooch->Bio) (4.3.6)\n",
            "Requirement already satisfied: packaging>=20.0 in /usr/local/lib/python3.10/dist-packages (from pooch->Bio) (24.1)\n",
            "Requirement already satisfied: charset-normalizer<4,>=2 in /usr/local/lib/python3.10/dist-packages (from requests->Bio) (3.3.2)\n",
            "Requirement already satisfied: idna<4,>=2.5 in /usr/local/lib/python3.10/dist-packages (from requests->Bio) (3.10)\n",
            "Requirement already satisfied: urllib3<3,>=1.21.1 in /usr/local/lib/python3.10/dist-packages (from requests->Bio) (2.2.3)\n",
            "Requirement already satisfied: certifi>=2017.4.17 in /usr/local/lib/python3.10/dist-packages (from requests->Bio) (2024.8.30)\n",
            "Requirement already satisfied: six>=1.5 in /usr/local/lib/python3.10/dist-packages (from python-dateutil>=2.8.2->pandas->Bio) (1.16.0)\n",
            "Downloading bio-1.7.1-py3-none-any.whl (280 kB)\n",
            "\u001b[2K   \u001b[90m━━━━━━━━━━━━━━━━━━━━━━━━━━━━━━━━━━━━━━━━\u001b[0m \u001b[32m281.0/281.0 kB\u001b[0m \u001b[31m6.3 MB/s\u001b[0m eta \u001b[36m0:00:00\u001b[0m\n",
            "\u001b[?25hDownloading biopython-1.84-cp310-cp310-manylinux_2_17_x86_64.manylinux2014_x86_64.whl (3.2 MB)\n",
            "\u001b[2K   \u001b[90m━━━━━━━━━━━━━━━━━━━━━━━━━━━━━━━━━━━━━━━━\u001b[0m \u001b[32m3.2/3.2 MB\u001b[0m \u001b[31m40.5 MB/s\u001b[0m eta \u001b[36m0:00:00\u001b[0m\n",
            "\u001b[?25hDownloading gprofiler_official-1.0.0-py3-none-any.whl (9.3 kB)\n",
            "Downloading mygene-3.2.2-py2.py3-none-any.whl (5.4 kB)\n",
            "Downloading biothings_client-0.3.1-py2.py3-none-any.whl (29 kB)\n",
            "Installing collected packages: biopython, gprofiler-official, biothings-client, mygene, Bio\n",
            "Successfully installed Bio-1.7.1 biopython-1.84 biothings-client-0.3.1 gprofiler-official-1.0.0 mygene-3.2.2\n"
          ]
        }
      ],
      "source": [
        "pip install Bio"
      ]
    },
    {
      "cell_type": "code",
      "execution_count": null,
      "metadata": {
        "colab": {
          "base_uri": "https://localhost:8080/"
        },
        "id": "yUyG8W3RUOV2",
        "outputId": "6282b7e7-46fe-45a6-9366-d6072fd98104"
      },
      "outputs": [
        {
          "name": "stdout",
          "output_type": "stream",
          "text": [
            "ID: 2Y2X_1|Chains\n",
            "Sequence: AEGGFLEDAKTDLVLRNYYFNRDFRDHDAGKSLVDEWAQGFILKFSSGYTPGTVGVGLDAIGLFGVKLNSGRGTSNSELLPLHDDGRAADNYGRVGVAAKLRVSASELKIGEMLPDIPLLRYDDGRLLPQTFRGFAVVSRELPGLALQAGRFDAVSLRNSADMQDLSAWSAPTQKSDGFNYAGAEYRFNRERTQLGLWHGQLEDVYRQSYANLLHKQRVGDWTLGANLGLFVDRDDGAARAGEIDSHTVYGLFSAGIGLHTFYLGLQKVGGDSGWQSVYGSSGRSMGNDMFNGNFTNADERSWQVRYDYDFVGLGWPGLIGMVRYGHGSNATTKAGSGGKEWERDVELGYTVQSGPLARLNVRLNHASNRRSFNSDFDQTRLVVSYPLSW\n",
            "ID: 2Y24_1|Chain\n",
            "Sequence: DTVKIDANVNYQIIQGFGGMSGVGWINDLTTEQINTAYGSGVGQIGLSIMRVRIDPDSSKWNIQLPSARQAVSLGAKIMATPWSPPAYMKSNNSLINGGRLLPANYSAYTSHLLDFSKYMQTNGAPLYAISIQNEPDWKPDYESCEWSGDEFKSYLKSQGSKFGSLKVIVAESLGFNPALTDPVLKDSDASKYVSIIGGHLYGTTPKPYPLAQNAGKQLWMTEHYVDSKQSANNWTSAIEVGTELNASMVSNYSAYVWWYIRRSYGLLTEDGKVSKRGYVMSQYARFVRPGALRIQATENPQSNVHLTAYKNTDGKMVIVAVNTNDSDQMLSLNISNANVTKFEKYSTSASLNVEYGGSSQVDSSGKATVWLNPLSVTTFVSK\n",
            "ID: 2Y2M_1|Chain\n",
            "Sequence: DISSISEITYSDGTVIASIESDLLRQDFLPSGTVTGISRDYLYFTTLAEAQERMYDYLAQRDNVSAKELKNEATQKFYRDLAAKEIENGGYKITTTIDQKIHSAMQSAVADYGYLLDDGTGRVEVGNVLMDNQTGAILGFVGGRNYQENQNNHAFDTKRSPASTTKPLLAYGIAIDQGLMGSETILSNYPTNFANGNPIMYANSKGTGMMTLGEALNYSWNIPAYWTYRMLRENGVDVKGYMEKMGYEIPEYGIESLPMGGGIEVTVAQHTNGYQTLANNGVYHQKHVISKIEAADGRVVYEYQDKPVQVYSKATATIMQGLLREVLSSRVTTTFKSNLTSLNPTLANADWIGKTGTTGQDENMWLMLSTPRLTLGGWIGHDDNHSLSQQAGYSNNSNYMAHLVNAIQQASPSIWGNERFALDPSVVKSEVLKSTGQKPGKVSVEGKEVEVTGSTVTSYWANKSGAPATSYRFAIGGSDADYQNAWSSIVGSLP\n"
          ]
        }
      ],
      "source": [
        "from Bio import SeqIO\n",
        "\n",
        "# Read the FASTA file\n",
        "for record in SeqIO.parse(\"/content/rcsb_pdb_20241002103123.fasta\", \"fasta\"):\n",
        "    print(f\"ID: {record.id}\")\n",
        "    print(f\"Sequence: {record.seq}\")"
      ]
    },
    {
      "cell_type": "code",
      "execution_count": null,
      "metadata": {
        "colab": {
          "base_uri": "https://localhost:8080/"
        },
        "id": "J1e-CxqgUFXU",
        "outputId": "06aadd3d-c300-41a5-fdb2-c9a03505a2fb"
      },
      "outputs": [
        {
          "name": "stdout",
          "output_type": "stream",
          "text": [
            "The sequence is likely a 3DI sequence.\n"
          ]
        }
      ],
      "source": [
        "# prompt: Is the above a 3DI sequence\n",
        "\n",
        "from Bio import SeqIO\n",
        "from Bio.SeqUtils.ProtParam import ProteinAnalysis\n",
        "\n",
        "# Read the FASTA file\n",
        "for record in SeqIO.parse(\"/content/rcsb_pdb_20241002103123.fasta\", \"fasta\"):\n",
        "    # Analyze the sequence to check if it's a 3DI sequence (protein sequence)\n",
        "    try:\n",
        "        analyzed_seq = ProteinAnalysis(str(record.seq))\n",
        "        # If the analysis is successful, it's likely a protein sequence (3DI)\n",
        "        print(f\"The sequence is likely a 3DI sequence.\")\n",
        "        break  # Assuming only one sequence is in the file\n",
        "    except:\n",
        "        print(f\"The sequence is likely not a 3DI sequence.\")\n",
        "        break  # Assuming only one sequence is in the file\n"
      ]
    },
    {
      "cell_type": "code",
      "execution_count": null,
      "metadata": {
        "id": "Q9hapyhxU6w3"
      },
      "outputs": [],
      "source": []
    },
    {
      "cell_type": "code",
      "source": [],
      "metadata": {
        "id": "o2z5Gl9HalsE"
      },
      "execution_count": null,
      "outputs": []
    }
  ],
  "metadata": {
    "colab": {
      "provenance": [],
      "include_colab_link": true
    },
    "kernelspec": {
      "display_name": "Python 3",
      "name": "python3"
    },
    "language_info": {
      "name": "python"
    }
  },
  "nbformat": 4,
  "nbformat_minor": 0
}